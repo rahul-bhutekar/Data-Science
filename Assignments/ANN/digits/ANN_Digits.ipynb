{
  "nbformat": 4,
  "nbformat_minor": 0,
  "metadata": {
    "colab": {
      "provenance": [],
      "gpuType": "T4"
    },
    "kernelspec": {
      "name": "python3",
      "display_name": "Python 3"
    },
    "language_info": {
      "name": "python"
    },
    "accelerator": "GPU"
  },
  "cells": [
    {
      "cell_type": "markdown",
      "source": [
        "# ANN Assignment - Digits"
      ],
      "metadata": {
        "id": "5g_RlE6jCgVa"
      }
    },
    {
      "cell_type": "markdown",
      "source": [
        "unistalling the current version of the tensorflow because it is returning an error for ***keras.wrappers*** library. ***tensorflow 2.12.0*** executes with the same library successfully hence installing this version of tensorflow.\n",
        "\n",
        "\n"
      ],
      "metadata": {
        "id": "tOcRDWrzr7bO"
      }
    },
    {
      "cell_type": "code",
      "source": [
        "!pip uninstall tensorflow\n",
        "!pip install tensorflow==2.12.0"
      ],
      "metadata": {
        "colab": {
          "base_uri": "https://localhost:8080/"
        },
        "id": "lYbEfOn9Y7db",
        "outputId": "1da30161-b6c6-4c4d-e6cf-93fec3b59abd"
      },
      "execution_count": 1,
      "outputs": [
        {
          "output_type": "stream",
          "name": "stdout",
          "text": [
            "Found existing installation: tensorflow 2.12.0\n",
            "Uninstalling tensorflow-2.12.0:\n",
            "  Would remove:\n",
            "    /usr/local/bin/estimator_ckpt_converter\n",
            "    /usr/local/bin/import_pb_to_tensorboard\n",
            "    /usr/local/bin/saved_model_cli\n",
            "    /usr/local/bin/tensorboard\n",
            "    /usr/local/bin/tf_upgrade_v2\n",
            "    /usr/local/bin/tflite_convert\n",
            "    /usr/local/bin/toco\n",
            "    /usr/local/bin/toco_from_protos\n",
            "    /usr/local/lib/python3.10/dist-packages/tensorflow-2.12.0.dist-info/*\n",
            "    /usr/local/lib/python3.10/dist-packages/tensorflow/*\n",
            "Proceed (Y/n)? y\n",
            "  Successfully uninstalled tensorflow-2.12.0\n",
            "Collecting tensorflow==2.12.0\n",
            "  Using cached tensorflow-2.12.0-cp310-cp310-manylinux_2_17_x86_64.manylinux2014_x86_64.whl (585.9 MB)\n",
            "Requirement already satisfied: absl-py>=1.0.0 in /usr/local/lib/python3.10/dist-packages (from tensorflow==2.12.0) (1.4.0)\n",
            "Requirement already satisfied: astunparse>=1.6.0 in /usr/local/lib/python3.10/dist-packages (from tensorflow==2.12.0) (1.6.3)\n",
            "Requirement already satisfied: flatbuffers>=2.0 in /usr/local/lib/python3.10/dist-packages (from tensorflow==2.12.0) (24.3.25)\n",
            "Requirement already satisfied: gast<=0.4.0,>=0.2.1 in /usr/local/lib/python3.10/dist-packages (from tensorflow==2.12.0) (0.4.0)\n",
            "Requirement already satisfied: google-pasta>=0.1.1 in /usr/local/lib/python3.10/dist-packages (from tensorflow==2.12.0) (0.2.0)\n",
            "Requirement already satisfied: grpcio<2.0,>=1.24.3 in /usr/local/lib/python3.10/dist-packages (from tensorflow==2.12.0) (1.62.1)\n",
            "Requirement already satisfied: h5py>=2.9.0 in /usr/local/lib/python3.10/dist-packages (from tensorflow==2.12.0) (3.9.0)\n",
            "Requirement already satisfied: jax>=0.3.15 in /usr/local/lib/python3.10/dist-packages (from tensorflow==2.12.0) (0.4.26)\n",
            "Requirement already satisfied: keras<2.13,>=2.12.0 in /usr/local/lib/python3.10/dist-packages (from tensorflow==2.12.0) (2.12.0)\n",
            "Requirement already satisfied: libclang>=13.0.0 in /usr/local/lib/python3.10/dist-packages (from tensorflow==2.12.0) (18.1.1)\n",
            "Requirement already satisfied: numpy<1.24,>=1.22 in /usr/local/lib/python3.10/dist-packages (from tensorflow==2.12.0) (1.23.5)\n",
            "Requirement already satisfied: opt-einsum>=2.3.2 in /usr/local/lib/python3.10/dist-packages (from tensorflow==2.12.0) (3.3.0)\n",
            "Requirement already satisfied: packaging in /usr/local/lib/python3.10/dist-packages (from tensorflow==2.12.0) (24.0)\n",
            "Requirement already satisfied: protobuf!=4.21.0,!=4.21.1,!=4.21.2,!=4.21.3,!=4.21.4,!=4.21.5,<5.0.0dev,>=3.20.3 in /usr/local/lib/python3.10/dist-packages (from tensorflow==2.12.0) (3.20.3)\n",
            "Requirement already satisfied: setuptools in /usr/local/lib/python3.10/dist-packages (from tensorflow==2.12.0) (67.7.2)\n",
            "Requirement already satisfied: six>=1.12.0 in /usr/local/lib/python3.10/dist-packages (from tensorflow==2.12.0) (1.16.0)\n",
            "Requirement already satisfied: tensorboard<2.13,>=2.12 in /usr/local/lib/python3.10/dist-packages (from tensorflow==2.12.0) (2.12.3)\n",
            "Requirement already satisfied: tensorflow-estimator<2.13,>=2.12.0 in /usr/local/lib/python3.10/dist-packages (from tensorflow==2.12.0) (2.12.0)\n",
            "Requirement already satisfied: termcolor>=1.1.0 in /usr/local/lib/python3.10/dist-packages (from tensorflow==2.12.0) (2.4.0)\n",
            "Requirement already satisfied: typing-extensions>=3.6.6 in /usr/local/lib/python3.10/dist-packages (from tensorflow==2.12.0) (4.11.0)\n",
            "Requirement already satisfied: wrapt<1.15,>=1.11.0 in /usr/local/lib/python3.10/dist-packages (from tensorflow==2.12.0) (1.14.1)\n",
            "Requirement already satisfied: tensorflow-io-gcs-filesystem>=0.23.1 in /usr/local/lib/python3.10/dist-packages (from tensorflow==2.12.0) (0.36.0)\n",
            "Requirement already satisfied: wheel<1.0,>=0.23.0 in /usr/local/lib/python3.10/dist-packages (from astunparse>=1.6.0->tensorflow==2.12.0) (0.43.0)\n",
            "Requirement already satisfied: ml-dtypes>=0.2.0 in /usr/local/lib/python3.10/dist-packages (from jax>=0.3.15->tensorflow==2.12.0) (0.2.0)\n",
            "Requirement already satisfied: scipy>=1.9 in /usr/local/lib/python3.10/dist-packages (from jax>=0.3.15->tensorflow==2.12.0) (1.11.4)\n",
            "Requirement already satisfied: google-auth<3,>=1.6.3 in /usr/local/lib/python3.10/dist-packages (from tensorboard<2.13,>=2.12->tensorflow==2.12.0) (2.27.0)\n",
            "Requirement already satisfied: google-auth-oauthlib<1.1,>=0.5 in /usr/local/lib/python3.10/dist-packages (from tensorboard<2.13,>=2.12->tensorflow==2.12.0) (1.0.0)\n",
            "Requirement already satisfied: markdown>=2.6.8 in /usr/local/lib/python3.10/dist-packages (from tensorboard<2.13,>=2.12->tensorflow==2.12.0) (3.6)\n",
            "Requirement already satisfied: requests<3,>=2.21.0 in /usr/local/lib/python3.10/dist-packages (from tensorboard<2.13,>=2.12->tensorflow==2.12.0) (2.31.0)\n",
            "Requirement already satisfied: tensorboard-data-server<0.8.0,>=0.7.0 in /usr/local/lib/python3.10/dist-packages (from tensorboard<2.13,>=2.12->tensorflow==2.12.0) (0.7.2)\n",
            "Requirement already satisfied: werkzeug>=1.0.1 in /usr/local/lib/python3.10/dist-packages (from tensorboard<2.13,>=2.12->tensorflow==2.12.0) (3.0.2)\n",
            "Requirement already satisfied: cachetools<6.0,>=2.0.0 in /usr/local/lib/python3.10/dist-packages (from google-auth<3,>=1.6.3->tensorboard<2.13,>=2.12->tensorflow==2.12.0) (5.3.3)\n",
            "Requirement already satisfied: pyasn1-modules>=0.2.1 in /usr/local/lib/python3.10/dist-packages (from google-auth<3,>=1.6.3->tensorboard<2.13,>=2.12->tensorflow==2.12.0) (0.4.0)\n",
            "Requirement already satisfied: rsa<5,>=3.1.4 in /usr/local/lib/python3.10/dist-packages (from google-auth<3,>=1.6.3->tensorboard<2.13,>=2.12->tensorflow==2.12.0) (4.9)\n",
            "Requirement already satisfied: requests-oauthlib>=0.7.0 in /usr/local/lib/python3.10/dist-packages (from google-auth-oauthlib<1.1,>=0.5->tensorboard<2.13,>=2.12->tensorflow==2.12.0) (1.3.1)\n",
            "Requirement already satisfied: charset-normalizer<4,>=2 in /usr/local/lib/python3.10/dist-packages (from requests<3,>=2.21.0->tensorboard<2.13,>=2.12->tensorflow==2.12.0) (3.3.2)\n",
            "Requirement already satisfied: idna<4,>=2.5 in /usr/local/lib/python3.10/dist-packages (from requests<3,>=2.21.0->tensorboard<2.13,>=2.12->tensorflow==2.12.0) (3.7)\n",
            "Requirement already satisfied: urllib3<3,>=1.21.1 in /usr/local/lib/python3.10/dist-packages (from requests<3,>=2.21.0->tensorboard<2.13,>=2.12->tensorflow==2.12.0) (2.0.7)\n",
            "Requirement already satisfied: certifi>=2017.4.17 in /usr/local/lib/python3.10/dist-packages (from requests<3,>=2.21.0->tensorboard<2.13,>=2.12->tensorflow==2.12.0) (2024.2.2)\n",
            "Requirement already satisfied: MarkupSafe>=2.1.1 in /usr/local/lib/python3.10/dist-packages (from werkzeug>=1.0.1->tensorboard<2.13,>=2.12->tensorflow==2.12.0) (2.1.5)\n",
            "Requirement already satisfied: pyasn1<0.7.0,>=0.4.6 in /usr/local/lib/python3.10/dist-packages (from pyasn1-modules>=0.2.1->google-auth<3,>=1.6.3->tensorboard<2.13,>=2.12->tensorflow==2.12.0) (0.6.0)\n",
            "Requirement already satisfied: oauthlib>=3.0.0 in /usr/local/lib/python3.10/dist-packages (from requests-oauthlib>=0.7.0->google-auth-oauthlib<1.1,>=0.5->tensorboard<2.13,>=2.12->tensorflow==2.12.0) (3.2.2)\n",
            "Installing collected packages: tensorflow\n",
            "\u001b[31mERROR: pip's dependency resolver does not currently take into account all the packages that are installed. This behaviour is the source of the following dependency conflicts.\n",
            "tf-keras 2.15.1 requires tensorflow<2.16,>=2.15, but you have tensorflow 2.12.0 which is incompatible.\u001b[0m\u001b[31m\n",
            "\u001b[0mSuccessfully installed tensorflow-2.12.0\n"
          ]
        }
      ]
    },
    {
      "cell_type": "code",
      "execution_count": 1,
      "metadata": {
        "id": "MmVQiZrICLXF"
      },
      "outputs": [],
      "source": [
        "#load basic library\n",
        "import numpy as np\n",
        "from sklearn.datasets import load_digits\n",
        "\n",
        "# load the digits dataset\n",
        "digits = load_digits()\n",
        "# digits\n",
        "# digits['data']\n",
        "# digits['target']\n",
        "# digits['images']\n",
        "# digits.data\n",
        "# digits.target"
      ]
    },
    {
      "cell_type": "code",
      "source": [
        "# splitting the dataset into train and test sets\n",
        "from sklearn.model_selection import train_test_split\n",
        "\n",
        "X_train, X_test, y_train, y_test = train_test_split(digits.data, digits.target, test_size=0.25, random_state=42)"
      ],
      "metadata": {
        "id": "1v8xmqeyCtEH"
      },
      "execution_count": 2,
      "outputs": []
    },
    {
      "cell_type": "code",
      "source": [
        "X_train.shape"
      ],
      "metadata": {
        "colab": {
          "base_uri": "https://localhost:8080/"
        },
        "id": "tnZR9hezMelz",
        "outputId": "a5fcc821-7a9a-4b00-95aa-004ce9595aa9"
      },
      "execution_count": 3,
      "outputs": [
        {
          "output_type": "execute_result",
          "data": {
            "text/plain": [
              "(1347, 64)"
            ]
          },
          "metadata": {},
          "execution_count": 3
        }
      ]
    },
    {
      "cell_type": "code",
      "source": [
        "X_train"
      ],
      "metadata": {
        "colab": {
          "base_uri": "https://localhost:8080/"
        },
        "id": "sqcwiKt-NT1X",
        "outputId": "cc560f40-f6d0-43a3-cb6e-603fc10856e4"
      },
      "execution_count": 4,
      "outputs": [
        {
          "output_type": "execute_result",
          "data": {
            "text/plain": [
              "array([[ 0.,  0.,  2., ...,  0.,  0.,  0.],\n",
              "       [ 0.,  5., 16., ...,  6.,  1.,  0.],\n",
              "       [ 0.,  0.,  4., ...,  2.,  0.,  0.],\n",
              "       ...,\n",
              "       [ 0.,  0.,  9., ..., 16.,  2.,  0.],\n",
              "       [ 0.,  0.,  1., ...,  0.,  0.,  0.],\n",
              "       [ 0.,  0.,  1., ...,  1.,  0.,  0.]])"
            ]
          },
          "metadata": {},
          "execution_count": 4
        }
      ]
    },
    {
      "cell_type": "markdown",
      "source": [
        "---\n",
        "\n",
        "* The fit_transform method combines two steps: fitting the scaler to the data and transforming the data.\n",
        "* When you call fit_transform on a dataset, the scaler learns the parameters (mean and standard deviation) from the data and then transforms the data based on those parameters.\n",
        "* The transform method applies a transformation to the data based on the parameters learned during the fitting step.\n",
        "* When you call transform on a dataset, it applies the transformation using the parameters learned during the fit step.\n",
        "\n",
        "By using fit_transform on the training dataset and transform on the test dataset, we ensure that the scaling is consistent across both datasets and that the model is evaluated on data that has been transformed in the same way as the training data. This helps prevent bias and ensures fair evaluation of the model's performance on unseen data."
      ],
      "metadata": {
        "id": "W17UT6FOzwEw"
      }
    },
    {
      "cell_type": "code",
      "source": [
        "# implementing standardization\n",
        "from sklearn.preprocessing import StandardScaler\n",
        "\n",
        "scaler = StandardScaler()\n",
        "X_train_scaled = scaler.fit_transform(X_train)\n",
        "X_test_scaled = scaler.transform(X_test)\n",
        "X_train_scaled"
      ],
      "metadata": {
        "colab": {
          "base_uri": "https://localhost:8080/"
        },
        "id": "jhNEziO2MlmB",
        "outputId": "21f57a37-7514-4105-acee-f99acbca6dd2"
      },
      "execution_count": 5,
      "outputs": [
        {
          "output_type": "execute_result",
          "data": {
            "text/plain": [
              "array([[ 0.        , -0.34658389, -0.67111503, ..., -1.15783495,\n",
              "        -0.50770266, -0.19895848],\n",
              "       [ 0.        ,  5.19793507,  2.23828434, ..., -0.13881915,\n",
              "        -0.26774635, -0.19895848],\n",
              "       [ 0.        , -0.34658389, -0.25548655, ..., -0.81816302,\n",
              "        -0.50770266, -0.19895848],\n",
              "       ...,\n",
              "       [ 0.        , -0.34658389,  0.78358465, ...,  1.55954051,\n",
              "        -0.02779004, -0.19895848],\n",
              "       [ 0.        , -0.34658389, -0.87892927, ..., -1.15783495,\n",
              "        -0.50770266, -0.19895848],\n",
              "       [ 0.        , -0.34658389, -0.87892927, ..., -0.98799898,\n",
              "        -0.50770266, -0.19895848]])"
            ]
          },
          "metadata": {},
          "execution_count": 5
        }
      ]
    },
    {
      "cell_type": "code",
      "source": [
        "from tensorflow.keras.models import Sequential\n",
        "from tensorflow.keras.layers import Dense\n",
        "\n",
        "def create_model(hidden_layer_sizes, activation='relu', alpha=0.0001):\n",
        "  model = Sequential() # create a Sequential model\n",
        "  model.add( Dense( hidden_layer_sizes[0], activation=activation, input_shape=( X_train.shape[1],) ) ) # first hidden layer\n",
        "\n",
        "  for units in hidden_layer_sizes[1:]:\n",
        "    model.add(Dense(units, activation=activation)) # additional hidden layers\n",
        "\n",
        "  model.add(Dense(10, activation='softmax')) # last hidden layer\n",
        "\n",
        "  model.compile(optimizer='adam', loss='sparse_categorical_crossentropy', metrics=['accuracy']) # model compilation\n",
        "  return model"
      ],
      "metadata": {
        "id": "1ibMG032NiJE"
      },
      "execution_count": 6,
      "outputs": []
    },
    {
      "cell_type": "code",
      "source": [
        "# !pip install scikeras\n",
        "\n",
        "# from scikeras.wrappers import KerasClassifier"
      ],
      "metadata": {
        "id": "8rrW7B0oVv3c"
      },
      "execution_count": 8,
      "outputs": []
    },
    {
      "cell_type": "markdown",
      "source": [
        "scikit-learn's API expects estimators to implement certain methods (fit, predict, etc.), which are not directly provided by Keras models. The ***KerasClassifier*** wraps the Keras model and implements these methods to make it compatible with scikit-learn's API, allowing seamless integration with scikit-learn's utilities."
      ],
      "metadata": {
        "id": "dcY32CdvwcbN"
      }
    },
    {
      "cell_type": "code",
      "source": [
        "# using KerasClassifier wrapper to use with GridSearchCV\n",
        "from tensorflow.keras.wrappers.scikit_learn import KerasClassifier\n",
        "\n",
        "model = KerasClassifier(build_fn=create_model, verbose=0)"
      ],
      "metadata": {
        "colab": {
          "base_uri": "https://localhost:8080/"
        },
        "id": "2HG4Ltm-QPxm",
        "outputId": "75e115e2-4469-4368-baff-a4b372f1ad7e"
      },
      "execution_count": 7,
      "outputs": [
        {
          "output_type": "stream",
          "name": "stderr",
          "text": [
            "<ipython-input-7-dfca114c76ee>:4: DeprecationWarning: KerasClassifier is deprecated, use Sci-Keras (https://github.com/adriangb/scikeras) instead. See https://www.adriangb.com/scikeras/stable/migration.html for help migrating.\n",
            "  model = KerasClassifier(build_fn=create_model, verbose=0)\n"
          ]
        }
      ]
    },
    {
      "cell_type": "code",
      "source": [
        "# setup hyperparameter grid for tuning\n",
        "param_grid = {\n",
        "    'hidden_layer_sizes': [(100,), (50, 50), (50, 100, 50)], # neurons in each layer\n",
        "    'activation': ['relu'], # different activation functions\n",
        "    # 'activation': ['relu', 'tanh', 'sigmoid'], # different activation functions\n",
        "    # 'alpha': [0.0001, 0.001, 0.01], #\n",
        "    'epochs': [10, 20, 15],  # number of epochs\n",
        "    'batch_size': [16, 32, 64]  # batch size\n",
        "}"
      ],
      "metadata": {
        "id": "EihW-At8WvXk"
      },
      "execution_count": 8,
      "outputs": []
    },
    {
      "cell_type": "markdown",
      "source": [
        "***GridSearchCV*** doesn't directly store the training history for each model it evaluates during the hyperparameter search. It only keeps track of the best model's information.\n",
        "\n",
        "That is why we can create a custom callback function that collects the training metrics during each epoch.\n",
        "\n",
        "---\n",
        "\n"
      ],
      "metadata": {
        "id": "52f10AzT7mTn"
      }
    },
    {
      "cell_type": "markdown",
      "source": [
        "**1. Custom Callback Class (`HistoryTracker`):**\n",
        "\n",
        "This class inherits from `keras.callbacks.Callback`. Callbacks are essentially functions you can register with the Keras model to be invoked at specific points during the training process.\n",
        "\n",
        "`__init__(self)`: This is the constructor of the class. It gets called whenever you create an instance of `HistoryTracker`. Here, it initializes an empty list named `self.histories` to store the training histories captured later.\n",
        "\n",
        "`on_train_end(self, logs=None)`: This method is one of the callback methods inherited from `keras.callbacks.Callback`. It gets called at the end of each training epoch (iteration).\n",
        "\n",
        "* Inside this method, it retrieves the current model's training history using `self.model.history.history`. This attribute holds a dictionary containing the training metrics (like accuracy, loss) for each epoch.\n",
        "* The retrieved history is then appended to the `self.histories` list using the `append` method.\n",
        "\n",
        "**2. Creating and Using the Callback:**\n",
        "\n",
        "`history_tracker = HistoryTracker()`: This line creates an instance of the `HistoryTracker`` class, essentially creating a new callback object.\n",
        "\n",
        "`grid_search.fit(..., callbacks=[history_tracker])`: Here, you pass the `history_tracker` instance as part of the `callbacks` argument to the `grid_search.fit method`. This tells **GridSearchCV** to use this callback during the model fitting process for each hyperparameter configuration.\n",
        "\n",
        "**3. Accessing Captured Histories:**\n",
        "\n",
        "`all_history = history_tracker.histories`: After the GridSearchCV finishes evaluating all models, you can access the captured training histories. This line retrieves the list of histories stored in the callback object's `histories` attribute and assigns it to the variable `all_history`.\n",
        "\n",
        "--\n",
        "Now, `all_history` will be a list where each element represents the training history (containing metrics like accuracy and loss) for a specific model evaluated during the GridSearchCV process. You can then iterate through this list and extract the desired metrics (accuracy, validation accuracy) to plot them.\n",
        "\n",
        "---"
      ],
      "metadata": {
        "id": "opKDONhpDTpq"
      }
    },
    {
      "cell_type": "code",
      "source": [
        "from tensorflow.keras.callbacks import Callback\n",
        "\n",
        "class HistoryTracker(Callback):\n",
        "  def __init__(self):\n",
        "    self.histories = []\n",
        "\n",
        "  def on_train_end(self, logs=None):\n",
        "    self.histories.append(self.model.history.history)\n",
        "\n",
        "# Create the callback instance\n",
        "history_tracker = HistoryTracker()"
      ],
      "metadata": {
        "id": "yL-PYBFy-TvK"
      },
      "execution_count": 9,
      "outputs": []
    },
    {
      "cell_type": "code",
      "source": [
        "from sklearn.model_selection import GridSearchCV\n",
        "\n",
        "# perform hyperparameter tuning using GridSearchCV\n",
        "grid_search = GridSearchCV(estimator=model, param_grid=param_grid, cv=3, verbose=2, scoring='accuracy')\n",
        "# grid_search.fit(X_train_scaled, y_train, validation_data=(X_test_scaled, y_test))\n",
        "grid_search.fit(X_train_scaled, y_train, validation_data=(X_test_scaled, y_test), callbacks=[history_tracker])"
      ],
      "metadata": {
        "colab": {
          "base_uri": "https://localhost:8080/",
          "height": 1000
        },
        "id": "x7WBK-caZ2sT",
        "outputId": "573956a0-41ae-45dd-deea-e05f1a804bb9"
      },
      "execution_count": 10,
      "outputs": [
        {
          "output_type": "stream",
          "name": "stdout",
          "text": [
            "Fitting 3 folds for each of 27 candidates, totalling 81 fits\n",
            "15/15 [==============================] - 0s 2ms/step\n",
            "[CV] END activation=relu, batch_size=16, epochs=10, hidden_layer_sizes=(100,); total time=   6.9s\n",
            "15/15 [==============================] - 0s 3ms/step\n",
            "[CV] END activation=relu, batch_size=16, epochs=10, hidden_layer_sizes=(100,); total time=   5.4s\n",
            "15/15 [==============================] - 0s 3ms/step\n",
            "[CV] END activation=relu, batch_size=16, epochs=10, hidden_layer_sizes=(100,); total time=   4.7s\n",
            "15/15 [==============================] - 0s 2ms/step\n",
            "[CV] END activation=relu, batch_size=16, epochs=10, hidden_layer_sizes=(50, 50); total time=   3.6s\n",
            "15/15 [==============================] - 0s 1ms/step\n",
            "[CV] END activation=relu, batch_size=16, epochs=10, hidden_layer_sizes=(50, 50); total time=   2.8s\n",
            "15/15 [==============================] - 0s 2ms/step\n",
            "[CV] END activation=relu, batch_size=16, epochs=10, hidden_layer_sizes=(50, 50); total time=   2.6s\n",
            "15/15 [==============================] - 0s 3ms/step\n",
            "[CV] END activation=relu, batch_size=16, epochs=10, hidden_layer_sizes=(50, 100, 50); total time=   2.9s\n",
            "15/15 [==============================] - 0s 1ms/step\n",
            "[CV] END activation=relu, batch_size=16, epochs=10, hidden_layer_sizes=(50, 100, 50); total time=   4.0s\n",
            "15/15 [==============================] - 0s 2ms/step\n",
            "[CV] END activation=relu, batch_size=16, epochs=10, hidden_layer_sizes=(50, 100, 50); total time=   2.9s\n",
            "15/15 [==============================] - 0s 2ms/step\n",
            "[CV] END activation=relu, batch_size=16, epochs=20, hidden_layer_sizes=(100,); total time=   4.0s\n",
            "15/15 [==============================] - 0s 2ms/step\n",
            "[CV] END activation=relu, batch_size=16, epochs=20, hidden_layer_sizes=(100,); total time=   4.7s\n",
            "15/15 [==============================] - 0s 2ms/step\n",
            "[CV] END activation=relu, batch_size=16, epochs=20, hidden_layer_sizes=(100,); total time=   5.9s\n",
            "15/15 [==============================] - 0s 3ms/step\n",
            "[CV] END activation=relu, batch_size=16, epochs=20, hidden_layer_sizes=(50, 50); total time=   4.9s\n",
            "15/15 [==============================] - 0s 2ms/step\n",
            "[CV] END activation=relu, batch_size=16, epochs=20, hidden_layer_sizes=(50, 50); total time=   6.1s\n",
            "15/15 [==============================] - 0s 1ms/step\n",
            "[CV] END activation=relu, batch_size=16, epochs=20, hidden_layer_sizes=(50, 50); total time=   6.6s\n",
            "15/15 [==============================] - 0s 2ms/step\n",
            "[CV] END activation=relu, batch_size=16, epochs=20, hidden_layer_sizes=(50, 100, 50); total time=   4.5s\n",
            "15/15 [==============================] - 0s 2ms/step\n",
            "[CV] END activation=relu, batch_size=16, epochs=20, hidden_layer_sizes=(50, 100, 50); total time=   4.6s\n",
            "15/15 [==============================] - 0s 2ms/step\n",
            "[CV] END activation=relu, batch_size=16, epochs=20, hidden_layer_sizes=(50, 100, 50); total time=   6.6s\n",
            "15/15 [==============================] - 0s 1ms/step\n",
            "[CV] END activation=relu, batch_size=16, epochs=15, hidden_layer_sizes=(100,); total time=   3.3s\n",
            "15/15 [==============================] - 0s 2ms/step\n",
            "[CV] END activation=relu, batch_size=16, epochs=15, hidden_layer_sizes=(100,); total time=   3.3s\n",
            "15/15 [==============================] - 0s 2ms/step\n",
            "[CV] END activation=relu, batch_size=16, epochs=15, hidden_layer_sizes=(100,); total time=   6.1s\n",
            "15/15 [==============================] - 0s 2ms/step\n",
            "[CV] END activation=relu, batch_size=16, epochs=15, hidden_layer_sizes=(50, 50); total time=   3.4s\n",
            "15/15 [==============================] - 0s 2ms/step\n",
            "[CV] END activation=relu, batch_size=16, epochs=15, hidden_layer_sizes=(50, 50); total time=   4.6s\n",
            "15/15 [==============================] - 0s 2ms/step\n",
            "[CV] END activation=relu, batch_size=16, epochs=15, hidden_layer_sizes=(50, 50); total time=   4.2s\n",
            "15/15 [==============================] - 0s 2ms/step\n",
            "[CV] END activation=relu, batch_size=16, epochs=15, hidden_layer_sizes=(50, 100, 50); total time=   3.7s\n",
            "15/15 [==============================] - 0s 2ms/step\n",
            "[CV] END activation=relu, batch_size=16, epochs=15, hidden_layer_sizes=(50, 100, 50); total time=   4.5s\n",
            "15/15 [==============================] - 0s 2ms/step\n",
            "[CV] END activation=relu, batch_size=16, epochs=15, hidden_layer_sizes=(50, 100, 50); total time=   6.8s\n",
            "15/15 [==============================] - 0s 2ms/step\n",
            "[CV] END activation=relu, batch_size=32, epochs=10, hidden_layer_sizes=(100,); total time=   1.8s\n",
            "15/15 [==============================] - 0s 2ms/step\n",
            "[CV] END activation=relu, batch_size=32, epochs=10, hidden_layer_sizes=(100,); total time=   2.1s\n",
            "15/15 [==============================] - 0s 2ms/step\n",
            "[CV] END activation=relu, batch_size=32, epochs=10, hidden_layer_sizes=(100,); total time=   2.4s\n",
            "15/15 [==============================] - 0s 2ms/step\n",
            "[CV] END activation=relu, batch_size=32, epochs=10, hidden_layer_sizes=(50, 50); total time=   2.1s\n",
            "15/15 [==============================] - 0s 2ms/step\n",
            "[CV] END activation=relu, batch_size=32, epochs=10, hidden_layer_sizes=(50, 50); total time=   2.1s\n",
            "15/15 [==============================] - 0s 2ms/step\n",
            "[CV] END activation=relu, batch_size=32, epochs=10, hidden_layer_sizes=(50, 50); total time=   2.2s\n",
            "15/15 [==============================] - 0s 2ms/step\n",
            "[CV] END activation=relu, batch_size=32, epochs=10, hidden_layer_sizes=(50, 100, 50); total time=   2.4s\n",
            "15/15 [==============================] - 0s 2ms/step\n",
            "[CV] END activation=relu, batch_size=32, epochs=10, hidden_layer_sizes=(50, 100, 50); total time=   3.1s\n",
            "15/15 [==============================] - 0s 2ms/step\n",
            "[CV] END activation=relu, batch_size=32, epochs=10, hidden_layer_sizes=(50, 100, 50); total time=   2.4s\n",
            "15/15 [==============================] - 0s 2ms/step\n",
            "[CV] END activation=relu, batch_size=32, epochs=20, hidden_layer_sizes=(100,); total time=   2.7s\n",
            "15/15 [==============================] - 0s 2ms/step\n",
            "[CV] END activation=relu, batch_size=32, epochs=20, hidden_layer_sizes=(100,); total time=   2.7s\n",
            "15/15 [==============================] - 0s 2ms/step\n",
            "[CV] END activation=relu, batch_size=32, epochs=20, hidden_layer_sizes=(100,); total time=   3.3s\n",
            "15/15 [==============================] - 0s 5ms/step\n",
            "[CV] END activation=relu, batch_size=32, epochs=20, hidden_layer_sizes=(50, 50); total time=   6.5s\n",
            "15/15 [==============================] - 0s 1ms/step\n",
            "[CV] END activation=relu, batch_size=32, epochs=20, hidden_layer_sizes=(50, 50); total time=   8.3s\n",
            "15/15 [==============================] - 0s 2ms/step\n",
            "[CV] END activation=relu, batch_size=32, epochs=20, hidden_layer_sizes=(50, 50); total time=   3.1s\n",
            "15/15 [==============================] - 0s 2ms/step\n",
            "[CV] END activation=relu, batch_size=32, epochs=20, hidden_layer_sizes=(50, 100, 50); total time=   3.7s\n",
            "15/15 [==============================] - 0s 2ms/step\n",
            "[CV] END activation=relu, batch_size=32, epochs=20, hidden_layer_sizes=(50, 100, 50); total time=   4.2s\n",
            "15/15 [==============================] - 0s 2ms/step\n",
            "[CV] END activation=relu, batch_size=32, epochs=20, hidden_layer_sizes=(50, 100, 50); total time=   3.4s\n",
            "15/15 [==============================] - 0s 2ms/step\n",
            "[CV] END activation=relu, batch_size=32, epochs=15, hidden_layer_sizes=(100,); total time=   2.4s\n",
            "15/15 [==============================] - 0s 2ms/step\n",
            "[CV] END activation=relu, batch_size=32, epochs=15, hidden_layer_sizes=(100,); total time=   2.3s\n",
            "15/15 [==============================] - 0s 2ms/step\n",
            "[CV] END activation=relu, batch_size=32, epochs=15, hidden_layer_sizes=(100,); total time=   3.4s\n",
            "15/15 [==============================] - 0s 2ms/step\n",
            "[CV] END activation=relu, batch_size=32, epochs=15, hidden_layer_sizes=(50, 50); total time=   3.5s\n",
            "15/15 [==============================] - 0s 2ms/step\n",
            "[CV] END activation=relu, batch_size=32, epochs=15, hidden_layer_sizes=(50, 50); total time=   3.5s\n",
            "15/15 [==============================] - 0s 2ms/step\n",
            "[CV] END activation=relu, batch_size=32, epochs=15, hidden_layer_sizes=(50, 50); total time=   3.5s\n",
            "15/15 [==============================] - 0s 2ms/step\n",
            "[CV] END activation=relu, batch_size=32, epochs=15, hidden_layer_sizes=(50, 100, 50); total time=   3.2s\n",
            "15/15 [==============================] - 0s 2ms/step\n",
            "[CV] END activation=relu, batch_size=32, epochs=15, hidden_layer_sizes=(50, 100, 50); total time=   3.6s\n",
            "15/15 [==============================] - 0s 2ms/step\n",
            "[CV] END activation=relu, batch_size=32, epochs=15, hidden_layer_sizes=(50, 100, 50); total time=   3.6s\n",
            "15/15 [==============================] - 0s 2ms/step\n",
            "[CV] END activation=relu, batch_size=64, epochs=10, hidden_layer_sizes=(100,); total time=   2.2s\n",
            "15/15 [==============================] - 0s 2ms/step\n",
            "[CV] END activation=relu, batch_size=64, epochs=10, hidden_layer_sizes=(100,); total time=   2.4s\n",
            "15/15 [==============================] - 0s 2ms/step\n",
            "[CV] END activation=relu, batch_size=64, epochs=10, hidden_layer_sizes=(100,); total time=   1.7s\n",
            "15/15 [==============================] - 0s 2ms/step\n",
            "[CV] END activation=relu, batch_size=64, epochs=10, hidden_layer_sizes=(50, 50); total time=   1.8s\n",
            "15/15 [==============================] - 0s 2ms/step\n",
            "[CV] END activation=relu, batch_size=64, epochs=10, hidden_layer_sizes=(50, 50); total time=   2.2s\n",
            "15/15 [==============================] - 0s 2ms/step\n",
            "[CV] END activation=relu, batch_size=64, epochs=10, hidden_layer_sizes=(50, 50); total time=   1.8s\n",
            "15/15 [==============================] - 0s 2ms/step\n",
            "[CV] END activation=relu, batch_size=64, epochs=10, hidden_layer_sizes=(50, 100, 50); total time=   2.5s\n",
            "15/15 [==============================] - 0s 2ms/step\n",
            "[CV] END activation=relu, batch_size=64, epochs=10, hidden_layer_sizes=(50, 100, 50); total time=   2.7s\n",
            "15/15 [==============================] - 0s 2ms/step\n",
            "[CV] END activation=relu, batch_size=64, epochs=10, hidden_layer_sizes=(50, 100, 50); total time=   2.5s\n",
            "15/15 [==============================] - 0s 2ms/step\n",
            "[CV] END activation=relu, batch_size=64, epochs=20, hidden_layer_sizes=(100,); total time=   2.3s\n",
            "15/15 [==============================] - 0s 2ms/step\n",
            "[CV] END activation=relu, batch_size=64, epochs=20, hidden_layer_sizes=(100,); total time=   3.3s\n",
            "15/15 [==============================] - 0s 2ms/step\n",
            "[CV] END activation=relu, batch_size=64, epochs=20, hidden_layer_sizes=(100,); total time=   3.6s\n",
            "15/15 [==============================] - 0s 2ms/step\n",
            "[CV] END activation=relu, batch_size=64, epochs=20, hidden_layer_sizes=(50, 50); total time=   3.4s\n",
            "15/15 [==============================] - 0s 2ms/step\n",
            "[CV] END activation=relu, batch_size=64, epochs=20, hidden_layer_sizes=(50, 50); total time=   4.2s\n",
            "15/15 [==============================] - 0s 2ms/step\n",
            "[CV] END activation=relu, batch_size=64, epochs=20, hidden_layer_sizes=(50, 50); total time=   3.5s\n",
            "15/15 [==============================] - 0s 2ms/step\n",
            "[CV] END activation=relu, batch_size=64, epochs=20, hidden_layer_sizes=(50, 100, 50); total time=   3.7s\n",
            "15/15 [==============================] - 0s 2ms/step\n",
            "[CV] END activation=relu, batch_size=64, epochs=20, hidden_layer_sizes=(50, 100, 50); total time=   2.7s\n",
            "15/15 [==============================] - 0s 2ms/step\n",
            "[CV] END activation=relu, batch_size=64, epochs=20, hidden_layer_sizes=(50, 100, 50); total time=   3.7s\n",
            "15/15 [==============================] - 0s 1ms/step\n",
            "[CV] END activation=relu, batch_size=64, epochs=15, hidden_layer_sizes=(100,); total time=   2.5s\n",
            "15/15 [==============================] - 0s 2ms/step\n",
            "[CV] END activation=relu, batch_size=64, epochs=15, hidden_layer_sizes=(100,); total time=   2.0s\n",
            "15/15 [==============================] - 0s 2ms/step\n",
            "[CV] END activation=relu, batch_size=64, epochs=15, hidden_layer_sizes=(100,); total time=   1.9s\n",
            "15/15 [==============================] - 0s 2ms/step\n",
            "[CV] END activation=relu, batch_size=64, epochs=15, hidden_layer_sizes=(50, 50); total time=   2.1s\n",
            "15/15 [==============================] - 0s 2ms/step\n",
            "[CV] END activation=relu, batch_size=64, epochs=15, hidden_layer_sizes=(50, 50); total time=   2.1s\n",
            "15/15 [==============================] - 0s 2ms/step\n",
            "[CV] END activation=relu, batch_size=64, epochs=15, hidden_layer_sizes=(50, 50); total time=   3.5s\n",
            "15/15 [==============================] - 0s 2ms/step\n",
            "[CV] END activation=relu, batch_size=64, epochs=15, hidden_layer_sizes=(50, 100, 50); total time=   2.3s\n",
            "15/15 [==============================] - 0s 2ms/step\n",
            "[CV] END activation=relu, batch_size=64, epochs=15, hidden_layer_sizes=(50, 100, 50); total time=   2.3s\n",
            "15/15 [==============================] - 0s 2ms/step\n",
            "[CV] END activation=relu, batch_size=64, epochs=15, hidden_layer_sizes=(50, 100, 50); total time=   4.4s\n"
          ]
        },
        {
          "output_type": "execute_result",
          "data": {
            "text/plain": [
              "GridSearchCV(cv=3,\n",
              "             estimator=<keras.wrappers.scikit_learn.KerasClassifier object at 0x795724675b40>,\n",
              "             param_grid={'activation': ['relu'], 'batch_size': [16, 32, 64],\n",
              "                         'epochs': [10, 20, 15],\n",
              "                         'hidden_layer_sizes': [(100,), (50, 50),\n",
              "                                                (50, 100, 50)]},\n",
              "             scoring='accuracy', verbose=2)"
            ],
            "text/html": [
              "<style>#sk-container-id-1 {color: black;background-color: white;}#sk-container-id-1 pre{padding: 0;}#sk-container-id-1 div.sk-toggleable {background-color: white;}#sk-container-id-1 label.sk-toggleable__label {cursor: pointer;display: block;width: 100%;margin-bottom: 0;padding: 0.3em;box-sizing: border-box;text-align: center;}#sk-container-id-1 label.sk-toggleable__label-arrow:before {content: \"▸\";float: left;margin-right: 0.25em;color: #696969;}#sk-container-id-1 label.sk-toggleable__label-arrow:hover:before {color: black;}#sk-container-id-1 div.sk-estimator:hover label.sk-toggleable__label-arrow:before {color: black;}#sk-container-id-1 div.sk-toggleable__content {max-height: 0;max-width: 0;overflow: hidden;text-align: left;background-color: #f0f8ff;}#sk-container-id-1 div.sk-toggleable__content pre {margin: 0.2em;color: black;border-radius: 0.25em;background-color: #f0f8ff;}#sk-container-id-1 input.sk-toggleable__control:checked~div.sk-toggleable__content {max-height: 200px;max-width: 100%;overflow: auto;}#sk-container-id-1 input.sk-toggleable__control:checked~label.sk-toggleable__label-arrow:before {content: \"▾\";}#sk-container-id-1 div.sk-estimator input.sk-toggleable__control:checked~label.sk-toggleable__label {background-color: #d4ebff;}#sk-container-id-1 div.sk-label input.sk-toggleable__control:checked~label.sk-toggleable__label {background-color: #d4ebff;}#sk-container-id-1 input.sk-hidden--visually {border: 0;clip: rect(1px 1px 1px 1px);clip: rect(1px, 1px, 1px, 1px);height: 1px;margin: -1px;overflow: hidden;padding: 0;position: absolute;width: 1px;}#sk-container-id-1 div.sk-estimator {font-family: monospace;background-color: #f0f8ff;border: 1px dotted black;border-radius: 0.25em;box-sizing: border-box;margin-bottom: 0.5em;}#sk-container-id-1 div.sk-estimator:hover {background-color: #d4ebff;}#sk-container-id-1 div.sk-parallel-item::after {content: \"\";width: 100%;border-bottom: 1px solid gray;flex-grow: 1;}#sk-container-id-1 div.sk-label:hover label.sk-toggleable__label {background-color: #d4ebff;}#sk-container-id-1 div.sk-serial::before {content: \"\";position: absolute;border-left: 1px solid gray;box-sizing: border-box;top: 0;bottom: 0;left: 50%;z-index: 0;}#sk-container-id-1 div.sk-serial {display: flex;flex-direction: column;align-items: center;background-color: white;padding-right: 0.2em;padding-left: 0.2em;position: relative;}#sk-container-id-1 div.sk-item {position: relative;z-index: 1;}#sk-container-id-1 div.sk-parallel {display: flex;align-items: stretch;justify-content: center;background-color: white;position: relative;}#sk-container-id-1 div.sk-item::before, #sk-container-id-1 div.sk-parallel-item::before {content: \"\";position: absolute;border-left: 1px solid gray;box-sizing: border-box;top: 0;bottom: 0;left: 50%;z-index: -1;}#sk-container-id-1 div.sk-parallel-item {display: flex;flex-direction: column;z-index: 1;position: relative;background-color: white;}#sk-container-id-1 div.sk-parallel-item:first-child::after {align-self: flex-end;width: 50%;}#sk-container-id-1 div.sk-parallel-item:last-child::after {align-self: flex-start;width: 50%;}#sk-container-id-1 div.sk-parallel-item:only-child::after {width: 0;}#sk-container-id-1 div.sk-dashed-wrapped {border: 1px dashed gray;margin: 0 0.4em 0.5em 0.4em;box-sizing: border-box;padding-bottom: 0.4em;background-color: white;}#sk-container-id-1 div.sk-label label {font-family: monospace;font-weight: bold;display: inline-block;line-height: 1.2em;}#sk-container-id-1 div.sk-label-container {text-align: center;}#sk-container-id-1 div.sk-container {/* jupyter's `normalize.less` sets `[hidden] { display: none; }` but bootstrap.min.css set `[hidden] { display: none !important; }` so we also need the `!important` here to be able to override the default hidden behavior on the sphinx rendered scikit-learn.org. See: https://github.com/scikit-learn/scikit-learn/issues/21755 */display: inline-block !important;position: relative;}#sk-container-id-1 div.sk-text-repr-fallback {display: none;}</style><div id=\"sk-container-id-1\" class=\"sk-top-container\"><div class=\"sk-text-repr-fallback\"><pre>GridSearchCV(cv=3,\n",
              "             estimator=&lt;keras.wrappers.scikit_learn.KerasClassifier object at 0x795724675b40&gt;,\n",
              "             param_grid={&#x27;activation&#x27;: [&#x27;relu&#x27;], &#x27;batch_size&#x27;: [16, 32, 64],\n",
              "                         &#x27;epochs&#x27;: [10, 20, 15],\n",
              "                         &#x27;hidden_layer_sizes&#x27;: [(100,), (50, 50),\n",
              "                                                (50, 100, 50)]},\n",
              "             scoring=&#x27;accuracy&#x27;, verbose=2)</pre><b>In a Jupyter environment, please rerun this cell to show the HTML representation or trust the notebook. <br />On GitHub, the HTML representation is unable to render, please try loading this page with nbviewer.org.</b></div><div class=\"sk-container\" hidden><div class=\"sk-item sk-dashed-wrapped\"><div class=\"sk-label-container\"><div class=\"sk-label sk-toggleable\"><input class=\"sk-toggleable__control sk-hidden--visually\" id=\"sk-estimator-id-1\" type=\"checkbox\" ><label for=\"sk-estimator-id-1\" class=\"sk-toggleable__label sk-toggleable__label-arrow\">GridSearchCV</label><div class=\"sk-toggleable__content\"><pre>GridSearchCV(cv=3,\n",
              "             estimator=&lt;keras.wrappers.scikit_learn.KerasClassifier object at 0x795724675b40&gt;,\n",
              "             param_grid={&#x27;activation&#x27;: [&#x27;relu&#x27;], &#x27;batch_size&#x27;: [16, 32, 64],\n",
              "                         &#x27;epochs&#x27;: [10, 20, 15],\n",
              "                         &#x27;hidden_layer_sizes&#x27;: [(100,), (50, 50),\n",
              "                                                (50, 100, 50)]},\n",
              "             scoring=&#x27;accuracy&#x27;, verbose=2)</pre></div></div></div><div class=\"sk-parallel\"><div class=\"sk-parallel-item\"><div class=\"sk-item\"><div class=\"sk-label-container\"><div class=\"sk-label sk-toggleable\"><input class=\"sk-toggleable__control sk-hidden--visually\" id=\"sk-estimator-id-2\" type=\"checkbox\" ><label for=\"sk-estimator-id-2\" class=\"sk-toggleable__label sk-toggleable__label-arrow\">estimator: KerasClassifier</label><div class=\"sk-toggleable__content\"><pre>&lt;keras.wrappers.scikit_learn.KerasClassifier object at 0x795724675b40&gt;</pre></div></div></div><div class=\"sk-serial\"><div class=\"sk-item\"><div class=\"sk-estimator sk-toggleable\"><input class=\"sk-toggleable__control sk-hidden--visually\" id=\"sk-estimator-id-3\" type=\"checkbox\" ><label for=\"sk-estimator-id-3\" class=\"sk-toggleable__label sk-toggleable__label-arrow\">KerasClassifier</label><div class=\"sk-toggleable__content\"><pre>&lt;keras.wrappers.scikit_learn.KerasClassifier object at 0x795724675b40&gt;</pre></div></div></div></div></div></div></div></div></div></div>"
            ]
          },
          "metadata": {},
          "execution_count": 10
        }
      ]
    },
    {
      "cell_type": "code",
      "source": [
        "print(\"Best parameters found:\", grid_search.best_params_)"
      ],
      "metadata": {
        "colab": {
          "base_uri": "https://localhost:8080/"
        },
        "id": "3MsWcwCPhc-R",
        "outputId": "b2968b90-7bb1-4558-a244-5f05cd363825"
      },
      "execution_count": 11,
      "outputs": [
        {
          "output_type": "stream",
          "name": "stdout",
          "text": [
            "Best parameters found: {'activation': 'relu', 'batch_size': 16, 'epochs': 15, 'hidden_layer_sizes': (100,)}\n"
          ]
        }
      ]
    },
    {
      "cell_type": "code",
      "source": [
        "from sklearn.metrics import accuracy_score\n",
        "\n",
        "best_model = grid_search.best_estimator_\n",
        "\n",
        "# evaluate the best model on the traning set\n",
        "y_pred_train = best_model.predict(X_train_scaled)\n",
        "accuracy_train = accuracy_score(y_train, y_pred_train)\n",
        "print(\"Training Accuracy:\", accuracy_train)\n",
        "\n",
        "# evaluate the best model on the testing set\n",
        "y_pred_test = best_model.predict(X_test_scaled)\n",
        "accuracy_test = accuracy_score(y_test, y_pred_test)\n",
        "print(\"Testing Accuracy:\", accuracy_test)\n"
      ],
      "metadata": {
        "colab": {
          "base_uri": "https://localhost:8080/"
        },
        "id": "pw4p9tFEhAqJ",
        "outputId": "73e7faae-9303-41a1-c01a-784d93f710dd"
      },
      "execution_count": 12,
      "outputs": [
        {
          "output_type": "stream",
          "name": "stdout",
          "text": [
            "43/43 [==============================] - 0s 1ms/step\n",
            "Training Accuracy: 1.0\n",
            "15/15 [==============================] - 0s 2ms/step\n",
            "Testing Accuracy: 0.9755555555555555\n"
          ]
        }
      ]
    },
    {
      "cell_type": "code",
      "source": [
        "from sklearn.metrics import classification_report\n",
        "\n",
        "print(\"Classification report:\")\n",
        "print(classification_report(y_test, y_pred_test))"
      ],
      "metadata": {
        "colab": {
          "base_uri": "https://localhost:8080/"
        },
        "id": "YBAZRYSafRRb",
        "outputId": "85c00e16-6cb6-4fc7-9f46-d027027f9003"
      },
      "execution_count": 13,
      "outputs": [
        {
          "output_type": "stream",
          "name": "stdout",
          "text": [
            "Classification report:\n",
            "              precision    recall  f1-score   support\n",
            "\n",
            "           0       1.00      1.00      1.00        43\n",
            "           1       0.97      1.00      0.99        37\n",
            "           2       1.00      1.00      1.00        38\n",
            "           3       1.00      0.93      0.97        46\n",
            "           4       1.00      1.00      1.00        55\n",
            "           5       0.95      0.95      0.95        59\n",
            "           6       0.98      0.98      0.98        45\n",
            "           7       0.98      0.98      0.98        41\n",
            "           8       0.95      0.95      0.95        38\n",
            "           9       0.94      0.98      0.96        48\n",
            "\n",
            "    accuracy                           0.98       450\n",
            "   macro avg       0.98      0.98      0.98       450\n",
            "weighted avg       0.98      0.98      0.98       450\n",
            "\n"
          ]
        }
      ]
    },
    {
      "cell_type": "code",
      "source": [
        "print(grid_search.best_estimator_.model.history.history)"
      ],
      "metadata": {
        "colab": {
          "base_uri": "https://localhost:8080/"
        },
        "id": "RCMEp8bA8Erx",
        "outputId": "d745393e-4987-4318-9d7e-000153958bdc"
      },
      "execution_count": 14,
      "outputs": [
        {
          "output_type": "stream",
          "name": "stdout",
          "text": [
            "{}\n"
          ]
        }
      ]
    },
    {
      "cell_type": "code",
      "source": [
        "# Access histories from the callback\n",
        "all_history = history_tracker.histories\n",
        "# all_history[81]['val_accuracy']"
      ],
      "metadata": {
        "id": "7hw5LByR7aLl"
      },
      "execution_count": 15,
      "outputs": []
    },
    {
      "cell_type": "code",
      "source": [
        "print(len(all_history))"
      ],
      "metadata": {
        "colab": {
          "base_uri": "https://localhost:8080/"
        },
        "id": "Ozo0n0h2FGlk",
        "outputId": "575bd2a7-2c1b-41e7-d7b2-468e6199a9c2"
      },
      "execution_count": 16,
      "outputs": [
        {
          "output_type": "stream",
          "name": "stdout",
          "text": [
            "82\n"
          ]
        }
      ]
    },
    {
      "cell_type": "code",
      "source": [
        "import matplotlib.pyplot as plt\n",
        "\n",
        "# Plot training accuracy vs epoch\n",
        "plt.plot(all_history[81]['accuracy'], label='Training Accuracy')\n",
        "plt.plot(all_history[81]['val_accuracy'], label='Validation Accuracy')\n",
        "plt.xlabel('Epoch')\n",
        "plt.ylabel('Accuracy')\n",
        "plt.title('Training and Validation Accuracy vs Epoch')\n",
        "plt.legend()\n",
        "plt.show()\n",
        "\n",
        "# Plot training loss vs epoch\n",
        "plt.plot(all_history[81]['loss'], label='Training Loss')\n",
        "plt.plot(all_history[81]['val_loss'], label='Validation Loss')\n",
        "plt.xlabel('Epoch')\n",
        "plt.ylabel('Loss')\n",
        "plt.title('Training and Validation Loss vs Epoch')\n",
        "plt.legend()\n",
        "plt.show()"
      ],
      "metadata": {
        "colab": {
          "base_uri": "https://localhost:8080/",
          "height": 927
        },
        "id": "3J1eQW3iij23",
        "outputId": "215625df-2e9e-4e26-e051-cc2584368210"
      },
      "execution_count": 17,
      "outputs": [
        {
          "output_type": "display_data",
          "data": {
            "text/plain": [
              "<Figure size 640x480 with 1 Axes>"
            ],
            "image/png": "[encoded data removed]"
          },
          "metadata": {}
        },
        {
          "output_type": "display_data",
          "data": {
            "text/plain": [
              "<Figure size 640x480 with 1 Axes>"
            ],
            "image/png": "[encoded data removed]"
          },
          "metadata": {}
        }
      ]
    }
  ]
}