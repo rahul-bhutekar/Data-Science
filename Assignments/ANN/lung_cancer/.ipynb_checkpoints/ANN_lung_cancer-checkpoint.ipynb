{
 "cells": [
  {
   "cell_type": "markdown",
   "id": "8a3dd413-be2c-411e-bdd1-a49841a0511b",
   "metadata": {},
   "source": [
    "# ANN Assignment - Lung Cancer"
   ]
  },
  {
   "cell_type": "code",
   "execution_count": 1,
   "id": "5267b75d-6227-4180-b0a9-626da33b21cd",
   "metadata": {},
   "outputs": [
    {
     "name": "stdout",
     "output_type": "stream",
     "text": [
      "WARNING:tensorflow:From C:\\Users\\rahul bhutekar\\ds_class\\Lib\\site-packages\\keras\\src\\losses.py:2976: The name tf.losses.sparse_softmax_cross_entropy is deprecated. Please use tf.compat.v1.losses.sparse_softmax_cross_entropy instead.\n",
      "\n"
     ]
    }
   ],
   "source": [
    "# load libraries\n",
    "import pandas as pd\n",
    "import numpy as np\n",
    "import tensorflow as tf"
   ]
  },
  {
   "cell_type": "code",
   "execution_count": 2,
   "id": "3d54a82d-a345-4e53-8372-0a80bcfb29b2",
   "metadata": {},
   "outputs": [
    {
     "data": {
      "text/html": [
       "<div>\n",
       "<style scoped>\n",
       "    .dataframe tbody tr th:only-of-type {\n",
       "        vertical-align: middle;\n",
       "    }\n",
       "\n",
       "    .dataframe tbody tr th {\n",
       "        vertical-align: top;\n",
       "    }\n",
       "\n",
       "    .dataframe thead th {\n",
       "        text-align: right;\n",
       "    }\n",
       "</style>\n",
       "<table border=\"1\" class=\"dataframe\">\n",
       "  <thead>\n",
       "    <tr style=\"text-align: right;\">\n",
       "      <th></th>\n",
       "      <th>GENDER</th>\n",
       "      <th>AGE</th>\n",
       "      <th>SMOKING</th>\n",
       "      <th>YELLOW_FINGERS</th>\n",
       "      <th>ANXIETY</th>\n",
       "      <th>PEER_PRESSURE</th>\n",
       "      <th>CHRONIC DISEASE</th>\n",
       "      <th>FATIGUE</th>\n",
       "      <th>ALLERGY</th>\n",
       "      <th>WHEEZING</th>\n",
       "      <th>ALCOHOL CONSUMING</th>\n",
       "      <th>COUGHING</th>\n",
       "      <th>SHORTNESS OF BREATH</th>\n",
       "      <th>SWALLOWING DIFFICULTY</th>\n",
       "      <th>CHEST PAIN</th>\n",
       "      <th>LUNG_CANCER</th>\n",
       "    </tr>\n",
       "  </thead>\n",
       "  <tbody>\n",
       "    <tr>\n",
       "      <th>0</th>\n",
       "      <td>M</td>\n",
       "      <td>69</td>\n",
       "      <td>1</td>\n",
       "      <td>2</td>\n",
       "      <td>2</td>\n",
       "      <td>1</td>\n",
       "      <td>1</td>\n",
       "      <td>2</td>\n",
       "      <td>1</td>\n",
       "      <td>2</td>\n",
       "      <td>2</td>\n",
       "      <td>2</td>\n",
       "      <td>2</td>\n",
       "      <td>2</td>\n",
       "      <td>2</td>\n",
       "      <td>YES</td>\n",
       "    </tr>\n",
       "    <tr>\n",
       "      <th>1</th>\n",
       "      <td>M</td>\n",
       "      <td>74</td>\n",
       "      <td>2</td>\n",
       "      <td>1</td>\n",
       "      <td>1</td>\n",
       "      <td>1</td>\n",
       "      <td>2</td>\n",
       "      <td>2</td>\n",
       "      <td>2</td>\n",
       "      <td>1</td>\n",
       "      <td>1</td>\n",
       "      <td>1</td>\n",
       "      <td>2</td>\n",
       "      <td>2</td>\n",
       "      <td>2</td>\n",
       "      <td>YES</td>\n",
       "    </tr>\n",
       "    <tr>\n",
       "      <th>2</th>\n",
       "      <td>F</td>\n",
       "      <td>59</td>\n",
       "      <td>1</td>\n",
       "      <td>1</td>\n",
       "      <td>1</td>\n",
       "      <td>2</td>\n",
       "      <td>1</td>\n",
       "      <td>2</td>\n",
       "      <td>1</td>\n",
       "      <td>2</td>\n",
       "      <td>1</td>\n",
       "      <td>2</td>\n",
       "      <td>2</td>\n",
       "      <td>1</td>\n",
       "      <td>2</td>\n",
       "      <td>NO</td>\n",
       "    </tr>\n",
       "    <tr>\n",
       "      <th>3</th>\n",
       "      <td>M</td>\n",
       "      <td>63</td>\n",
       "      <td>2</td>\n",
       "      <td>2</td>\n",
       "      <td>2</td>\n",
       "      <td>1</td>\n",
       "      <td>1</td>\n",
       "      <td>1</td>\n",
       "      <td>1</td>\n",
       "      <td>1</td>\n",
       "      <td>2</td>\n",
       "      <td>1</td>\n",
       "      <td>1</td>\n",
       "      <td>2</td>\n",
       "      <td>2</td>\n",
       "      <td>NO</td>\n",
       "    </tr>\n",
       "    <tr>\n",
       "      <th>4</th>\n",
       "      <td>F</td>\n",
       "      <td>63</td>\n",
       "      <td>1</td>\n",
       "      <td>2</td>\n",
       "      <td>1</td>\n",
       "      <td>1</td>\n",
       "      <td>1</td>\n",
       "      <td>1</td>\n",
       "      <td>1</td>\n",
       "      <td>2</td>\n",
       "      <td>1</td>\n",
       "      <td>2</td>\n",
       "      <td>2</td>\n",
       "      <td>1</td>\n",
       "      <td>1</td>\n",
       "      <td>NO</td>\n",
       "    </tr>\n",
       "  </tbody>\n",
       "</table>\n",
       "</div>"
      ],
      "text/plain": [
       "  GENDER  AGE  SMOKING  YELLOW_FINGERS  ANXIETY  PEER_PRESSURE  \\\n",
       "0      M   69        1               2        2              1   \n",
       "1      M   74        2               1        1              1   \n",
       "2      F   59        1               1        1              2   \n",
       "3      M   63        2               2        2              1   \n",
       "4      F   63        1               2        1              1   \n",
       "\n",
       "   CHRONIC DISEASE  FATIGUE   ALLERGY   WHEEZING  ALCOHOL CONSUMING  COUGHING  \\\n",
       "0                1         2         1         2                  2         2   \n",
       "1                2         2         2         1                  1         1   \n",
       "2                1         2         1         2                  1         2   \n",
       "3                1         1         1         1                  2         1   \n",
       "4                1         1         1         2                  1         2   \n",
       "\n",
       "   SHORTNESS OF BREATH  SWALLOWING DIFFICULTY  CHEST PAIN LUNG_CANCER  \n",
       "0                    2                      2           2         YES  \n",
       "1                    2                      2           2         YES  \n",
       "2                    2                      1           2          NO  \n",
       "3                    1                      2           2          NO  \n",
       "4                    2                      1           1          NO  "
      ]
     },
     "execution_count": 2,
     "metadata": {},
     "output_type": "execute_result"
    }
   ],
   "source": [
    "df = pd.read_csv('./dataset/survey lung cancer.csv')\n",
    "df.head()"
   ]
  },
  {
   "cell_type": "code",
   "execution_count": 3,
   "id": "af11ae57-3d51-4c3a-b18c-c7c5020646f1",
   "metadata": {},
   "outputs": [
    {
     "data": {
      "text/plain": [
       "(309, 16)"
      ]
     },
     "execution_count": 3,
     "metadata": {},
     "output_type": "execute_result"
    }
   ],
   "source": [
    "# number of rows and columns\n",
    "df.shape"
   ]
  },
  {
   "cell_type": "code",
   "execution_count": 4,
   "id": "21e4c646-7a33-427a-b074-68ac2e54e55a",
   "metadata": {},
   "outputs": [
    {
     "data": {
      "text/plain": [
       "GENDER                   object\n",
       "AGE                       int64\n",
       "SMOKING                   int64\n",
       "YELLOW_FINGERS            int64\n",
       "ANXIETY                   int64\n",
       "PEER_PRESSURE             int64\n",
       "CHRONIC DISEASE           int64\n",
       "FATIGUE                   int64\n",
       "ALLERGY                   int64\n",
       "WHEEZING                  int64\n",
       "ALCOHOL CONSUMING         int64\n",
       "COUGHING                  int64\n",
       "SHORTNESS OF BREATH       int64\n",
       "SWALLOWING DIFFICULTY     int64\n",
       "CHEST PAIN                int64\n",
       "LUNG_CANCER              object\n",
       "dtype: object"
      ]
     },
     "execution_count": 4,
     "metadata": {},
     "output_type": "execute_result"
    }
   ],
   "source": [
    "# data type of each column\n",
    "df.dtypes"
   ]
  },
  {
   "cell_type": "code",
   "execution_count": 5,
   "id": "50d56139-acdb-4e7b-b921-36aa2c7058c9",
   "metadata": {},
   "outputs": [
    {
     "name": "stdout",
     "output_type": "stream",
     "text": [
      "<class 'pandas.core.frame.DataFrame'>\n",
      "RangeIndex: 309 entries, 0 to 308\n",
      "Data columns (total 16 columns):\n",
      " #   Column                 Non-Null Count  Dtype \n",
      "---  ------                 --------------  ----- \n",
      " 0   GENDER                 309 non-null    object\n",
      " 1   AGE                    309 non-null    int64 \n",
      " 2   SMOKING                309 non-null    int64 \n",
      " 3   YELLOW_FINGERS         309 non-null    int64 \n",
      " 4   ANXIETY                309 non-null    int64 \n",
      " 5   PEER_PRESSURE          309 non-null    int64 \n",
      " 6   CHRONIC DISEASE        309 non-null    int64 \n",
      " 7   FATIGUE                309 non-null    int64 \n",
      " 8   ALLERGY                309 non-null    int64 \n",
      " 9   WHEEZING               309 non-null    int64 \n",
      " 10  ALCOHOL CONSUMING      309 non-null    int64 \n",
      " 11  COUGHING               309 non-null    int64 \n",
      " 12  SHORTNESS OF BREATH    309 non-null    int64 \n",
      " 13  SWALLOWING DIFFICULTY  309 non-null    int64 \n",
      " 14  CHEST PAIN             309 non-null    int64 \n",
      " 15  LUNG_CANCER            309 non-null    object\n",
      "dtypes: int64(14), object(2)\n",
      "memory usage: 38.8+ KB\n"
     ]
    }
   ],
   "source": [
    "# summary of the data: column names, total no.of non-null values, data types, memory usage\n",
    "df.info()"
   ]
  },
  {
   "cell_type": "code",
   "execution_count": 6,
   "id": "421284d1-719f-4496-94fb-807f929ae3ca",
   "metadata": {},
   "outputs": [
    {
     "data": {
      "text/html": [
       "<div>\n",
       "<style scoped>\n",
       "    .dataframe tbody tr th:only-of-type {\n",
       "        vertical-align: middle;\n",
       "    }\n",
       "\n",
       "    .dataframe tbody tr th {\n",
       "        vertical-align: top;\n",
       "    }\n",
       "\n",
       "    .dataframe thead th {\n",
       "        text-align: right;\n",
       "    }\n",
       "</style>\n",
       "<table border=\"1\" class=\"dataframe\">\n",
       "  <thead>\n",
       "    <tr style=\"text-align: right;\">\n",
       "      <th></th>\n",
       "      <th>AGE</th>\n",
       "      <th>SMOKING</th>\n",
       "      <th>YELLOW_FINGERS</th>\n",
       "      <th>ANXIETY</th>\n",
       "      <th>PEER_PRESSURE</th>\n",
       "      <th>CHRONIC DISEASE</th>\n",
       "      <th>FATIGUE</th>\n",
       "      <th>ALLERGY</th>\n",
       "      <th>WHEEZING</th>\n",
       "      <th>ALCOHOL CONSUMING</th>\n",
       "      <th>COUGHING</th>\n",
       "      <th>SHORTNESS OF BREATH</th>\n",
       "      <th>SWALLOWING DIFFICULTY</th>\n",
       "      <th>CHEST PAIN</th>\n",
       "    </tr>\n",
       "  </thead>\n",
       "  <tbody>\n",
       "    <tr>\n",
       "      <th>count</th>\n",
       "      <td>309.000000</td>\n",
       "      <td>309.000000</td>\n",
       "      <td>309.000000</td>\n",
       "      <td>309.000000</td>\n",
       "      <td>309.000000</td>\n",
       "      <td>309.000000</td>\n",
       "      <td>309.000000</td>\n",
       "      <td>309.000000</td>\n",
       "      <td>309.000000</td>\n",
       "      <td>309.000000</td>\n",
       "      <td>309.000000</td>\n",
       "      <td>309.000000</td>\n",
       "      <td>309.000000</td>\n",
       "      <td>309.000000</td>\n",
       "    </tr>\n",
       "    <tr>\n",
       "      <th>mean</th>\n",
       "      <td>62.673139</td>\n",
       "      <td>1.563107</td>\n",
       "      <td>1.569579</td>\n",
       "      <td>1.498382</td>\n",
       "      <td>1.501618</td>\n",
       "      <td>1.504854</td>\n",
       "      <td>1.673139</td>\n",
       "      <td>1.556634</td>\n",
       "      <td>1.556634</td>\n",
       "      <td>1.556634</td>\n",
       "      <td>1.579288</td>\n",
       "      <td>1.640777</td>\n",
       "      <td>1.469256</td>\n",
       "      <td>1.556634</td>\n",
       "    </tr>\n",
       "    <tr>\n",
       "      <th>std</th>\n",
       "      <td>8.210301</td>\n",
       "      <td>0.496806</td>\n",
       "      <td>0.495938</td>\n",
       "      <td>0.500808</td>\n",
       "      <td>0.500808</td>\n",
       "      <td>0.500787</td>\n",
       "      <td>0.469827</td>\n",
       "      <td>0.497588</td>\n",
       "      <td>0.497588</td>\n",
       "      <td>0.497588</td>\n",
       "      <td>0.494474</td>\n",
       "      <td>0.480551</td>\n",
       "      <td>0.499863</td>\n",
       "      <td>0.497588</td>\n",
       "    </tr>\n",
       "    <tr>\n",
       "      <th>min</th>\n",
       "      <td>21.000000</td>\n",
       "      <td>1.000000</td>\n",
       "      <td>1.000000</td>\n",
       "      <td>1.000000</td>\n",
       "      <td>1.000000</td>\n",
       "      <td>1.000000</td>\n",
       "      <td>1.000000</td>\n",
       "      <td>1.000000</td>\n",
       "      <td>1.000000</td>\n",
       "      <td>1.000000</td>\n",
       "      <td>1.000000</td>\n",
       "      <td>1.000000</td>\n",
       "      <td>1.000000</td>\n",
       "      <td>1.000000</td>\n",
       "    </tr>\n",
       "    <tr>\n",
       "      <th>25%</th>\n",
       "      <td>57.000000</td>\n",
       "      <td>1.000000</td>\n",
       "      <td>1.000000</td>\n",
       "      <td>1.000000</td>\n",
       "      <td>1.000000</td>\n",
       "      <td>1.000000</td>\n",
       "      <td>1.000000</td>\n",
       "      <td>1.000000</td>\n",
       "      <td>1.000000</td>\n",
       "      <td>1.000000</td>\n",
       "      <td>1.000000</td>\n",
       "      <td>1.000000</td>\n",
       "      <td>1.000000</td>\n",
       "      <td>1.000000</td>\n",
       "    </tr>\n",
       "    <tr>\n",
       "      <th>50%</th>\n",
       "      <td>62.000000</td>\n",
       "      <td>2.000000</td>\n",
       "      <td>2.000000</td>\n",
       "      <td>1.000000</td>\n",
       "      <td>2.000000</td>\n",
       "      <td>2.000000</td>\n",
       "      <td>2.000000</td>\n",
       "      <td>2.000000</td>\n",
       "      <td>2.000000</td>\n",
       "      <td>2.000000</td>\n",
       "      <td>2.000000</td>\n",
       "      <td>2.000000</td>\n",
       "      <td>1.000000</td>\n",
       "      <td>2.000000</td>\n",
       "    </tr>\n",
       "    <tr>\n",
       "      <th>75%</th>\n",
       "      <td>69.000000</td>\n",
       "      <td>2.000000</td>\n",
       "      <td>2.000000</td>\n",
       "      <td>2.000000</td>\n",
       "      <td>2.000000</td>\n",
       "      <td>2.000000</td>\n",
       "      <td>2.000000</td>\n",
       "      <td>2.000000</td>\n",
       "      <td>2.000000</td>\n",
       "      <td>2.000000</td>\n",
       "      <td>2.000000</td>\n",
       "      <td>2.000000</td>\n",
       "      <td>2.000000</td>\n",
       "      <td>2.000000</td>\n",
       "    </tr>\n",
       "    <tr>\n",
       "      <th>max</th>\n",
       "      <td>87.000000</td>\n",
       "      <td>2.000000</td>\n",
       "      <td>2.000000</td>\n",
       "      <td>2.000000</td>\n",
       "      <td>2.000000</td>\n",
       "      <td>2.000000</td>\n",
       "      <td>2.000000</td>\n",
       "      <td>2.000000</td>\n",
       "      <td>2.000000</td>\n",
       "      <td>2.000000</td>\n",
       "      <td>2.000000</td>\n",
       "      <td>2.000000</td>\n",
       "      <td>2.000000</td>\n",
       "      <td>2.000000</td>\n",
       "    </tr>\n",
       "  </tbody>\n",
       "</table>\n",
       "</div>"
      ],
      "text/plain": [
       "              AGE     SMOKING  YELLOW_FINGERS     ANXIETY  PEER_PRESSURE  \\\n",
       "count  309.000000  309.000000      309.000000  309.000000     309.000000   \n",
       "mean    62.673139    1.563107        1.569579    1.498382       1.501618   \n",
       "std      8.210301    0.496806        0.495938    0.500808       0.500808   \n",
       "min     21.000000    1.000000        1.000000    1.000000       1.000000   \n",
       "25%     57.000000    1.000000        1.000000    1.000000       1.000000   \n",
       "50%     62.000000    2.000000        2.000000    1.000000       2.000000   \n",
       "75%     69.000000    2.000000        2.000000    2.000000       2.000000   \n",
       "max     87.000000    2.000000        2.000000    2.000000       2.000000   \n",
       "\n",
       "       CHRONIC DISEASE    FATIGUE     ALLERGY     WHEEZING  ALCOHOL CONSUMING  \\\n",
       "count       309.000000  309.000000  309.000000  309.000000         309.000000   \n",
       "mean          1.504854    1.673139    1.556634    1.556634           1.556634   \n",
       "std           0.500787    0.469827    0.497588    0.497588           0.497588   \n",
       "min           1.000000    1.000000    1.000000    1.000000           1.000000   \n",
       "25%           1.000000    1.000000    1.000000    1.000000           1.000000   \n",
       "50%           2.000000    2.000000    2.000000    2.000000           2.000000   \n",
       "75%           2.000000    2.000000    2.000000    2.000000           2.000000   \n",
       "max           2.000000    2.000000    2.000000    2.000000           2.000000   \n",
       "\n",
       "         COUGHING  SHORTNESS OF BREATH  SWALLOWING DIFFICULTY  CHEST PAIN  \n",
       "count  309.000000           309.000000             309.000000  309.000000  \n",
       "mean     1.579288             1.640777               1.469256    1.556634  \n",
       "std      0.494474             0.480551               0.499863    0.497588  \n",
       "min      1.000000             1.000000               1.000000    1.000000  \n",
       "25%      1.000000             1.000000               1.000000    1.000000  \n",
       "50%      2.000000             2.000000               1.000000    2.000000  \n",
       "75%      2.000000             2.000000               2.000000    2.000000  \n",
       "max      2.000000             2.000000               2.000000    2.000000  "
      ]
     },
     "execution_count": 6,
     "metadata": {},
     "output_type": "execute_result"
    }
   ],
   "source": [
    "# summary statistics\n",
    "df.describe()"
   ]
  },
  {
   "cell_type": "code",
   "execution_count": 7,
   "id": "742d4521-b1f3-4cf1-b370-f5010d1d5dc9",
   "metadata": {},
   "outputs": [
    {
     "data": {
      "text/html": [
       "<div>\n",
       "<style scoped>\n",
       "    .dataframe tbody tr th:only-of-type {\n",
       "        vertical-align: middle;\n",
       "    }\n",
       "\n",
       "    .dataframe tbody tr th {\n",
       "        vertical-align: top;\n",
       "    }\n",
       "\n",
       "    .dataframe thead th {\n",
       "        text-align: right;\n",
       "    }\n",
       "</style>\n",
       "<table border=\"1\" class=\"dataframe\">\n",
       "  <thead>\n",
       "    <tr style=\"text-align: right;\">\n",
       "      <th></th>\n",
       "      <th>GENDER</th>\n",
       "      <th>LUNG_CANCER</th>\n",
       "    </tr>\n",
       "  </thead>\n",
       "  <tbody>\n",
       "    <tr>\n",
       "      <th>count</th>\n",
       "      <td>309</td>\n",
       "      <td>309</td>\n",
       "    </tr>\n",
       "    <tr>\n",
       "      <th>unique</th>\n",
       "      <td>2</td>\n",
       "      <td>2</td>\n",
       "    </tr>\n",
       "    <tr>\n",
       "      <th>top</th>\n",
       "      <td>M</td>\n",
       "      <td>YES</td>\n",
       "    </tr>\n",
       "    <tr>\n",
       "      <th>freq</th>\n",
       "      <td>162</td>\n",
       "      <td>270</td>\n",
       "    </tr>\n",
       "  </tbody>\n",
       "</table>\n",
       "</div>"
      ],
      "text/plain": [
       "       GENDER LUNG_CANCER\n",
       "count     309         309\n",
       "unique      2           2\n",
       "top         M         YES\n",
       "freq      162         270"
      ]
     },
     "execution_count": 7,
     "metadata": {},
     "output_type": "execute_result"
    }
   ],
   "source": [
    "# summary statistics for object data types\n",
    "df.describe(include=['O'])"
   ]
  },
  {
   "cell_type": "code",
   "execution_count": 8,
   "id": "534d0a19-2636-41ca-9050-fa46f72ebec6",
   "metadata": {},
   "outputs": [
    {
     "data": {
      "text/plain": [
       "GENDER                   0\n",
       "AGE                      0\n",
       "SMOKING                  0\n",
       "YELLOW_FINGERS           0\n",
       "ANXIETY                  0\n",
       "PEER_PRESSURE            0\n",
       "CHRONIC DISEASE          0\n",
       "FATIGUE                  0\n",
       "ALLERGY                  0\n",
       "WHEEZING                 0\n",
       "ALCOHOL CONSUMING        0\n",
       "COUGHING                 0\n",
       "SHORTNESS OF BREATH      0\n",
       "SWALLOWING DIFFICULTY    0\n",
       "CHEST PAIN               0\n",
       "LUNG_CANCER              0\n",
       "dtype: int64"
      ]
     },
     "execution_count": 8,
     "metadata": {},
     "output_type": "execute_result"
    }
   ],
   "source": [
    "# get the count of missing or null values\n",
    "df.isna().sum()"
   ]
  },
  {
   "cell_type": "code",
   "execution_count": 9,
   "id": "0f74cb03-4bf9-4bf5-b903-4af059ab1e03",
   "metadata": {},
   "outputs": [
    {
     "data": {
      "text/plain": [
       "(33, 16)"
      ]
     },
     "execution_count": 9,
     "metadata": {},
     "output_type": "execute_result"
    }
   ],
   "source": [
    "# count of duplicate rows\n",
    "df[df.duplicated()].shape"
   ]
  },
  {
   "cell_type": "code",
   "execution_count": 10,
   "id": "b727c2d0-011e-4fac-9cb7-ed7980648e33",
   "metadata": {},
   "outputs": [
    {
     "data": {
      "text/plain": [
       "0      False\n",
       "1      False\n",
       "2      False\n",
       "3      False\n",
       "4      False\n",
       "       ...  \n",
       "304     True\n",
       "305     True\n",
       "306     True\n",
       "307     True\n",
       "308     True\n",
       "Length: 309, dtype: bool"
      ]
     },
     "execution_count": 10,
     "metadata": {},
     "output_type": "execute_result"
    }
   ],
   "source": [
    "df.duplicated()"
   ]
  },
  {
   "cell_type": "code",
   "execution_count": 11,
   "id": "85ab6bc3-8b55-4094-a5a5-ce49b6631952",
   "metadata": {},
   "outputs": [],
   "source": [
    "# remove duplicate rows from the DataFrame\n",
    "df = df.drop_duplicates()"
   ]
  },
  {
   "cell_type": "code",
   "execution_count": 12,
   "id": "a783c2df-d89a-4b5c-bb43-26a4be17e164",
   "metadata": {},
   "outputs": [
    {
     "data": {
      "text/plain": [
       "Index(['GENDER', 'AGE', 'SMOKING', 'YELLOW_FINGERS', 'ANXIETY',\n",
       "       'PEER_PRESSURE', 'CHRONIC DISEASE', 'FATIGUE ', 'ALLERGY ', 'WHEEZING',\n",
       "       'ALCOHOL CONSUMING', 'COUGHING', 'SHORTNESS OF BREATH',\n",
       "       'SWALLOWING DIFFICULTY', 'CHEST PAIN', 'LUNG_CANCER'],\n",
       "      dtype='object')"
      ]
     },
     "execution_count": 12,
     "metadata": {},
     "output_type": "execute_result"
    }
   ],
   "source": [
    "df.columns"
   ]
  },
  {
   "cell_type": "code",
   "execution_count": 13,
   "id": "def877bd-9259-423a-8b30-edf4266169a9",
   "metadata": {},
   "outputs": [
    {
     "data": {
      "text/plain": [
       "LUNG_CANCER\n",
       "YES    238\n",
       "NO      38\n",
       "Name: count, dtype: int64"
      ]
     },
     "execution_count": 13,
     "metadata": {},
     "output_type": "execute_result"
    }
   ],
   "source": [
    "df['LUNG_CANCER'].value_counts()"
   ]
  },
  {
   "cell_type": "code",
   "execution_count": 14,
   "id": "0608be6c-3c9d-4d26-8fec-7cbbe9feca27",
   "metadata": {},
   "outputs": [
    {
     "data": {
      "text/plain": [
       "(GENDER\n",
       " 1    142\n",
       " 0    134\n",
       " Name: count, dtype: int64,\n",
       " LUNG_CANCER\n",
       " 1    238\n",
       " 0     38\n",
       " Name: count, dtype: int64)"
      ]
     },
     "execution_count": 14,
     "metadata": {},
     "output_type": "execute_result"
    }
   ],
   "source": [
    "# preprocessing provides collection of functions and classes for preprocessing and transforming data before it is used in machine learning models\n",
    "from sklearn import preprocessing\n",
    "\n",
    "# using LabelEncoder to convert 'GENDER' and 'LUNG_CANCER' into numbers\n",
    "label_encoder = preprocessing.LabelEncoder()\n",
    "df['GENDER'] = label_encoder.fit_transform(df['GENDER'])\n",
    "df['LUNG_CANCER'] = label_encoder.fit_transform(df['LUNG_CANCER'])\n",
    "\n",
    "df['GENDER'].value_counts(), df['LUNG_CANCER'].value_counts()"
   ]
  },
  {
   "cell_type": "code",
   "execution_count": 15,
   "id": "fc72d747-4c8e-4727-857c-67d7a85f4c2b",
   "metadata": {},
   "outputs": [
    {
     "data": {
      "text/plain": [
       "((276, 15), (276,))"
      ]
     },
     "execution_count": 15,
     "metadata": {},
     "output_type": "execute_result"
    }
   ],
   "source": [
    "X = df.drop('LUNG_CANCER', axis=1)\n",
    "y = df['LUNG_CANCER']\n",
    "X.shape, y.shape"
   ]
  },
  {
   "cell_type": "markdown",
   "id": "bea537de-feb5-4d28-8ef0-3f9045323aab",
   "metadata": {},
   "source": [
    "### as we can see we have 238 rows with \"YES\" and only 38 rows with \"NO\" values. The model trained on this dataset will inaccurately predict the result for \"NO\" values. Hence upsampling the dataset using SMOTE"
   ]
  },
  {
   "cell_type": "code",
   "execution_count": 16,
   "id": "6b139814-4484-4b6e-91a8-c3e365220ed1",
   "metadata": {},
   "outputs": [],
   "source": [
    "from imblearn.over_sampling import SMOTE\n",
    "\n",
    "# Define the SMOTE oversampler\n",
    "smote = SMOTE(random_state=42)"
   ]
  },
  {
   "cell_type": "code",
   "execution_count": 17,
   "id": "b07a2811-2faa-4c9a-b32e-f03fa5715fcd",
   "metadata": {},
   "outputs": [],
   "source": [
    "# Upsample the data\n",
    "X_resampled, y_resampled = smote.fit_resample(X, y)"
   ]
  },
  {
   "cell_type": "code",
   "execution_count": 18,
   "id": "7feeb9ed-f2cf-4ebe-91e0-097ad1e2a192",
   "metadata": {},
   "outputs": [
    {
     "data": {
      "text/plain": [
       "LUNG_CANCER\n",
       "1    238\n",
       "0    238\n",
       "Name: count, dtype: int64"
      ]
     },
     "execution_count": 18,
     "metadata": {},
     "output_type": "execute_result"
    }
   ],
   "source": [
    "y_resampled.value_counts()"
   ]
  },
  {
   "cell_type": "code",
   "execution_count": 19,
   "id": "ee878c16-1983-4d5f-928c-b54a0d1ab083",
   "metadata": {},
   "outputs": [
    {
     "data": {
      "text/plain": [
       "((476, 15), (476,))"
      ]
     },
     "execution_count": 19,
     "metadata": {},
     "output_type": "execute_result"
    }
   ],
   "source": [
    "X_resampled.shape, y_resampled.shape"
   ]
  },
  {
   "cell_type": "code",
   "execution_count": 20,
   "id": "e30c6a8c-9639-4e81-b23d-c391ec824899",
   "metadata": {},
   "outputs": [],
   "source": [
    "from keras.models import Sequential\n",
    "from keras.layers import Dense\n",
    "\n",
    "from keras.initializers import GlorotUniform"
   ]
  },
  {
   "cell_type": "code",
   "execution_count": 21,
   "id": "b82582f3-eab7-454c-bd07-2c5e21780776",
   "metadata": {},
   "outputs": [],
   "source": [
    "# fix random seed for reproducibility\n",
    "seed = 42\n",
    "np.random.seed(seed)\n",
    "tf.random.set_seed(seed)"
   ]
  },
  {
   "cell_type": "code",
   "execution_count": 22,
   "id": "5709ece0-8ef3-499d-a774-10e6834c20e3",
   "metadata": {},
   "outputs": [
    {
     "name": "stdout",
     "output_type": "stream",
     "text": [
      "WARNING:tensorflow:From C:\\Users\\rahul bhutekar\\ds_class\\Lib\\site-packages\\keras\\src\\backend.py:873: The name tf.get_default_graph is deprecated. Please use tf.compat.v1.get_default_graph instead.\n",
      "\n"
     ]
    }
   ],
   "source": [
    "# create model\n",
    "model = Sequential()\n",
    "model.add(Dense(18, input_dim=15, activation='relu', kernel_initializer=GlorotUniform(seed=seed)))\n",
    "# model.add(Dense(15, activation='relu', kernel_initializer=GlorotUniform(seed=seed)))\n",
    "model.add(Dense(12, activation='relu', kernel_initializer=GlorotUniform(seed=seed)))\n",
    "# model.add(Dense(5, activation='relu', kernel_initializer=GlorotUniform(seed=seed)))\n",
    "# model.add(Dense(3, activation='relu', kernel_initializer=GlorotUniform(seed=seed)))\n",
    "model.add(Dense(1, activation='sigmoid', kernel_initializer=GlorotUniform(seed=seed)))"
   ]
  },
  {
   "cell_type": "code",
   "execution_count": 23,
   "id": "f0295b19-385d-4807-b5b7-2206eb0f3c04",
   "metadata": {},
   "outputs": [
    {
     "name": "stdout",
     "output_type": "stream",
     "text": [
      "WARNING:tensorflow:From C:\\Users\\rahul bhutekar\\ds_class\\Lib\\site-packages\\keras\\src\\optimizers\\__init__.py:309: The name tf.train.Optimizer is deprecated. Please use tf.compat.v1.train.Optimizer instead.\n",
      "\n"
     ]
    }
   ],
   "source": [
    "# compile the model\n",
    "model.compile(loss='binary_crossentropy', optimizer='adam', metrics=['accuracy'])"
   ]
  },
  {
   "cell_type": "code",
   "execution_count": 24,
   "id": "f868c0cb-9bf4-43cf-a452-02ce4a41aaed",
   "metadata": {},
   "outputs": [
    {
     "name": "stdout",
     "output_type": "stream",
     "text": [
      "Epoch 1/70\n",
      "WARNING:tensorflow:From C:\\Users\\rahul bhutekar\\ds_class\\Lib\\site-packages\\keras\\src\\utils\\tf_utils.py:492: The name tf.ragged.RaggedTensorValue is deprecated. Please use tf.compat.v1.ragged.RaggedTensorValue instead.\n",
      "\n",
      "WARNING:tensorflow:From C:\\Users\\rahul bhutekar\\ds_class\\Lib\\site-packages\\keras\\src\\engine\\base_layer_utils.py:384: The name tf.executing_eagerly_outside_functions is deprecated. Please use tf.compat.v1.executing_eagerly_outside_functions instead.\n",
      "\n",
      "16/16 [==============================] - 1s 21ms/step - loss: 0.6964 - accuracy: 0.7147 - val_loss: 1.3757 - val_accuracy: 0.0000e+00\n",
      "Epoch 2/70\n",
      "16/16 [==============================] - 0s 5ms/step - loss: 0.6418 - accuracy: 0.6817 - val_loss: 0.9762 - val_accuracy: 0.0000e+00\n",
      "Epoch 3/70\n",
      "16/16 [==============================] - 0s 5ms/step - loss: 0.6357 - accuracy: 0.7087 - val_loss: 1.1839 - val_accuracy: 0.0000e+00\n",
      "Epoch 4/70\n",
      "16/16 [==============================] - 0s 5ms/step - loss: 0.5949 - accuracy: 0.7087 - val_loss: 1.0382 - val_accuracy: 0.0000e+00\n",
      "Epoch 5/70\n",
      "16/16 [==============================] - 0s 5ms/step - loss: 0.6074 - accuracy: 0.7027 - val_loss: 1.0521 - val_accuracy: 0.0000e+00\n",
      "Epoch 6/70\n",
      "16/16 [==============================] - 0s 5ms/step - loss: 0.5946 - accuracy: 0.7027 - val_loss: 1.0391 - val_accuracy: 0.0000e+00\n",
      "Epoch 7/70\n",
      "16/16 [==============================] - 0s 5ms/step - loss: 0.5898 - accuracy: 0.7027 - val_loss: 1.0203 - val_accuracy: 0.0000e+00\n",
      "Epoch 8/70\n",
      "16/16 [==============================] - 0s 5ms/step - loss: 0.5831 - accuracy: 0.7027 - val_loss: 1.0040 - val_accuracy: 0.0000e+00\n",
      "Epoch 9/70\n",
      "16/16 [==============================] - 0s 5ms/step - loss: 0.5782 - accuracy: 0.7057 - val_loss: 0.9753 - val_accuracy: 0.0000e+00\n",
      "Epoch 10/70\n",
      "16/16 [==============================] - 0s 4ms/step - loss: 0.5755 - accuracy: 0.6967 - val_loss: 0.9764 - val_accuracy: 0.0070\n",
      "Epoch 11/70\n",
      "16/16 [==============================] - 0s 5ms/step - loss: 0.5680 - accuracy: 0.7057 - val_loss: 0.9655 - val_accuracy: 0.0210\n",
      "Epoch 12/70\n",
      "16/16 [==============================] - 0s 5ms/step - loss: 0.5620 - accuracy: 0.6967 - val_loss: 0.9456 - val_accuracy: 0.0350\n",
      "Epoch 13/70\n",
      "16/16 [==============================] - 0s 5ms/step - loss: 0.5576 - accuracy: 0.6967 - val_loss: 0.9211 - val_accuracy: 0.0699\n",
      "Epoch 14/70\n",
      "16/16 [==============================] - 0s 5ms/step - loss: 0.5559 - accuracy: 0.7057 - val_loss: 0.9252 - val_accuracy: 0.0699\n",
      "Epoch 15/70\n",
      "16/16 [==============================] - 0s 5ms/step - loss: 0.5495 - accuracy: 0.7027 - val_loss: 0.9139 - val_accuracy: 0.1119\n",
      "Epoch 16/70\n",
      "16/16 [==============================] - 0s 5ms/step - loss: 0.5444 - accuracy: 0.7087 - val_loss: 0.8965 - val_accuracy: 0.1329\n",
      "Epoch 17/70\n",
      "16/16 [==============================] - 0s 5ms/step - loss: 0.5387 - accuracy: 0.7117 - val_loss: 0.8801 - val_accuracy: 0.1608\n",
      "Epoch 18/70\n",
      "16/16 [==============================] - 0s 5ms/step - loss: 0.5356 - accuracy: 0.7087 - val_loss: 0.8737 - val_accuracy: 0.1608\n",
      "Epoch 19/70\n",
      "16/16 [==============================] - 0s 5ms/step - loss: 0.5312 - accuracy: 0.7117 - val_loss: 0.8525 - val_accuracy: 0.1678\n",
      "Epoch 20/70\n",
      "16/16 [==============================] - 0s 4ms/step - loss: 0.5311 - accuracy: 0.7117 - val_loss: 0.8582 - val_accuracy: 0.1678\n",
      "Epoch 21/70\n",
      "16/16 [==============================] - 0s 4ms/step - loss: 0.5253 - accuracy: 0.7117 - val_loss: 0.8503 - val_accuracy: 0.1818\n",
      "Epoch 22/70\n",
      "16/16 [==============================] - 0s 5ms/step - loss: 0.5207 - accuracy: 0.7207 - val_loss: 0.8343 - val_accuracy: 0.2098\n",
      "Epoch 23/70\n",
      "16/16 [==============================] - 0s 5ms/step - loss: 0.5160 - accuracy: 0.7207 - val_loss: 0.8167 - val_accuracy: 0.2448\n",
      "Epoch 24/70\n",
      "16/16 [==============================] - 0s 5ms/step - loss: 0.5154 - accuracy: 0.7117 - val_loss: 0.8202 - val_accuracy: 0.2448\n",
      "Epoch 25/70\n",
      "16/16 [==============================] - 0s 4ms/step - loss: 0.5105 - accuracy: 0.7267 - val_loss: 0.8114 - val_accuracy: 0.2517\n",
      "Epoch 26/70\n",
      "16/16 [==============================] - 0s 5ms/step - loss: 0.5054 - accuracy: 0.7207 - val_loss: 0.7953 - val_accuracy: 0.3077\n",
      "Epoch 27/70\n",
      "16/16 [==============================] - 0s 6ms/step - loss: 0.5014 - accuracy: 0.7297 - val_loss: 0.7749 - val_accuracy: 0.3916\n",
      "Epoch 28/70\n",
      "16/16 [==============================] - 0s 4ms/step - loss: 0.5031 - accuracy: 0.7327 - val_loss: 0.7876 - val_accuracy: 0.3287\n",
      "Epoch 29/70\n",
      "16/16 [==============================] - 0s 4ms/step - loss: 0.4975 - accuracy: 0.7237 - val_loss: 0.7781 - val_accuracy: 0.3916\n",
      "Epoch 30/70\n",
      "16/16 [==============================] - 0s 4ms/step - loss: 0.4935 - accuracy: 0.7387 - val_loss: 0.7644 - val_accuracy: 0.3916\n",
      "Epoch 31/70\n",
      "16/16 [==============================] - 0s 5ms/step - loss: 0.4882 - accuracy: 0.7417 - val_loss: 0.7413 - val_accuracy: 0.4615\n",
      "Epoch 32/70\n",
      "16/16 [==============================] - 0s 5ms/step - loss: 0.4911 - accuracy: 0.7417 - val_loss: 0.7567 - val_accuracy: 0.3916\n",
      "Epoch 33/70\n",
      "16/16 [==============================] - 0s 5ms/step - loss: 0.4852 - accuracy: 0.7417 - val_loss: 0.7460 - val_accuracy: 0.4056\n",
      "Epoch 34/70\n",
      "16/16 [==============================] - 0s 5ms/step - loss: 0.4823 - accuracy: 0.7477 - val_loss: 0.7343 - val_accuracy: 0.4895\n",
      "Epoch 35/70\n",
      "16/16 [==============================] - 0s 5ms/step - loss: 0.4769 - accuracy: 0.7538 - val_loss: 0.7227 - val_accuracy: 0.5385\n",
      "Epoch 36/70\n",
      "16/16 [==============================] - 0s 13ms/step - loss: 0.4738 - accuracy: 0.7598 - val_loss: 0.7024 - val_accuracy: 0.5734\n",
      "Epoch 37/70\n",
      "16/16 [==============================] - 0s 4ms/step - loss: 0.4767 - accuracy: 0.7718 - val_loss: 0.7205 - val_accuracy: 0.5385\n",
      "Epoch 38/70\n",
      "16/16 [==============================] - 0s 5ms/step - loss: 0.4711 - accuracy: 0.7688 - val_loss: 0.7111 - val_accuracy: 0.5455\n",
      "Epoch 39/70\n",
      "16/16 [==============================] - 0s 4ms/step - loss: 0.4677 - accuracy: 0.7778 - val_loss: 0.6982 - val_accuracy: 0.5734\n",
      "Epoch 40/70\n",
      "16/16 [==============================] - 0s 5ms/step - loss: 0.4632 - accuracy: 0.7808 - val_loss: 0.6805 - val_accuracy: 0.5944\n",
      "Epoch 41/70\n",
      "16/16 [==============================] - 0s 5ms/step - loss: 0.4653 - accuracy: 0.7808 - val_loss: 0.6917 - val_accuracy: 0.5734\n",
      "Epoch 42/70\n",
      "16/16 [==============================] - 0s 5ms/step - loss: 0.4598 - accuracy: 0.7838 - val_loss: 0.6834 - val_accuracy: 0.5944\n",
      "Epoch 43/70\n",
      "16/16 [==============================] - 0s 5ms/step - loss: 0.4555 - accuracy: 0.7838 - val_loss: 0.6633 - val_accuracy: 0.6224\n",
      "Epoch 44/70\n",
      "16/16 [==============================] - 0s 4ms/step - loss: 0.4562 - accuracy: 0.7868 - val_loss: 0.6704 - val_accuracy: 0.6154\n",
      "Epoch 45/70\n",
      "16/16 [==============================] - 0s 4ms/step - loss: 0.4503 - accuracy: 0.7838 - val_loss: 0.6604 - val_accuracy: 0.6224\n",
      "Epoch 46/70\n",
      "16/16 [==============================] - 0s 4ms/step - loss: 0.4479 - accuracy: 0.7928 - val_loss: 0.6392 - val_accuracy: 0.6573\n",
      "Epoch 47/70\n",
      "16/16 [==============================] - 0s 5ms/step - loss: 0.4512 - accuracy: 0.7868 - val_loss: 0.6602 - val_accuracy: 0.6224\n",
      "Epoch 48/70\n",
      "16/16 [==============================] - 0s 4ms/step - loss: 0.4450 - accuracy: 0.7898 - val_loss: 0.6484 - val_accuracy: 0.6294\n",
      "Epoch 49/70\n",
      "16/16 [==============================] - 0s 4ms/step - loss: 0.4415 - accuracy: 0.7988 - val_loss: 0.6341 - val_accuracy: 0.6573\n",
      "Epoch 50/70\n",
      "16/16 [==============================] - 0s 5ms/step - loss: 0.4394 - accuracy: 0.7928 - val_loss: 0.6228 - val_accuracy: 0.6643\n",
      "Epoch 51/70\n",
      "16/16 [==============================] - 0s 4ms/step - loss: 0.4404 - accuracy: 0.7928 - val_loss: 0.6338 - val_accuracy: 0.6573\n",
      "Epoch 52/70\n",
      "16/16 [==============================] - 0s 5ms/step - loss: 0.4353 - accuracy: 0.7988 - val_loss: 0.6243 - val_accuracy: 0.6643\n",
      "Epoch 53/70\n",
      "16/16 [==============================] - 0s 4ms/step - loss: 0.4318 - accuracy: 0.8018 - val_loss: 0.6003 - val_accuracy: 0.7622\n",
      "Epoch 54/70\n",
      "16/16 [==============================] - 0s 5ms/step - loss: 0.4356 - accuracy: 0.7958 - val_loss: 0.6215 - val_accuracy: 0.6643\n",
      "Epoch 55/70\n",
      "16/16 [==============================] - 0s 5ms/step - loss: 0.4282 - accuracy: 0.8078 - val_loss: 0.6086 - val_accuracy: 0.7133\n",
      "Epoch 56/70\n",
      "16/16 [==============================] - 0s 4ms/step - loss: 0.4265 - accuracy: 0.8078 - val_loss: 0.5864 - val_accuracy: 0.7622\n",
      "Epoch 57/70\n",
      "16/16 [==============================] - 0s 5ms/step - loss: 0.4290 - accuracy: 0.8078 - val_loss: 0.6050 - val_accuracy: 0.7063\n",
      "Epoch 58/70\n",
      "16/16 [==============================] - 0s 4ms/step - loss: 0.4210 - accuracy: 0.8108 - val_loss: 0.5845 - val_accuracy: 0.7622\n",
      "Epoch 59/70\n",
      "16/16 [==============================] - 0s 4ms/step - loss: 0.4252 - accuracy: 0.8108 - val_loss: 0.5933 - val_accuracy: 0.7622\n",
      "Epoch 60/70\n",
      "16/16 [==============================] - 0s 4ms/step - loss: 0.4179 - accuracy: 0.8138 - val_loss: 0.5848 - val_accuracy: 0.7622\n",
      "Epoch 61/70\n",
      "16/16 [==============================] - 0s 4ms/step - loss: 0.4168 - accuracy: 0.8168 - val_loss: 0.5617 - val_accuracy: 0.8042\n",
      "Epoch 62/70\n",
      "16/16 [==============================] - 0s 4ms/step - loss: 0.4202 - accuracy: 0.8138 - val_loss: 0.5848 - val_accuracy: 0.7622\n",
      "Epoch 63/70\n",
      "16/16 [==============================] - 0s 6ms/step - loss: 0.4113 - accuracy: 0.8198 - val_loss: 0.5655 - val_accuracy: 0.7622\n",
      "Epoch 64/70\n",
      "16/16 [==============================] - 0s 5ms/step - loss: 0.4128 - accuracy: 0.8288 - val_loss: 0.5638 - val_accuracy: 0.7622\n",
      "Epoch 65/70\n",
      "16/16 [==============================] - 0s 4ms/step - loss: 0.4094 - accuracy: 0.8258 - val_loss: 0.5524 - val_accuracy: 0.8042\n",
      "Epoch 66/70\n",
      "16/16 [==============================] - 0s 4ms/step - loss: 0.4111 - accuracy: 0.8288 - val_loss: 0.5615 - val_accuracy: 0.7622\n",
      "Epoch 67/70\n",
      "16/16 [==============================] - 0s 5ms/step - loss: 0.4045 - accuracy: 0.8258 - val_loss: 0.5454 - val_accuracy: 0.8042\n",
      "Epoch 68/70\n",
      "16/16 [==============================] - 0s 4ms/step - loss: 0.4076 - accuracy: 0.8288 - val_loss: 0.5524 - val_accuracy: 0.8042\n",
      "Epoch 69/70\n",
      "16/16 [==============================] - 0s 4ms/step - loss: 0.4012 - accuracy: 0.8288 - val_loss: 0.5385 - val_accuracy: 0.8042\n",
      "Epoch 70/70\n",
      "16/16 [==============================] - 0s 4ms/step - loss: 0.4045 - accuracy: 0.8348 - val_loss: 0.5466 - val_accuracy: 0.8042\n"
     ]
    }
   ],
   "source": [
    "# fit the model\n",
    "history = model.fit(X_resampled, y_resampled, validation_split=0.30, epochs=70, batch_size=22, shuffle=False)"
   ]
  },
  {
   "cell_type": "code",
   "execution_count": 25,
   "id": "0261245a-d69a-4b85-acac-109d9c903b8a",
   "metadata": {},
   "outputs": [
    {
     "name": "stdout",
     "output_type": "stream",
     "text": [
      "15/15 [==============================] - 0s 1ms/step - loss: 0.4123 - accuracy: 0.8466\n",
      "accuracy: 84.66%\n"
     ]
    }
   ],
   "source": [
    "# evaluate the model\n",
    "scores = model.evaluate(X_resampled, y_resampled)\n",
    "print(\"%s: %.2f%%\" % (model.metrics_names[1], scores[1]*100))"
   ]
  },
  {
   "cell_type": "code",
   "execution_count": 26,
   "id": "748c4f79-3b3d-4dfa-ab8f-f4741d00be79",
   "metadata": {},
   "outputs": [
    {
     "data": {
      "text/plain": [
       "dict_keys(['loss', 'accuracy', 'val_loss', 'val_accuracy'])"
      ]
     },
     "execution_count": 26,
     "metadata": {},
     "output_type": "execute_result"
    }
   ],
   "source": [
    "# Visualize training history\n",
    "\n",
    "# list all data in history\n",
    "history.history.keys()"
   ]
  },
  {
   "cell_type": "code",
   "execution_count": 27,
   "id": "7f065b33-09eb-4a8b-8fe4-9e81e148d809",
   "metadata": {},
   "outputs": [
    {
     "data": {
      "image/png": "[encoded data removed]",
      "text/plain": [
       "<Figure size 640x480 with 1 Axes>"
      ]
     },
     "metadata": {},
     "output_type": "display_data"
    },
    {
     "data": {
      "image/png": "[encoded data removed]",
      "text/plain": [
       "<Figure size 640x480 with 1 Axes>"
      ]
     },
     "metadata": {},
     "output_type": "display_data"
    }
   ],
   "source": [
    "# summarize history for accuracy\n",
    "import matplotlib.pyplot as plt\n",
    "plt.plot(history.history['accuracy'])\n",
    "plt.plot(history.history['val_accuracy'])\n",
    "plt.title('model accuracy')\n",
    "plt.ylabel('accuracy')\n",
    "plt.xlabel('epoch')\n",
    "plt.legend(['train', 'test'], loc='upper left')\n",
    "plt.show()\n",
    "\n",
    "# summarize history for loss\n",
    "plt.plot(history.history['loss'])\n",
    "plt.plot(history.history['val_loss'])\n",
    "plt.title('model loss')\n",
    "plt.ylabel('loss')\n",
    "plt.xlabel('epoch')\n",
    "plt.legend(['train', 'test'], loc='upper left')\n",
    "plt.show()"
   ]
  },
  {
   "cell_type": "code",
   "execution_count": null,
   "id": "0ed5c62f-5fba-495b-b017-e0857afba6c0",
   "metadata": {},
   "outputs": [],
   "source": []
  }
 ],
 "metadata": {
  "kernelspec": {
   "display_name": "Python 3 (ipykernel)",
   "language": "python",
   "name": "python3"
  },
  "language_info": {
   "codemirror_mode": {
    "name": "ipython",
    "version": 3
   },
   "file_extension": ".py",
   "mimetype": "text/x-python",
   "name": "python",
   "nbconvert_exporter": "python",
   "pygments_lexer": "ipython3",
   "version": "3.11.8"
  }
 },
 "nbformat": 4,
 "nbformat_minor": 5
}
