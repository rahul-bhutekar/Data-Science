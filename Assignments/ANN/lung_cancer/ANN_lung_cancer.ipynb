{
 "cells": [
  {
   "cell_type": "markdown",
   "id": "8a3dd413-be2c-411e-bdd1-a49841a0511b",
   "metadata": {},
   "source": [
    "# ANN Assignment - Lung Cancer"
   ]
  },
  {
   "cell_type": "code",
   "execution_count": null,
   "id": "5267b75d-6227-4180-b0a9-626da33b21cd",
   "metadata": {},
   "outputs": [],
   "source": [
    "# load libraries\n",
    "import pandas as pd\n",
    "import numpy as np\n",
    "import tensorflow as tf"
   ]
  },
  {
   "cell_type": "code",
   "execution_count": null,
   "id": "3d54a82d-a345-4e53-8372-0a80bcfb29b2",
   "metadata": {},
   "outputs": [],
   "source": [
    "df = pd.read_csv('./survey lung cancer.csv')\n",
    "df.head()"
   ]
  },
  {
   "cell_type": "code",
   "execution_count": null,
   "id": "af11ae57-3d51-4c3a-b18c-c7c5020646f1",
   "metadata": {},
   "outputs": [],
   "source": [
    "# number of rows and columns\n",
    "df.shape"
   ]
  },
  {
   "cell_type": "code",
   "execution_count": null,
   "id": "21e4c646-7a33-427a-b074-68ac2e54e55a",
   "metadata": {},
   "outputs": [],
   "source": [
    "# data type of each column\n",
    "df.dtypes"
   ]
  },
  {
   "cell_type": "code",
   "execution_count": null,
   "id": "50d56139-acdb-4e7b-b921-36aa2c7058c9",
   "metadata": {},
   "outputs": [],
   "source": [
    "# summary of the data: column names, total no.of non-null values, data types, memory usage\n",
    "df.info()"
   ]
  },
  {
   "cell_type": "code",
   "execution_count": null,
   "id": "421284d1-719f-4496-94fb-807f929ae3ca",
   "metadata": {},
   "outputs": [],
   "source": [
    "# summary statistics\n",
    "df.describe()"
   ]
  },
  {
   "cell_type": "code",
   "execution_count": null,
   "id": "742d4521-b1f3-4cf1-b370-f5010d1d5dc9",
   "metadata": {},
   "outputs": [],
   "source": [
    "# summary statistics for object data types\n",
    "df.describe(include=['O'])"
   ]
  },
  {
   "cell_type": "code",
   "execution_count": null,
   "id": "534d0a19-2636-41ca-9050-fa46f72ebec6",
   "metadata": {},
   "outputs": [],
   "source": [
    "# get the count of missing or null values\n",
    "df.isna().sum()"
   ]
  },
  {
   "cell_type": "code",
   "execution_count": null,
   "id": "0f74cb03-4bf9-4bf5-b903-4af059ab1e03",
   "metadata": {},
   "outputs": [],
   "source": [
    "# count of duplicate rows\n",
    "df[df.duplicated()].shape"
   ]
  },
  {
   "cell_type": "code",
   "execution_count": null,
   "id": "b727c2d0-011e-4fac-9cb7-ed7980648e33",
   "metadata": {},
   "outputs": [],
   "source": [
    "df.duplicated()"
   ]
  },
  {
   "cell_type": "code",
   "execution_count": null,
   "id": "85ab6bc3-8b55-4094-a5a5-ce49b6631952",
   "metadata": {},
   "outputs": [],
   "source": [
    "# remove duplicate rows from the DataFrame\n",
    "df = df.drop_duplicates()"
   ]
  },
  {
   "cell_type": "code",
   "execution_count": null,
   "id": "a783c2df-d89a-4b5c-bb43-26a4be17e164",
   "metadata": {},
   "outputs": [],
   "source": [
    "df.columns"
   ]
  },
  {
   "cell_type": "code",
   "execution_count": null,
   "id": "def877bd-9259-423a-8b30-edf4266169a9",
   "metadata": {},
   "outputs": [],
   "source": [
    "df['LUNG_CANCER'].value_counts()"
   ]
  },
  {
   "cell_type": "code",
   "execution_count": null,
   "id": "0608be6c-3c9d-4d26-8fec-7cbbe9feca27",
   "metadata": {},
   "outputs": [],
   "source": [
    "# preprocessing provides collection of functions and classes for preprocessing and transforming data before it is used in machine learning models\n",
    "from sklearn import preprocessing\n",
    "\n",
    "# using LabelEncoder to convert 'GENDER' and 'LUNG_CANCER' into numbers\n",
    "label_encoder = preprocessing.LabelEncoder()\n",
    "df['GENDER'] = label_encoder.fit_transform(df['GENDER'])\n",
    "df['LUNG_CANCER'] = label_encoder.fit_transform(df['LUNG_CANCER'])\n",
    "\n",
    "df['GENDER'].value_counts(), df['LUNG_CANCER'].value_counts()"
   ]
  },
  {
   "cell_type": "code",
   "execution_count": null,
   "id": "fc72d747-4c8e-4727-857c-67d7a85f4c2b",
   "metadata": {},
   "outputs": [],
   "source": [
    "X = df.drop('LUNG_CANCER', axis=1)\n",
    "y = df['LUNG_CANCER']\n",
    "X.shape, y.shape"
   ]
  },
  {
   "cell_type": "markdown",
   "id": "bea537de-feb5-4d28-8ef0-3f9045323aab",
   "metadata": {},
   "source": [
    "### as we can see we have 238 rows with \"YES\" and only 38 rows with \"NO\" values. The model trained on this dataset will inaccurately predict the result for \"NO\" values. Hence upsampling the dataset using SMOTE"
   ]
  },
  {
   "cell_type": "code",
   "execution_count": null,
   "id": "6b139814-4484-4b6e-91a8-c3e365220ed1",
   "metadata": {},
   "outputs": [],
   "source": [
    "from imblearn.over_sampling import SMOTE\n",
    "\n",
    "# Define the SMOTE oversampler\n",
    "smote = SMOTE(random_state=42)"
   ]
  },
  {
   "cell_type": "code",
   "execution_count": null,
   "id": "b07a2811-2faa-4c9a-b32e-f03fa5715fcd",
   "metadata": {},
   "outputs": [],
   "source": [
    "# Upsample the data\n",
    "X_resampled, y_resampled = smote.fit_resample(X, y)"
   ]
  },
  {
   "cell_type": "code",
   "execution_count": null,
   "id": "7feeb9ed-f2cf-4ebe-91e0-097ad1e2a192",
   "metadata": {},
   "outputs": [],
   "source": [
    "y_resampled.value_counts()"
   ]
  },
  {
   "cell_type": "code",
   "execution_count": null,
   "id": "ee878c16-1983-4d5f-928c-b54a0d1ab083",
   "metadata": {},
   "outputs": [],
   "source": [
    "X_resampled.shape, y_resampled.shape"
   ]
  },
  {
   "cell_type": "code",
   "execution_count": null,
   "id": "e30c6a8c-9639-4e81-b23d-c391ec824899",
   "metadata": {},
   "outputs": [],
   "source": [
    "from keras.models import Sequential\n",
    "from keras.layers import Dense\n",
    "\n",
    "from keras.initializers import GlorotUniform"
   ]
  },
  {
   "cell_type": "code",
   "execution_count": null,
   "id": "b82582f3-eab7-454c-bd07-2c5e21780776",
   "metadata": {},
   "outputs": [],
   "source": [
    "# fix random seed for reproducibility\n",
    "seed = 42\n",
    "np.random.seed(seed)\n",
    "tf.random.set_seed(seed)"
   ]
  },
  {
   "cell_type": "code",
   "execution_count": null,
   "id": "5709ece0-8ef3-499d-a774-10e6834c20e3",
   "metadata": {},
   "outputs": [],
   "source": [
    "# create model\n",
    "model = Sequential()\n",
    "model.add(Dense(18, input_dim=15, activation='relu', kernel_initializer=GlorotUniform(seed=seed)))\n",
    "# model.add(Dense(15, activation='relu', kernel_initializer=GlorotUniform(seed=seed)))\n",
    "model.add(Dense(12, activation='relu', kernel_initializer=GlorotUniform(seed=seed)))\n",
    "# model.add(Dense(5, activation='relu', kernel_initializer=GlorotUniform(seed=seed)))\n",
    "# model.add(Dense(3, activation='relu', kernel_initializer=GlorotUniform(seed=seed)))\n",
    "model.add(Dense(1, activation='sigmoid', kernel_initializer=GlorotUniform(seed=seed)))"
   ]
  },
  {
   "cell_type": "code",
   "execution_count": null,
   "id": "f0295b19-385d-4807-b5b7-2206eb0f3c04",
   "metadata": {},
   "outputs": [],
   "source": [
    "# compile the model\n",
    "model.compile(loss='binary_crossentropy', optimizer='adam', metrics=['accuracy'])"
   ]
  },
  {
   "cell_type": "code",
   "execution_count": null,
   "id": "f868c0cb-9bf4-43cf-a452-02ce4a41aaed",
   "metadata": {},
   "outputs": [],
   "source": [
    "# fit the model\n",
    "history = model.fit(X_resampled, y_resampled, validation_split=0.30, epochs=70, batch_size=22, shuffle=False)"
   ]
  },
  {
   "cell_type": "code",
   "execution_count": null,
   "id": "0261245a-d69a-4b85-acac-109d9c903b8a",
   "metadata": {},
   "outputs": [],
   "source": [
    "# evaluate the model\n",
    "scores = model.evaluate(X_resampled, y_resampled)\n",
    "print(\"%s: %.2f%%\" % (model.metrics_names[1], scores[1]*100))"
   ]
  },
  {
   "cell_type": "code",
   "execution_count": null,
   "id": "748c4f79-3b3d-4dfa-ab8f-f4741d00be79",
   "metadata": {},
   "outputs": [],
   "source": [
    "# Visualize training history\n",
    "\n",
    "# list all data in history\n",
    "history.history.keys()"
   ]
  },
  {
   "cell_type": "code",
   "execution_count": null,
   "id": "7f065b33-09eb-4a8b-8fe4-9e81e148d809",
   "metadata": {},
   "outputs": [],
   "source": [
    "# summarize history for accuracy\n",
    "import matplotlib.pyplot as plt\n",
    "plt.plot(history.history['accuracy'])\n",
    "plt.plot(history.history['val_accuracy'])\n",
    "plt.title('model accuracy')\n",
    "plt.ylabel('accuracy')\n",
    "plt.xlabel('epoch')\n",
    "plt.legend(['train', 'test'], loc='upper left')\n",
    "plt.show()\n",
    "\n",
    "# summarize history for loss\n",
    "plt.plot(history.history['loss'])\n",
    "plt.plot(history.history['val_loss'])\n",
    "plt.title('model loss')\n",
    "plt.ylabel('loss')\n",
    "plt.xlabel('epoch')\n",
    "plt.legend(['train', 'test'], loc='upper left')\n",
    "plt.show()"
   ]
  },
  {
   "cell_type": "code",
   "execution_count": null,
   "id": "0ed5c62f-5fba-495b-b017-e0857afba6c0",
   "metadata": {},
   "outputs": [],
   "source": []
  }
 ],
 "metadata": {
  "kernelspec": {
   "display_name": "Python 3 (ipykernel)",
   "language": "python",
   "name": "python3"
  },
  "language_info": {
   "codemirror_mode": {
    "name": "ipython",
    "version": 3
   },
   "file_extension": ".py",
   "mimetype": "text/x-python",
   "name": "python",
   "nbconvert_exporter": "python",
   "pygments_lexer": "ipython3",
   "version": "3.10.12"
  }
 },
 "nbformat": 4,
 "nbformat_minor": 5
}
