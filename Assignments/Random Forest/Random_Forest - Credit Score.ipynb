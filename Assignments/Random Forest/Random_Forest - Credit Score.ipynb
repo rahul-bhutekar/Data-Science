{
 "cells": [
  {
   "cell_type": "markdown",
   "id": "7c501f82-c0a8-4163-a312-bce86c6d757a",
   "metadata": {},
   "source": [
    "# Random Forest Classification - Credit Score"
   ]
  },
  {
   "cell_type": "markdown",
   "id": "a0734bc0-f396-4f08-9fa5-ceae7c464854",
   "metadata": {},
   "source": [
    "## EDA"
   ]
  },
  {
   "cell_type": "code",
   "execution_count": 356,
   "id": "52bca177-7cc7-48f2-8a7c-83737da8bddc",
   "metadata": {},
   "outputs": [],
   "source": [
    "# load libraries\n",
    "import pandas as pd\n",
    "import numpy as np"
   ]
  },
  {
   "cell_type": "code",
   "execution_count": 357,
   "id": "b09bee4c-11d5-4a40-8ff5-8fd700327015",
   "metadata": {},
   "outputs": [
    {
     "data": {
      "text/html": [
       "<div>\n",
       "<style scoped>\n",
       "    .dataframe tbody tr th:only-of-type {\n",
       "        vertical-align: middle;\n",
       "    }\n",
       "\n",
       "    .dataframe tbody tr th {\n",
       "        vertical-align: top;\n",
       "    }\n",
       "\n",
       "    .dataframe thead th {\n",
       "        text-align: right;\n",
       "    }\n",
       "</style>\n",
       "<table border=\"1\" class=\"dataframe\">\n",
       "  <thead>\n",
       "    <tr style=\"text-align: right;\">\n",
       "      <th></th>\n",
       "      <th>ID</th>\n",
       "      <th>Customer_ID</th>\n",
       "      <th>Month</th>\n",
       "      <th>Name</th>\n",
       "      <th>Age</th>\n",
       "      <th>SSN</th>\n",
       "      <th>Occupation</th>\n",
       "      <th>Annual_Income</th>\n",
       "      <th>Monthly_Inhand_Salary</th>\n",
       "      <th>Num_Bank_Accounts</th>\n",
       "      <th>...</th>\n",
       "      <th>Num_Credit_Inquiries</th>\n",
       "      <th>Credit_Mix</th>\n",
       "      <th>Outstanding_Debt</th>\n",
       "      <th>Credit_Utilization_Ratio</th>\n",
       "      <th>Credit_History_Age</th>\n",
       "      <th>Payment_of_Min_Amount</th>\n",
       "      <th>Total_EMI_per_month</th>\n",
       "      <th>Amount_invested_monthly</th>\n",
       "      <th>Payment_Behaviour</th>\n",
       "      <th>Monthly_Balance</th>\n",
       "    </tr>\n",
       "  </thead>\n",
       "  <tbody>\n",
       "    <tr>\n",
       "      <th>0</th>\n",
       "      <td>0x160a</td>\n",
       "      <td>CUS_0xd40</td>\n",
       "      <td>September</td>\n",
       "      <td>Aaron Maashoh</td>\n",
       "      <td>23</td>\n",
       "      <td>821-00-0265</td>\n",
       "      <td>Scientist</td>\n",
       "      <td>19114.12</td>\n",
       "      <td>1824.843333</td>\n",
       "      <td>3</td>\n",
       "      <td>...</td>\n",
       "      <td>2022.0</td>\n",
       "      <td>Good</td>\n",
       "      <td>809.98</td>\n",
       "      <td>35.030402</td>\n",
       "      <td>22 Years and 9 Months</td>\n",
       "      <td>No</td>\n",
       "      <td>49.574949</td>\n",
       "      <td>236.64268203272135</td>\n",
       "      <td>Low_spent_Small_value_payments</td>\n",
       "      <td>186.26670208571772</td>\n",
       "    </tr>\n",
       "    <tr>\n",
       "      <th>1</th>\n",
       "      <td>0x160b</td>\n",
       "      <td>CUS_0xd40</td>\n",
       "      <td>October</td>\n",
       "      <td>Aaron Maashoh</td>\n",
       "      <td>24</td>\n",
       "      <td>821-00-0265</td>\n",
       "      <td>Scientist</td>\n",
       "      <td>19114.12</td>\n",
       "      <td>1824.843333</td>\n",
       "      <td>3</td>\n",
       "      <td>...</td>\n",
       "      <td>4.0</td>\n",
       "      <td>Good</td>\n",
       "      <td>809.98</td>\n",
       "      <td>33.053114</td>\n",
       "      <td>22 Years and 10 Months</td>\n",
       "      <td>No</td>\n",
       "      <td>49.574949</td>\n",
       "      <td>21.465380264657146</td>\n",
       "      <td>High_spent_Medium_value_payments</td>\n",
       "      <td>361.44400385378196</td>\n",
       "    </tr>\n",
       "    <tr>\n",
       "      <th>2</th>\n",
       "      <td>0x160c</td>\n",
       "      <td>CUS_0xd40</td>\n",
       "      <td>November</td>\n",
       "      <td>Aaron Maashoh</td>\n",
       "      <td>24</td>\n",
       "      <td>821-00-0265</td>\n",
       "      <td>Scientist</td>\n",
       "      <td>19114.12</td>\n",
       "      <td>1824.843333</td>\n",
       "      <td>3</td>\n",
       "      <td>...</td>\n",
       "      <td>4.0</td>\n",
       "      <td>Good</td>\n",
       "      <td>809.98</td>\n",
       "      <td>33.811894</td>\n",
       "      <td>NaN</td>\n",
       "      <td>No</td>\n",
       "      <td>49.574949</td>\n",
       "      <td>148.23393788500925</td>\n",
       "      <td>Low_spent_Medium_value_payments</td>\n",
       "      <td>264.67544623342997</td>\n",
       "    </tr>\n",
       "    <tr>\n",
       "      <th>3</th>\n",
       "      <td>0x160d</td>\n",
       "      <td>CUS_0xd40</td>\n",
       "      <td>December</td>\n",
       "      <td>Aaron Maashoh</td>\n",
       "      <td>24_</td>\n",
       "      <td>821-00-0265</td>\n",
       "      <td>Scientist</td>\n",
       "      <td>19114.12</td>\n",
       "      <td>NaN</td>\n",
       "      <td>3</td>\n",
       "      <td>...</td>\n",
       "      <td>4.0</td>\n",
       "      <td>Good</td>\n",
       "      <td>809.98</td>\n",
       "      <td>32.430559</td>\n",
       "      <td>23 Years and 0 Months</td>\n",
       "      <td>No</td>\n",
       "      <td>49.574949</td>\n",
       "      <td>39.08251089460281</td>\n",
       "      <td>High_spent_Medium_value_payments</td>\n",
       "      <td>343.82687322383634</td>\n",
       "    </tr>\n",
       "    <tr>\n",
       "      <th>4</th>\n",
       "      <td>0x1616</td>\n",
       "      <td>CUS_0x21b1</td>\n",
       "      <td>September</td>\n",
       "      <td>Rick Rothackerj</td>\n",
       "      <td>28</td>\n",
       "      <td>004-07-5839</td>\n",
       "      <td>_______</td>\n",
       "      <td>34847.84</td>\n",
       "      <td>3037.986667</td>\n",
       "      <td>2</td>\n",
       "      <td>...</td>\n",
       "      <td>5.0</td>\n",
       "      <td>Good</td>\n",
       "      <td>605.03</td>\n",
       "      <td>25.926822</td>\n",
       "      <td>27 Years and 3 Months</td>\n",
       "      <td>No</td>\n",
       "      <td>18.816215</td>\n",
       "      <td>39.684018417945296</td>\n",
       "      <td>High_spent_Large_value_payments</td>\n",
       "      <td>485.2984336755923</td>\n",
       "    </tr>\n",
       "  </tbody>\n",
       "</table>\n",
       "<p>5 rows × 27 columns</p>\n",
       "</div>"
      ],
      "text/plain": [
       "       ID Customer_ID      Month             Name  Age          SSN  \\\n",
       "0  0x160a   CUS_0xd40  September    Aaron Maashoh   23  821-00-0265   \n",
       "1  0x160b   CUS_0xd40    October    Aaron Maashoh   24  821-00-0265   \n",
       "2  0x160c   CUS_0xd40   November    Aaron Maashoh   24  821-00-0265   \n",
       "3  0x160d   CUS_0xd40   December    Aaron Maashoh  24_  821-00-0265   \n",
       "4  0x1616  CUS_0x21b1  September  Rick Rothackerj   28  004-07-5839   \n",
       "\n",
       "  Occupation Annual_Income  Monthly_Inhand_Salary  Num_Bank_Accounts  ...  \\\n",
       "0  Scientist      19114.12            1824.843333                  3  ...   \n",
       "1  Scientist      19114.12            1824.843333                  3  ...   \n",
       "2  Scientist      19114.12            1824.843333                  3  ...   \n",
       "3  Scientist      19114.12                    NaN                  3  ...   \n",
       "4    _______      34847.84            3037.986667                  2  ...   \n",
       "\n",
       "   Num_Credit_Inquiries  Credit_Mix Outstanding_Debt Credit_Utilization_Ratio  \\\n",
       "0                2022.0        Good           809.98                35.030402   \n",
       "1                   4.0        Good           809.98                33.053114   \n",
       "2                   4.0        Good           809.98                33.811894   \n",
       "3                   4.0        Good           809.98                32.430559   \n",
       "4                   5.0        Good           605.03                25.926822   \n",
       "\n",
       "       Credit_History_Age Payment_of_Min_Amount Total_EMI_per_month  \\\n",
       "0   22 Years and 9 Months                    No           49.574949   \n",
       "1  22 Years and 10 Months                    No           49.574949   \n",
       "2                     NaN                    No           49.574949   \n",
       "3   23 Years and 0 Months                    No           49.574949   \n",
       "4   27 Years and 3 Months                    No           18.816215   \n",
       "\n",
       "   Amount_invested_monthly                 Payment_Behaviour  \\\n",
       "0       236.64268203272135    Low_spent_Small_value_payments   \n",
       "1       21.465380264657146  High_spent_Medium_value_payments   \n",
       "2       148.23393788500925   Low_spent_Medium_value_payments   \n",
       "3        39.08251089460281  High_spent_Medium_value_payments   \n",
       "4       39.684018417945296   High_spent_Large_value_payments   \n",
       "\n",
       "      Monthly_Balance  \n",
       "0  186.26670208571772  \n",
       "1  361.44400385378196  \n",
       "2  264.67544623342997  \n",
       "3  343.82687322383634  \n",
       "4   485.2984336755923  \n",
       "\n",
       "[5 rows x 27 columns]"
      ]
     },
     "execution_count": 357,
     "metadata": {},
     "output_type": "execute_result"
    }
   ],
   "source": [
    "# read file using read_csv function\n",
    "\n",
    "df = pd.read_csv('./dataset/credit-score.csv')\n",
    "df.head()"
   ]
  },
  {
   "cell_type": "code",
   "execution_count": 358,
   "id": "66c8028a-1f92-4bee-a288-c4bff643f4cd",
   "metadata": {},
   "outputs": [
    {
     "data": {
      "text/html": [
       "<div>\n",
       "<style scoped>\n",
       "    .dataframe tbody tr th:only-of-type {\n",
       "        vertical-align: middle;\n",
       "    }\n",
       "\n",
       "    .dataframe tbody tr th {\n",
       "        vertical-align: top;\n",
       "    }\n",
       "\n",
       "    .dataframe thead th {\n",
       "        text-align: right;\n",
       "    }\n",
       "</style>\n",
       "<table border=\"1\" class=\"dataframe\">\n",
       "  <thead>\n",
       "    <tr style=\"text-align: right;\">\n",
       "      <th></th>\n",
       "      <th>Age</th>\n",
       "      <th>Annual_Income</th>\n",
       "      <th>Monthly_Inhand_Salary</th>\n",
       "      <th>Num_Credit_Card</th>\n",
       "      <th>Num_of_Loan</th>\n",
       "      <th>Delay_from_due_date</th>\n",
       "      <th>Num_of_Delayed_Payment</th>\n",
       "      <th>Changed_Credit_Limit</th>\n",
       "      <th>Num_Credit_Inquiries</th>\n",
       "      <th>Credit_Mix</th>\n",
       "      <th>Outstanding_Debt</th>\n",
       "      <th>Credit_Utilization_Ratio</th>\n",
       "      <th>Credit_History_Age</th>\n",
       "      <th>Payment_of_Min_Amount</th>\n",
       "      <th>Total_EMI_per_month</th>\n",
       "      <th>Payment_Behaviour</th>\n",
       "      <th>Monthly_Balance</th>\n",
       "    </tr>\n",
       "  </thead>\n",
       "  <tbody>\n",
       "    <tr>\n",
       "      <th>0</th>\n",
       "      <td>23</td>\n",
       "      <td>19114.12</td>\n",
       "      <td>1824.843333</td>\n",
       "      <td>4</td>\n",
       "      <td>4</td>\n",
       "      <td>3</td>\n",
       "      <td>7</td>\n",
       "      <td>11.27</td>\n",
       "      <td>2022.0</td>\n",
       "      <td>Good</td>\n",
       "      <td>809.98</td>\n",
       "      <td>35.030402</td>\n",
       "      <td>22 Years and 9 Months</td>\n",
       "      <td>No</td>\n",
       "      <td>49.574949</td>\n",
       "      <td>Low_spent_Small_value_payments</td>\n",
       "      <td>186.26670208571772</td>\n",
       "    </tr>\n",
       "    <tr>\n",
       "      <th>1</th>\n",
       "      <td>24</td>\n",
       "      <td>19114.12</td>\n",
       "      <td>1824.843333</td>\n",
       "      <td>4</td>\n",
       "      <td>4</td>\n",
       "      <td>3</td>\n",
       "      <td>9</td>\n",
       "      <td>13.27</td>\n",
       "      <td>4.0</td>\n",
       "      <td>Good</td>\n",
       "      <td>809.98</td>\n",
       "      <td>33.053114</td>\n",
       "      <td>22 Years and 10 Months</td>\n",
       "      <td>No</td>\n",
       "      <td>49.574949</td>\n",
       "      <td>High_spent_Medium_value_payments</td>\n",
       "      <td>361.44400385378196</td>\n",
       "    </tr>\n",
       "    <tr>\n",
       "      <th>2</th>\n",
       "      <td>24</td>\n",
       "      <td>19114.12</td>\n",
       "      <td>1824.843333</td>\n",
       "      <td>4</td>\n",
       "      <td>4</td>\n",
       "      <td>-1</td>\n",
       "      <td>4</td>\n",
       "      <td>12.27</td>\n",
       "      <td>4.0</td>\n",
       "      <td>Good</td>\n",
       "      <td>809.98</td>\n",
       "      <td>33.811894</td>\n",
       "      <td>NaN</td>\n",
       "      <td>No</td>\n",
       "      <td>49.574949</td>\n",
       "      <td>Low_spent_Medium_value_payments</td>\n",
       "      <td>264.67544623342997</td>\n",
       "    </tr>\n",
       "    <tr>\n",
       "      <th>3</th>\n",
       "      <td>24_</td>\n",
       "      <td>19114.12</td>\n",
       "      <td>NaN</td>\n",
       "      <td>4</td>\n",
       "      <td>4</td>\n",
       "      <td>4</td>\n",
       "      <td>5</td>\n",
       "      <td>11.27</td>\n",
       "      <td>4.0</td>\n",
       "      <td>Good</td>\n",
       "      <td>809.98</td>\n",
       "      <td>32.430559</td>\n",
       "      <td>23 Years and 0 Months</td>\n",
       "      <td>No</td>\n",
       "      <td>49.574949</td>\n",
       "      <td>High_spent_Medium_value_payments</td>\n",
       "      <td>343.82687322383634</td>\n",
       "    </tr>\n",
       "    <tr>\n",
       "      <th>4</th>\n",
       "      <td>28</td>\n",
       "      <td>34847.84</td>\n",
       "      <td>3037.986667</td>\n",
       "      <td>4</td>\n",
       "      <td>1</td>\n",
       "      <td>3</td>\n",
       "      <td>1</td>\n",
       "      <td>5.42</td>\n",
       "      <td>5.0</td>\n",
       "      <td>Good</td>\n",
       "      <td>605.03</td>\n",
       "      <td>25.926822</td>\n",
       "      <td>27 Years and 3 Months</td>\n",
       "      <td>No</td>\n",
       "      <td>18.816215</td>\n",
       "      <td>High_spent_Large_value_payments</td>\n",
       "      <td>485.2984336755923</td>\n",
       "    </tr>\n",
       "  </tbody>\n",
       "</table>\n",
       "</div>"
      ],
      "text/plain": [
       "   Age Annual_Income  Monthly_Inhand_Salary  Num_Credit_Card Num_of_Loan  \\\n",
       "0   23      19114.12            1824.843333                4           4   \n",
       "1   24      19114.12            1824.843333                4           4   \n",
       "2   24      19114.12            1824.843333                4           4   \n",
       "3  24_      19114.12                    NaN                4           4   \n",
       "4   28      34847.84            3037.986667                4           1   \n",
       "\n",
       "   Delay_from_due_date Num_of_Delayed_Payment Changed_Credit_Limit  \\\n",
       "0                    3                      7                11.27   \n",
       "1                    3                      9                13.27   \n",
       "2                   -1                      4                12.27   \n",
       "3                    4                      5                11.27   \n",
       "4                    3                      1                 5.42   \n",
       "\n",
       "   Num_Credit_Inquiries Credit_Mix Outstanding_Debt  Credit_Utilization_Ratio  \\\n",
       "0                2022.0       Good           809.98                 35.030402   \n",
       "1                   4.0       Good           809.98                 33.053114   \n",
       "2                   4.0       Good           809.98                 33.811894   \n",
       "3                   4.0       Good           809.98                 32.430559   \n",
       "4                   5.0       Good           605.03                 25.926822   \n",
       "\n",
       "       Credit_History_Age Payment_of_Min_Amount  Total_EMI_per_month  \\\n",
       "0   22 Years and 9 Months                    No            49.574949   \n",
       "1  22 Years and 10 Months                    No            49.574949   \n",
       "2                     NaN                    No            49.574949   \n",
       "3   23 Years and 0 Months                    No            49.574949   \n",
       "4   27 Years and 3 Months                    No            18.816215   \n",
       "\n",
       "                  Payment_Behaviour     Monthly_Balance  \n",
       "0    Low_spent_Small_value_payments  186.26670208571772  \n",
       "1  High_spent_Medium_value_payments  361.44400385378196  \n",
       "2   Low_spent_Medium_value_payments  264.67544623342997  \n",
       "3  High_spent_Medium_value_payments  343.82687322383634  \n",
       "4   High_spent_Large_value_payments   485.2984336755923  "
      ]
     },
     "execution_count": 358,
     "metadata": {},
     "output_type": "execute_result"
    }
   ],
   "source": [
    "# dropping columns which I feel are not reqquired for the classification\n",
    "df.drop(['ID', 'Customer_ID', 'Month', 'Name', 'SSN', 'Occupation', 'Interest_Rate', 'Type_of_Loan', 'Amount_invested_monthly', 'Num_Bank_Accounts'], axis=1, inplace=True)\n",
    "df.head()"
   ]
  },
  {
   "cell_type": "code",
   "execution_count": 359,
   "id": "3ca36eea-5ca8-4d17-852d-65ba4a09cb1d",
   "metadata": {},
   "outputs": [
    {
     "name": "stdout",
     "output_type": "stream",
     "text": [
      "<class 'pandas.core.frame.DataFrame'>\n",
      "RangeIndex: 50000 entries, 0 to 49999\n",
      "Data columns (total 17 columns):\n",
      " #   Column                    Non-Null Count  Dtype  \n",
      "---  ------                    --------------  -----  \n",
      " 0   Age                       50000 non-null  object \n",
      " 1   Annual_Income             50000 non-null  object \n",
      " 2   Monthly_Inhand_Salary     42502 non-null  float64\n",
      " 3   Num_Credit_Card           50000 non-null  int64  \n",
      " 4   Num_of_Loan               50000 non-null  object \n",
      " 5   Delay_from_due_date       50000 non-null  int64  \n",
      " 6   Num_of_Delayed_Payment    46502 non-null  object \n",
      " 7   Changed_Credit_Limit      50000 non-null  object \n",
      " 8   Num_Credit_Inquiries      48965 non-null  float64\n",
      " 9   Credit_Mix                50000 non-null  object \n",
      " 10  Outstanding_Debt          50000 non-null  object \n",
      " 11  Credit_Utilization_Ratio  50000 non-null  float64\n",
      " 12  Credit_History_Age        45530 non-null  object \n",
      " 13  Payment_of_Min_Amount     50000 non-null  object \n",
      " 14  Total_EMI_per_month       50000 non-null  float64\n",
      " 15  Payment_Behaviour         50000 non-null  object \n",
      " 16  Monthly_Balance           49438 non-null  object \n",
      "dtypes: float64(4), int64(2), object(11)\n",
      "memory usage: 6.5+ MB\n"
     ]
    }
   ],
   "source": [
    "# summary of the data: column names, total no.of non-null values, data types, memory usage\n",
    "df.info()"
   ]
  },
  {
   "cell_type": "code",
   "execution_count": 360,
   "id": "63f8a171-e8f4-44e6-ad72-55201b311322",
   "metadata": {},
   "outputs": [
    {
     "data": {
      "text/plain": [
       "array(['23', '24', '24_', '28', '35', '55', '22', '31', '32', '1694',\n",
       "       '34', '30', '914', '45', '41_', '41', '33', '36', '39', '40',\n",
       "       '40_', '37', '21', '46', '26', '27', '32_', '42', '42_', '20',\n",
       "       '48', '49', '33_', '38', '38_', '44', '-500', '16', '17', '37_',\n",
       "       '19_', '19', '3193', '43', '339', '14', '15', '25', '21_', '1203',\n",
       "       '46_', '2823', '22_', '18', '47', '1643', '20_', '35_', '8327_',\n",
       "       '29', '29_', '28_', '53', '56', '26_', '6586', '7014', '3391',\n",
       "       '54', '3765', '43_', '18_', '47_', '4472', '50', '4022', '48_',\n",
       "       '4576', '51', '52', '34_', '50_', '3355', '8034', '4610_', '27_',\n",
       "       '31_', '7860', '36_', '2526', '45_', '3263', '4885', '51_', '39_',\n",
       "       '25_', '694', '8288', '52_', '8404', '451', '3168', '5172', '8214',\n",
       "       '4946', '3127', '55_', '7018', '2950', '7676', '5502', '4133',\n",
       "       '2083', '3752', '23_', '2970', '7721', '4806', '30_', '5426',\n",
       "       '4787', '44_', '4390', '3218', '6000', '538', '7319', '17_',\n",
       "       '5530', '6838', '2069', '8337', '2532', '1587', '7749', '56_',\n",
       "       '5255', '5532', '7045', '1950', '5333', '53_', '16_', '2077_',\n",
       "       '1844', '2954', '4329', '1919', '8449', '7237', '5061', '2695',\n",
       "       '3287', '7507', '4556', '15_', '5092', '6978', '8497', '3712',\n",
       "       '693', '3922', '6097', '3527', '7836', '5165', '7849', '49_',\n",
       "       '327', '6317', '3930', '2193', '7222', '505', '7261', '6205',\n",
       "       '942', '7260', '2002', '3984', '6678', '4763', '4954', '5720',\n",
       "       '6965', '3482', '6099', '5029', '1804', '7470', '676', '5733',\n",
       "       '7005', '1631', '4204', '835', '2585', '492', '1193', '3759',\n",
       "       '2485', '4305', '2902', '2082', '6798', '5488', '5546', '8001',\n",
       "       '8641', '6439', '8481', '6558', '6866', '2049', '3981', '6659',\n",
       "       '171', '7461', '5410', '2383', '4873', '2231', '4741', '5205',\n",
       "       '6248', '95', '6966', '3485', '536', '5760', '5104', '3876', '14_',\n",
       "       '5621', '2104', '5549', '2404', '54_', '4943_', '225', '3600',\n",
       "       '2750', '601', '1566', '2969', '5018', '3993', '6744', '4385',\n",
       "       '4949', '3731', '3528', '6296', '1705', '8427', '5203', '5609',\n",
       "       '7340', '7978', '4520', '3277', '7084', '6924', '4446', '6546',\n",
       "       '4687', '6473', '8439', '6401', '1167', '2087', '7437', '2739',\n",
       "       '3576', '3207', '7964', '4265', '6409', '1417', '6841', '7052',\n",
       "       '452', '1330', '6437', '619_', '1956', '133', '4851', '830',\n",
       "       '2511_', '7904', '1342', '3452', '5619', '3030', '2582', '6080',\n",
       "       '7563', '7424', '3842', '2870', '6290', '1659', '6647_', '7389',\n",
       "       '1046', '1793', '3797', '2815', '4066', '6394', '3211', '3822',\n",
       "       '8450', '927', '4435', '6282', '3516', '1750', '6718', '7449',\n",
       "       '2905', '6760', '1913', '8639', '458', '2569', '1660', '2257',\n",
       "       '3369', '1882', '8198', '2443', '3072', '2563', '5264', '2812',\n",
       "       '5548', '8086', '6076', '6792', '5026_', '4202', '3412', '1147',\n",
       "       '3868', '3553', '453', '8629', '7702', '5863', '8502', '2320',\n",
       "       '6807', '8536', '2341', '4451', '6535', '2811', '1542', '8245_',\n",
       "       '782', '7104', '4654', '6804', '5456', '2848', '415', '7184',\n",
       "       '7754', '3007', '7774', '5316', '7409', '2336_', '8263', '3062',\n",
       "       '2587', '2926_', '3044', '1472', '8200_', '4114', '5113', '7021',\n",
       "       '8213', '3577', '6125', '7408', '1916_', '368', '7533', '2831',\n",
       "       '8500', '4304', '6868', '6695', '281', '5994', '5254', '3744',\n",
       "       '7832', '4934', '2059', '437', '1419', '120', '2552', '2698',\n",
       "       '410', '4955', '4399', '7043', '5227', '4968', '3837', '727',\n",
       "       '1900', '5296', '7590', '3020', '7190', '1986', '1672', '5700',\n",
       "       '1473', '6447', '527', '3883', '8019', '8631_', '6400_', '4079',\n",
       "       '1530', '8590', '2216', '5084', '7234', '5145', '8118', '6445',\n",
       "       '2413', '3803', '182', '863', '2367', '4179', '1141', '2436',\n",
       "       '6137', '1187', '4938_', '7554', '6126', '3423', '8464', '4521',\n",
       "       '5148', '5036', '8432', '4287', '6470_', '4807', '2544', '7707',\n",
       "       '3601', '1186', '7106', '6225', '1776_', '7550', '3271', '2042',\n",
       "       '4443', '141', '7825', '1258', '615', '2856', '5935', '8342',\n",
       "       '2322', '5552', '2929', '948', '3342', '2299', '6754', '2461',\n",
       "       '2389_', '7028', '895', '5469', '744', '6693', '644', '7946',\n",
       "       '914_', '7148', '6174', '5576', '7753', '3046', '6286', '1195',\n",
       "       '1104', '5885', '4993', '8625', '8332', '3216', '6175', '8600',\n",
       "       '8524', '5559', '7667', '829', '551', '6453_', '6385', '985',\n",
       "       '4473', '1855', '7282', '5759', '3286', '3974', '1882_', '2785',\n",
       "       '4142', '5987', '6900', '5592', '8311', '2816', '3212', '2607',\n",
       "       '6392', '3118', '7044_', '2836', '516', '1583', '5129', '1379',\n",
       "       '232', '4554', '5012', '4242', '1261', '7685', '8083', '7961',\n",
       "       '4223', '5238', '3376', '2319', '4694', '6153', '2711', '501',\n",
       "       '925', '842', '1238', '3108', '7183', '6986', '2053', '1153',\n",
       "       '6026', '2787', '730', '7391', '7909', '1977', '6967', '5309',\n",
       "       '6141', '7542', '1845', '3904', '2362', '1018_', '455', '3877',\n",
       "       '2036', '2117', '5447', '8188', '5236', '6150', '188', '3487',\n",
       "       '331', '3891', '5850', '2789', '8304', '4891', '6001', '2096',\n",
       "       '1833', '7435', '7878', '2458', '8589', '1662', '6957', '941',\n",
       "       '6653', '1081', '7495', '6272', '8232', '3817', '7171', '1263',\n",
       "       '8254', '1734', '1124', '8647', '4187', '1222', '751', '1144',\n",
       "       '5596', '6848', '7981', '4575', '5744', '7431', '5890', '2583',\n",
       "       '5784', '3085', '5078', '4426', '3122', '7144', '1841_', '3357',\n",
       "       '8487', '7625', '4682', '8557', '4184', '7700', '679', '2286',\n",
       "       '3136', '3052', '3433', '498', '2211', '6424', '136', '8054',\n",
       "       '2507', '4768', '7058', '7503', '4817', '6197', '681', '4525',\n",
       "       '3903', '2038', '2210', '5650', '1485', '5714_', '5854', '1034',\n",
       "       '2022', '8395', '3089', '6384', '5159', '4927', '1667', '7525',\n",
       "       '6515', '8688', '2604', '6809', '4549', '3295', '8217', '5111',\n",
       "       '1765', '8068', '8140', '3942', '5034', '1857', '2928', '6411',\n",
       "       '4698_', '755', '7468', '6213', '1118', '7168', '358', '1218',\n",
       "       '4543', '996', '8302', '5731', '868', '1746', '2850', '165',\n",
       "       '5133', '2599', '8305', '771', '7780', '474', '3001', '997',\n",
       "       '3908', '447', '4344', '7355', '2701', '5551', '1614', '2472',\n",
       "       '975', '4603', '557', '1210_', '8049', '6037', '8055', '1676',\n",
       "       '8632', '8065', '6354', '321', '4986', '4936', '4636', '1782',\n",
       "       '287', '8419', '7333', '775', '3582', '6222', '6421', '6612',\n",
       "       '6647', '3823', '2411', '4920', '270', '5883', '8071', '8271',\n",
       "       '1988', '402', '3474', '7926', '1952', '6873', '3076', '2663',\n",
       "       '1197', '6243', '6475', '6937', '2403', '2819', '413', '3080',\n",
       "       '1315', '6654', '4321', '4340', '1058', '6621', '8326', '2359',\n",
       "       '2310', '7864', '3191', '1955', '4033', '8334', '3382', '7876',\n",
       "       '5856', '3513_', '1220', '3915', '6667', '7334', '1415', '1445',\n",
       "       '128_', '7196', '7228', '425', '5679', '6278', '274', '5471',\n",
       "       '866', '8256', '5220', '5607', '2116', '3737', '2974_', '6083',\n",
       "       '517', '6484', '3936', '5710', '7527', '1465', '4929', '4498',\n",
       "       '2572', '743', '7559', '2894', '319', '3362', '3252', '285',\n",
       "       '1336', '3468', '3371', '5288', '5612', '3084', '993', '6903',\n",
       "       '3592', '2693', '5044', '243', '7114', '4595', '5892', '167',\n",
       "       '580', '5282', '3919', '2057', '7929', '7288', '4591', '2735',\n",
       "       '155', '5780', '4561', '989', '3360', '7229', '930', '7406_',\n",
       "       '299_', '7958', '4790', '8596', '3291', '144', '6031_', '2678',\n",
       "       '3093', '4781', '3858', '4531', '6732', '2753', '7351', '1949',\n",
       "       '909_', '3339', '6715', '2616', '1764', '8300', '2314', '4453',\n",
       "       '3056', '6391', '4013', '1395', '8426', '4888', '6330', '3706',\n",
       "       '6621_', '4718', '2797', '7120', '5667', '542', '7300', '3573',\n",
       "       '3474_', '4722', '1007', '7342', '831_', '1953', '5501', '2934',\n",
       "       '4373', '1499', '595', '1522', '5797', '6176', '7265', '5428',\n",
       "       '4697', '6094', '2166', '7314', '4024', '7520', '6133', '3324',\n",
       "       '6856', '6633', '3545', '7116', '6999', '1305', '6349', '5009',\n",
       "       '3508', '4216', '2849', '4896', '6188', '217_', '707', '2298',\n",
       "       '7239', '3814', '3728', '2779', '5213', '6884', '7810', '5269',\n",
       "       '1544', '4899', '7850', '7421', '8340_', '3524', '470', '5038',\n",
       "       '6262', '7868_', '3155', '1365', '6652', '2200', '1401_', '8361',\n",
       "       '459', '3054', '5586', '326', '7910', '5826', '4975'], dtype=object)"
      ]
     },
     "execution_count": 360,
     "metadata": {},
     "output_type": "execute_result"
    }
   ],
   "source": [
    "# Age is of OBJECT type. So here we will try to get the various values in column Age and try to convert it to tyep INT them\n",
    "df['Age'].unique()"
   ]
  },
  {
   "cell_type": "code",
   "execution_count": 361,
   "id": "f31d2668-34cb-466b-9891-befb38f5f284",
   "metadata": {},
   "outputs": [],
   "source": [
    "# function to remove '_' and convert the value to positive if it is negative\n",
    "def format_Age(value):\n",
    "    value = int(str(value).replace('_', ''))\n",
    "    \n",
    "    if value < 0:\n",
    "        value = -1 * value\n",
    "        \n",
    "    return value\n",
    "\n",
    "df['Age'] = df['Age'].apply(format_Age)"
   ]
  },
  {
   "cell_type": "code",
   "execution_count": 362,
   "id": "8e611657-f109-4188-8b85-251b25d7e1b9",
   "metadata": {},
   "outputs": [
    {
     "data": {
      "text/plain": [
       "33"
      ]
     },
     "execution_count": 362,
     "metadata": {},
     "output_type": "execute_result"
    }
   ],
   "source": [
    "# get all the valid ages and calculate the mean of these ages. \n",
    "valid_ages = [age for age in df['Age'] if age < 100]\n",
    "valid_age_mean = int(np.mean(valid_ages))\n",
    "valid_age_mean"
   ]
  },
  {
   "cell_type": "code",
   "execution_count": 363,
   "id": "eddfa9bc-7858-4afb-9a34-37dec509be20",
   "metadata": {},
   "outputs": [],
   "source": [
    "# function to replace the Age value where age is greater than 100 with the MEAN calculated in previous step\n",
    "\n",
    "def function_valid_Age(value, mean):\n",
    "    if value > 100:\n",
    "        value = mean\n",
    "\n",
    "    return int(value)\n",
    "\n",
    "df['Age'] = df['Age'].apply(lambda x: function_valid_Age( x, valid_age_mean ))"
   ]
  },
  {
   "cell_type": "code",
   "execution_count": 364,
   "id": "cb50e33d-55a3-49ee-abac-4f9b25d56571",
   "metadata": {},
   "outputs": [
    {
     "data": {
      "text/plain": [
       "array([23, 24, 28, 35, 55, 22, 31, 32, 33, 34, 30, 45, 41, 36, 39, 40, 37,\n",
       "       21, 46, 26, 27, 42, 20, 48, 49, 38, 44, 16, 17, 19, 43, 14, 15, 25,\n",
       "       18, 47, 29, 53, 56, 54, 50, 51, 52, 95], dtype=int64)"
      ]
     },
     "execution_count": 364,
     "metadata": {},
     "output_type": "execute_result"
    }
   ],
   "source": [
    "df['Age'].unique()"
   ]
  },
  {
   "cell_type": "code",
   "execution_count": 365,
   "id": "16dbdebb-9350-457e-b49c-da253c761b8a",
   "metadata": {},
   "outputs": [
    {
     "data": {
      "text/plain": [
       "1359      69933.98\n",
       "1725       81557.0\n",
       "44048     20497.26\n",
       "45213     94120.35\n",
       "39684     9958.505\n",
       "16622    14544.485\n",
       "42658    75010.52_\n",
       "46421     32382.97\n",
       "20035    120389.55\n",
       "44989     51796.84\n",
       "Name: Annual_Income, dtype: object"
      ]
     },
     "execution_count": 365,
     "metadata": {},
     "output_type": "execute_result"
    }
   ],
   "source": [
    "df['Annual_Income'].sample(10)"
   ]
  },
  {
   "cell_type": "code",
   "execution_count": 366,
   "id": "67c5c9a7-d4ed-4a81-85df-4619db36fa64",
   "metadata": {},
   "outputs": [],
   "source": [
    "# function to remove '_' \n",
    "def remove_Underscore(value):\n",
    "    value = str(value).replace('_', '')\n",
    "\n",
    "    if value != '':\n",
    "        return float(value)\n",
    "    else:\n",
    "        return float(0.00)\n",
    "\n",
    "df['Annual_Income'] = df['Annual_Income'].apply(remove_Underscore)"
   ]
  },
  {
   "cell_type": "code",
   "execution_count": 367,
   "id": "b00bc240-9d2b-4338-920a-b1ce7b947037",
   "metadata": {},
   "outputs": [
    {
     "data": {
      "text/plain": [
       "count    5.000000e+04\n",
       "mean     1.663342e+05\n",
       "std      1.351965e+06\n",
       "min      7.005930e+03\n",
       "25%      1.945333e+04\n",
       "50%      3.757782e+04\n",
       "75%      7.281702e+04\n",
       "max      2.413726e+07\n",
       "Name: Annual_Income, dtype: float64"
      ]
     },
     "execution_count": 367,
     "metadata": {},
     "output_type": "execute_result"
    }
   ],
   "source": [
    "df['Annual_Income'].describe()"
   ]
  },
  {
   "cell_type": "code",
   "execution_count": 368,
   "id": "134749a0-a401-445d-b9a1-cb0a23f20332",
   "metadata": {},
   "outputs": [
    {
     "data": {
      "text/plain": [
       "array(['4', '1', '3', '1381', '-100', '0', '2', '7', '5', '6', '5_', '8',\n",
       "       '1_', '2_', '6_', '4_', '9', '0_', '7_', '965', '3_', '428', '50',\n",
       "       '8_', '256', '495', '9_', '1018', '548', '1470', '1176', '1021',\n",
       "       '744', '238', '481_', '617', '1237', '602', '582', '1225', '717',\n",
       "       '1316', '1146', '455', '1009', '660', '286', '505', '335', '1161',\n",
       "       '765', '463', '864', '696', '95', '949', '720', '181', '1090',\n",
       "       '1048', '42', '385', '814', '1019', '452', '434', '77', '639',\n",
       "       '336', '249', '106', '498', '1073', '1259', '899', '769', '1292',\n",
       "       '1266', '1365', '114', '810', '994', '992', '828', '1248', '543',\n",
       "       '1318', '1416', '919', '1391', '58', '799', '1374', '263', '746',\n",
       "       '1487', '731', '445', '1325', '1147', '808', '511', '198', '1445',\n",
       "       '1140', '876', '1304', '569', '350', '1221', '608', '621', '1040',\n",
       "       '1496', '570', '1063', '741', '230', '1428', '1254', '1361', '232',\n",
       "       '1475', '653', '1448', '523', '1414', '426', '1308', '647', '1068',\n",
       "       '954_', '1283', '909', '977', '1333', '700', '486', '1027', '170',\n",
       "       '359', '1108', '1471', '628', '1284', '1489', '1446', '35', '483',\n",
       "       '265', '928', '838', '1109', '1429', '1300', '547', '1385', '950',\n",
       "       '1153', '539', '1240', '376', '393', '610', '725_', '1481', '1287',\n",
       "       '325', '72_', '1024', '1072', '220', '478', '53', '368', '551',\n",
       "       '1231', '1244', '734_', '140', '1329', '255', '1207', '257', '326',\n",
       "       '273', '1187', '99', '1149', '1148', '464', '961', '519_', '142',\n",
       "       '453', '641', '97', '441', '1114', '631', '295', '1444', '465',\n",
       "       '960', '790', '624', '55', '370', '659', '361', '105', '1189',\n",
       "       '813', '1095', '508', '879', '1373', '615', '997', '561', '161',\n",
       "       '612', '488', '282', '324', '531', '339', '1057', '757', '343',\n",
       "       '1196', '1041', '738', '1399', '414', '395', '1175', '663', '135',\n",
       "       '910', '1447', '620', '354', '1263', '477', '544', '1134', '770',\n",
       "       '204', '1369', '656', '534', '870', '418', '1292_', '1436', '1352',\n",
       "       '594', '25', '1442', '939', '172', '1296_'], dtype=object)"
      ]
     },
     "execution_count": 368,
     "metadata": {},
     "output_type": "execute_result"
    }
   ],
   "source": [
    "df['Num_of_Loan'].unique()"
   ]
  },
  {
   "cell_type": "code",
   "execution_count": 369,
   "id": "f9673d0c-5de9-4175-bd6b-947bd06b8974",
   "metadata": {},
   "outputs": [],
   "source": [
    "# function to remove '_' \n",
    "def format_values(value):\n",
    "    if pd.notna(value):\n",
    "        value = int(str(value).replace('_', ''))\n",
    "        \n",
    "    return value\n",
    "\n",
    "df['Num_of_Loan'] = df['Num_of_Loan'].apply(format_values)"
   ]
  },
  {
   "cell_type": "code",
   "execution_count": 370,
   "id": "bc4652a8-b9e5-41b1-bf07-24ca906dfb0f",
   "metadata": {},
   "outputs": [
    {
     "data": {
      "text/plain": [
       "array([   4,    1,    3, 1381, -100,    0,    2,    7,    5,    6,    8,\n",
       "          9,  965,  428,   50,  256,  495, 1018,  548, 1470, 1176, 1021,\n",
       "        744,  238,  481,  617, 1237,  602,  582, 1225,  717, 1316, 1146,\n",
       "        455, 1009,  660,  286,  505,  335, 1161,  765,  463,  864,  696,\n",
       "         95,  949,  720,  181, 1090, 1048,   42,  385,  814, 1019,  452,\n",
       "        434,   77,  639,  336,  249,  106,  498, 1073, 1259,  899,  769,\n",
       "       1292, 1266, 1365,  114,  810,  994,  992,  828, 1248,  543, 1318,\n",
       "       1416,  919, 1391,   58,  799, 1374,  263,  746, 1487,  731,  445,\n",
       "       1325, 1147,  808,  511,  198, 1445, 1140,  876, 1304,  569,  350,\n",
       "       1221,  608,  621, 1040, 1496,  570, 1063,  741,  230, 1428, 1254,\n",
       "       1361,  232, 1475,  653, 1448,  523, 1414,  426, 1308,  647, 1068,\n",
       "        954, 1283,  909,  977, 1333,  700,  486, 1027,  170,  359, 1108,\n",
       "       1471,  628, 1284, 1489, 1446,   35,  483,  265,  928,  838, 1109,\n",
       "       1429, 1300,  547, 1385,  950, 1153,  539, 1240,  376,  393,  610,\n",
       "        725, 1481, 1287,  325,   72, 1024, 1072,  220,  478,   53,  368,\n",
       "        551, 1231, 1244,  734,  140, 1329,  255, 1207,  257,  326,  273,\n",
       "       1187,   99, 1149, 1148,  464,  961,  519,  142,  453,  641,   97,\n",
       "        441, 1114,  631,  295, 1444,  465,  960,  790,  624,   55,  370,\n",
       "        659,  361,  105, 1189,  813, 1095,  508,  879, 1373,  615,  997,\n",
       "        561,  161,  612,  488,  282,  324,  531,  339, 1057,  757,  343,\n",
       "       1196, 1041,  738, 1399,  414,  395, 1175,  663,  135,  910, 1447,\n",
       "        620,  354, 1263,  477,  544, 1134,  770,  204, 1369,  656,  534,\n",
       "        870,  418, 1436, 1352,  594,   25, 1442,  939,  172, 1296],\n",
       "      dtype=int64)"
      ]
     },
     "execution_count": 370,
     "metadata": {},
     "output_type": "execute_result"
    }
   ],
   "source": [
    "df['Num_of_Loan'].unique()"
   ]
  },
  {
   "cell_type": "code",
   "execution_count": 371,
   "id": "ffc9302f-82b9-447b-a0f7-58288152d106",
   "metadata": {},
   "outputs": [],
   "source": [
    "# function to remove negative values and if the Number_of_Loan is greater than 10 replace it with MEAN value\n",
    "def validate_Num_of_Loan(value, mean):\n",
    "    if pd.notna(value):\n",
    "        if value < 0:\n",
    "            value = 0\n",
    "    \n",
    "        if value > 10:\n",
    "            value = mean\n",
    "\n",
    "        return int(value)\n",
    "    else:\n",
    "        return mean\n",
    "\n",
    "df['Num_of_Loan'] = df['Num_of_Loan'].apply( lambda x:validate_Num_of_Loan( x, int(df['Num_of_Loan'].mean()) ) )"
   ]
  },
  {
   "cell_type": "code",
   "execution_count": 372,
   "id": "a6497a2c-cf5b-43a8-a40b-1bed70f2715b",
   "metadata": {},
   "outputs": [
    {
     "data": {
      "text/plain": [
       "array([4, 1, 3, 0, 2, 7, 5, 6, 8, 9], dtype=int64)"
      ]
     },
     "execution_count": 372,
     "metadata": {},
     "output_type": "execute_result"
    }
   ],
   "source": [
    "df['Num_of_Loan'].unique()"
   ]
  },
  {
   "cell_type": "code",
   "execution_count": 424,
   "id": "373bab14-f3ce-4400-b78a-fb0fbeade3d8",
   "metadata": {},
   "outputs": [
    {
     "data": {
      "text/plain": [
       "array([ 3, -1,  4,  8,  6,  5,  9,  0, 30, 29, 11,  2,  1, 16, 10, 24, 23,\n",
       "       12, 18, 17, 51, 34, 32, 45, 48, 25, 49, 43, 50, 22, 55, 52, 61, 59,\n",
       "       60, 31, 27, 15, 53, 14, 13,  7, 44, 54, 20, 28, 57, 62, 56, 41, 37,\n",
       "       19, 64, 36, 42, 21, 26, -2, 33, 46, 38, 35, 40, 47, 39, 66, 58, -4,\n",
       "       -3, 63, 65, -5, 67], dtype=int64)"
      ]
     },
     "execution_count": 424,
     "metadata": {},
     "output_type": "execute_result"
    }
   ],
   "source": [
    "df['Delay_from_due_date'].unique()"
   ]
  },
  {
   "cell_type": "code",
   "execution_count": 427,
   "id": "426856a1-1d40-444e-9749-2e144368dec3",
   "metadata": {},
   "outputs": [],
   "source": [
    "df['Delay_from_due_date'] = df['Delay_from_due_date'].apply(lambda x: -x if x < 0 else x)"
   ]
  },
  {
   "cell_type": "code",
   "execution_count": 428,
   "id": "799abb67-3a87-46aa-912c-14730ccfc1ac",
   "metadata": {},
   "outputs": [
    {
     "data": {
      "text/plain": [
       "array([ 3,  1,  4,  8,  6,  5,  9,  0, 30, 29, 11,  2, 16, 10, 24, 23, 12,\n",
       "       18, 17, 51, 34, 32, 45, 48, 25, 49, 43, 50, 22, 55, 52, 61, 59, 60,\n",
       "       31, 27, 15, 53, 14, 13,  7, 44, 54, 20, 28, 57, 62, 56, 41, 37, 19,\n",
       "       64, 36, 42, 21, 26, 33, 46, 38, 35, 40, 47, 39, 66, 58, 63, 65, 67],\n",
       "      dtype=int64)"
      ]
     },
     "execution_count": 428,
     "metadata": {},
     "output_type": "execute_result"
    }
   ],
   "source": [
    "df['Delay_from_due_date'].unique()"
   ]
  },
  {
   "cell_type": "code",
   "execution_count": 373,
   "id": "04905fbe-184d-4f6e-a78f-9d70fdc6027b",
   "metadata": {},
   "outputs": [
    {
     "data": {
      "text/plain": [
       "array(['7', '9', '4', '5', '1', '3', nan, '2_', '1942', '6', '8', '15',\n",
       "       '18', '0', '14', '17', '12', '11', '2', '19', '20_', '20', '10',\n",
       "       '13', '1150', '22', '23', '21', '6_', '2077', '16', '11_', '15_',\n",
       "       '24', '27', '10_', '9_', '25_', '17_', '210', '1_', '-1', '0_',\n",
       "       '-2', '8_', '1314', '429', '12_', '16_', '759', '2806', '19_',\n",
       "       '18_', '25', '2849', '2465', '4246', '1186', '75', '24_', '26',\n",
       "       '7_', '1134', '28_', '1230', '4318', '4219', '-1_', '14_', '13_',\n",
       "       '28', '1216', '1491', '1591', '3552', '3667', '-3', '420', '2606',\n",
       "       '186', '21_', '5_', '959', '22_', '1122', '3178', '1884', '1551',\n",
       "       '3472', '3398', '3_', '-2_', '1486', '4128', '351', '4086', '861',\n",
       "       '23_', '586', '873', '3948', '2801', '4_', '2503_', '3627', '3825',\n",
       "       '3954', '376', '2354', '4343', '2279', '391', '1334', '1958',\n",
       "       '2608', '456', '1274', '452', '227_', '845', '26_', '3097', '2730',\n",
       "       '2161', '377', '762', '1131', '2649', '4161', '1544', '4136',\n",
       "       '1377', '2412', '3508_', '3429', '975_', '211', '518', '657',\n",
       "       '3477', '370', '1234', '1534', '1080', '3057', '1065', '2819',\n",
       "       '2583', '2497', '-3_', '3479', '1329', '3689', '2273', '3083',\n",
       "       '2403', '1266', '3684', '4106', '697', '3243', '1802', '1880',\n",
       "       '181', '3591', '2912', '1356', '1117', '2672', '2001', '4298',\n",
       "       '590', '1095', '1562', '100', '1355', '1235', '3177', '2276',\n",
       "       '4335', '2822', '1035', '832', '3529', '2942', '2802', '4351',\n",
       "       '549', '3393', '3556', '288', '1146', '975', '2424', '345', '2269',\n",
       "       '265', '179', '1513', '4118', '3071', '2817_', '175', '700',\n",
       "       '2836', '434', '2903', '2347', '1891', '2999', '687', '2344_',\n",
       "       '1437', '483', '4374', '3898', '4122', '2568', '4278', '918',\n",
       "       '1963', '1633', '2431', '538', '864', '1570', '1511', '1297',\n",
       "       '1881', '414', '4399', '2352', '4044', '773', '1632', '427',\n",
       "       '2492', '961', '3652', '952', '4091_', '1571', '3863', '3853',\n",
       "       '1809', '2047', '1832', '3425', '2803', '1069', '750', '1959',\n",
       "       '1990', '1422', '3708', '1166', '3565_', '2032', '4011', '2595',\n",
       "       '2873', '226', '482', '599', '2286', '3379', '2018', '992', '3589',\n",
       "       '292', '2767', '617', '1246', '2413', '2259', '1085', '2653',\n",
       "       '652', '3744', '1223', '3229', '3520', '1014', '707', '2392',\n",
       "       '1750', '775', '817', '2148_', '297', '806', '3161', '3945',\n",
       "       '1630', '130', '2902', '1904', '524', '1921', '4088', '2885',\n",
       "       '2172', '1149', '1542', '1312', '2055_', '1309', '3803', '2464',\n",
       "       '3064', '1761', '878', '4133', '3392_', '2026', '1718', '358',\n",
       "       '2368', '2570', '3032', '828', '4206', '1344', '1885', '3862',\n",
       "       '238', '841', '1385', '3807', '1169', '1682', '1703', '909',\n",
       "       '1332', '1861', '2287', '688', '2348', '1410', '1698', '2527',\n",
       "       '2401', '4131', '1664', '1907', '2388', '4214', '4026', '726',\n",
       "       '3000', '3099', '2748', '820', '2704', '2538', '929', '3535',\n",
       "       '1055', '1265', '1968', '3630', '1290', '1833', '2123', '1888',\n",
       "       '1287', '502', '459', '1401', '3812', '1059', '2170', '69', '3192',\n",
       "       '2407', '3642', '4270', '2358', '3608', '1289', '2953', '3734',\n",
       "       '3757', '2052', '4141', '883', '1751', '1368', '3794', '2410',\n",
       "       '1514', '3058', '3633', '4160', '60', '889', '2208', '2171',\n",
       "       '4265', '989', '3971', '3917', '1097', '3920', '1634', '2128',\n",
       "       '481_', '97_', '1172', '3390', '548', '947', '488', '225', '2346',\n",
       "       '204', '3273', '4313', '1889', '3622', '3124', '3843_', '1779',\n",
       "       '1619', '3406', '3246', '3666', '3391', '1616', '2601', '528',\n",
       "       '3594', '272', '3313', '3637', '174', '3240', '1805', '2450',\n",
       "       '1970', '3913', '533', '332', '2034'], dtype=object)"
      ]
     },
     "execution_count": 373,
     "metadata": {},
     "output_type": "execute_result"
    }
   ],
   "source": [
    "df['Num_of_Delayed_Payment'].unique()"
   ]
  },
  {
   "cell_type": "code",
   "execution_count": 374,
   "id": "ec3cc71e-c2d9-48cf-892c-65f9ea629692",
   "metadata": {},
   "outputs": [],
   "source": [
    "# removing '_'\n",
    "df['Num_of_Delayed_Payment'] = df['Num_of_Delayed_Payment'].apply(format_values)"
   ]
  },
  {
   "cell_type": "code",
   "execution_count": 375,
   "id": "5571421f-8bd3-4229-b9d8-afa0259737ed",
   "metadata": {},
   "outputs": [
    {
     "data": {
      "text/plain": [
       "30"
      ]
     },
     "execution_count": 375,
     "metadata": {},
     "output_type": "execute_result"
    }
   ],
   "source": [
    "int(df['Num_of_Delayed_Payment'].mean())"
   ]
  },
  {
   "cell_type": "code",
   "execution_count": 376,
   "id": "0e7c652d-99b8-4383-b62f-113f8743cb72",
   "metadata": {},
   "outputs": [],
   "source": [
    "def validate_Num_of_Delayed_Payment(value, mean):\n",
    "    if pd.notna(value):\n",
    "        if value < 0:\n",
    "            value = 0\n",
    "    \n",
    "        if value > mean:\n",
    "            value = mean\n",
    "\n",
    "        return int(value)\n",
    "    else:\n",
    "        return mean\n",
    "        \n",
    "df['Num_of_Delayed_Payment'] = df['Num_of_Delayed_Payment'].apply( lambda x:validate_Num_of_Delayed_Payment( x, int(df['Num_of_Delayed_Payment'].mean()) ) )"
   ]
  },
  {
   "cell_type": "code",
   "execution_count": 377,
   "id": "e5e52238-0e39-4146-9da9-3da44638dfcd",
   "metadata": {},
   "outputs": [
    {
     "data": {
      "text/plain": [
       "array([ 7,  9,  4,  5,  1,  3, 30,  2,  6,  8, 15, 18,  0, 14, 17, 12, 11,\n",
       "       19, 20, 10, 13, 22, 23, 21, 16, 24, 27, 25, 26, 28], dtype=int64)"
      ]
     },
     "execution_count": 377,
     "metadata": {},
     "output_type": "execute_result"
    }
   ],
   "source": [
    "df['Num_of_Delayed_Payment'].unique()"
   ]
  },
  {
   "cell_type": "code",
   "execution_count": 378,
   "id": "ab27868f-fe21-4a63-8664-f05902040695",
   "metadata": {},
   "outputs": [
    {
     "data": {
      "text/plain": [
       "44940        _\n",
       "13072     8.54\n",
       "30277    18.27\n",
       "11891     11.6\n",
       "16413    20.96\n",
       "32760      7.8\n",
       "13861     9.66\n",
       "26261    11.84\n",
       "29466      8.3\n",
       "30500     7.85\n",
       "30539     5.36\n",
       "14344     8.51\n",
       "25951    16.07\n",
       "34323     8.46\n",
       "41395    -5.42\n",
       "38610      4.1\n",
       "23953     1.59\n",
       "25350     8.59\n",
       "45681    10.93\n",
       "32871     9.12\n",
       "Name: Changed_Credit_Limit, dtype: object"
      ]
     },
     "execution_count": 378,
     "metadata": {},
     "output_type": "execute_result"
    }
   ],
   "source": [
    "df['Changed_Credit_Limit'].sample(20)"
   ]
  },
  {
   "cell_type": "code",
   "execution_count": 379,
   "id": "4d27e969-2ece-4d84-aab0-d01bb8df1534",
   "metadata": {},
   "outputs": [],
   "source": [
    "# removing '_' and updating the data type to FLOAT\n",
    "df['Changed_Credit_Limit'] = df['Changed_Credit_Limit'].apply(remove_Underscore)"
   ]
  },
  {
   "cell_type": "code",
   "execution_count": 380,
   "id": "609f4896-3984-4ea6-befe-78af291b92e5",
   "metadata": {},
   "outputs": [
    {
     "data": {
      "text/plain": [
       "count    50000.000000\n",
       "mean        10.155105\n",
       "std          6.872745\n",
       "min         -6.450000\n",
       "25%          4.980000\n",
       "50%          9.250000\n",
       "75%         14.600000\n",
       "max         36.650000\n",
       "Name: Changed_Credit_Limit, dtype: float64"
      ]
     },
     "execution_count": 380,
     "metadata": {},
     "output_type": "execute_result"
    }
   ],
   "source": [
    "df['Changed_Credit_Limit'].describe()"
   ]
  },
  {
   "cell_type": "code",
   "execution_count": 381,
   "id": "5562763f-13fc-4ada-b13e-a1d81016f50e",
   "metadata": {},
   "outputs": [],
   "source": [
    "# converting negative values to positive\n",
    "df['Changed_Credit_Limit'] = df['Changed_Credit_Limit'].apply(lambda x: -x if x < 0 else x)"
   ]
  },
  {
   "cell_type": "code",
   "execution_count": 382,
   "id": "b83f0305-e969-4aa2-aa7c-dd685e7b5566",
   "metadata": {},
   "outputs": [
    {
     "data": {
      "text/plain": [
       "count    50000.000000\n",
       "mean        10.236551\n",
       "std          6.750835\n",
       "min          0.000000\n",
       "25%          5.000000\n",
       "50%          9.250000\n",
       "75%         14.600000\n",
       "max         36.650000\n",
       "Name: Changed_Credit_Limit, dtype: float64"
      ]
     },
     "execution_count": 382,
     "metadata": {},
     "output_type": "execute_result"
    }
   ],
   "source": [
    "df['Changed_Credit_Limit'].describe()"
   ]
  },
  {
   "cell_type": "code",
   "execution_count": 383,
   "id": "937a122e-52bf-4141-8260-3cee8beec97e",
   "metadata": {},
   "outputs": [
    {
     "data": {
      "text/plain": [
       "14651     2669.09\n",
       "46340      116.17\n",
       "2402      1943.08\n",
       "678       1409.58\n",
       "22407    1197.23_\n",
       "27632     1244.42\n",
       "37353      387.63\n",
       "5368       874.85\n",
       "49840      732.11\n",
       "49826      332.75\n",
       "321         730.9\n",
       "1181       642.65\n",
       "2220       614.83\n",
       "18758      843.12\n",
       "32630      561.42\n",
       "40103     1310.56\n",
       "15042     2625.73\n",
       "28973      2308.2\n",
       "40444     1051.33\n",
       "26716      432.45\n",
       "Name: Outstanding_Debt, dtype: object"
      ]
     },
     "execution_count": 383,
     "metadata": {},
     "output_type": "execute_result"
    }
   ],
   "source": [
    "df['Outstanding_Debt'].sample(20)"
   ]
  },
  {
   "cell_type": "code",
   "execution_count": 384,
   "id": "69c8b90e-fa02-4572-8d67-ae1a03bbbd2f",
   "metadata": {},
   "outputs": [],
   "source": [
    "df['Outstanding_Debt'] = df['Outstanding_Debt'].apply(remove_Underscore)"
   ]
  },
  {
   "cell_type": "code",
   "execution_count": 385,
   "id": "e5f03dba-cb82-4173-94bb-556673752b91",
   "metadata": {},
   "outputs": [
    {
     "data": {
      "text/plain": [
       "count    50000.000000\n",
       "mean      1426.220376\n",
       "std       1155.134801\n",
       "min          0.230000\n",
       "25%        566.072500\n",
       "50%       1166.155000\n",
       "75%       1945.962500\n",
       "max       4998.070000\n",
       "Name: Outstanding_Debt, dtype: float64"
      ]
     },
     "execution_count": 385,
     "metadata": {},
     "output_type": "execute_result"
    }
   ],
   "source": [
    "df['Outstanding_Debt'].describe()"
   ]
  },
  {
   "cell_type": "code",
   "execution_count": 386,
   "id": "01d88662-b9f1-4748-a15b-312f428a8192",
   "metadata": {},
   "outputs": [],
   "source": [
    "# converting Years and Months to eqvivalent number of days\n",
    "\n",
    "import re\n",
    "def convert_years_months_to_days(input_string):\n",
    "\n",
    "    if not isinstance(input_string, str):\n",
    "        return int(0)\n",
    "        \n",
    "    # Extract years and months using regular expressions\n",
    "    match = re.match(r'(\\d+) Years and (\\d+) Months', input_string)\n",
    "    \n",
    "    if match:\n",
    "        # Extract years and months from the match object\n",
    "        years = int(match.group(1))\n",
    "        months = int(match.group(2))\n",
    "\n",
    "        # Assume an average of 30.44 days per month and 365.25 days per year\n",
    "        days_in_years = years * 365.25\n",
    "        days_in_months = months * 30.44\n",
    "\n",
    "        total_days = int(days_in_years + days_in_months)\n",
    "        return total_days\n",
    "    else:\n",
    "        # Return an appropriate value if the input format is not as expected\n",
    "        return int(0)\n",
    "\n",
    "df['Credit_History_Age'] = df['Credit_History_Age'].apply(convert_years_months_to_days)"
   ]
  },
  {
   "cell_type": "code",
   "execution_count": 387,
   "id": "1e1bfb6b-3904-4563-aede-803c610dddf3",
   "metadata": {},
   "outputs": [
    {
     "data": {
      "text/plain": [
       "array([ 8309,  8339,     0,  8400,  9953,  9983, 10013, 10044,  6726,\n",
       "        6757,  6787,  6544,  6574,  6604,  6635, 11444, 11474, 11535,\n",
       "       11901, 11931, 11961, 11992, 11505,  5570,  5600,  5630,  5661,\n",
       "        8035,  8065,  8096,  8126,  9892,  9922,  7244,  7274,  7305,\n",
       "        9557,  9587,  9618, 10074, 10105, 10135,  3500,  3530,  3561,\n",
       "        3591,  6878,  6909,  6939,  6970,  6391,  6422,  6452,  6483,\n",
       "       10896, 10927, 10957, 10987,  2587,  2617,  2648, 10166, 10196,\n",
       "       10227, 10257,  7335,  7365,  3926,  3956,  3987,  4017, 12205,\n",
       "       12235, 12266, 12296,  4717,  4748,  4778,  4809,  4687,  6818,\n",
       "        6848,  5235,  5265,  5296,  5326, 11292, 11322, 11353, 11383,\n",
       "        3409,  3469,  7000,  7091,  7122,  7152,  7183,  3439,  5022,\n",
       "        5052,  5083,  8157,  9679,  5113,  5143, 10440, 10470, 10500,\n",
       "       10531,  3135,  3165,  3195,  9100,  9131,  9161,  9192,  6513,\n",
       "         669,   700,   730,   760,  4230,  4261,  4291,  4322, 11414,\n",
       "        7396,  7426,  7457,  7487,  4048,  4078,  4109,  4139,  5357,\n",
       "        5387,  5417,  7792,  7822,  7852,  7883,   365,   395,   426,\n",
       "         456, 11809, 11840, 11870,  4839,  4870,  4900,  4930, 10287,\n",
       "        4383,  4413,  4443,  4474,  9253,  9283,  9313,  9344,  6665,\n",
       "        6696,  4961,  7213, 11596, 11627, 11657, 11688,  2130,  2161,\n",
       "        2191,  2221,  1308,  1339,  1369,  1400,  6239,  6270,  6300,\n",
       "        8613,  8644,  8674,  8705,  3287,  3348,  3378, 11566,  1856,\n",
       "        1887,  1917,  1948, 12175,  4991, 11109, 11140, 11170, 11201,\n",
       "        9648, 12327,  9800,  9831,  9861,  2952,  2982,  3013,  3043,\n",
       "       10561, 10592, 10622, 10653,  7518,  7548,  7578,  7609,  7639,\n",
       "        7670, 10683, 10714, 10744, 10774,  5174,  5204,   791,   821,\n",
       "       12357, 12388, 12418,  9709,  9740, 10805, 10835,  1978,  2008,\n",
       "        2039,  2069, 11779,  2343,  2374,  2404,  2435,  8431,  8461,\n",
       "        8492,  6209,  8552,  8583,  8187,  8218,  7700,  5844,  5874,\n",
       "        5904,  5935,  7731,  1065,  1095,  1126,  1156,  2100,   852,\n",
       "        6148,  6178,  8370,  3622,  3652,  3682, 10348, 10379, 10409,\n",
       "        7031,  9222,  3226,  2282,  2313,  6331,  6361,  4535,  4565,\n",
       "        4596,  4626,  9770, 10866, 11718, 11748,  7974,  8005,  9070,\n",
       "        6026,  6057,  6087,  6117,  5509,  5539,  8735,  8766,  9435,\n",
       "        9466,  9496,  9526,  3256,  7061,  2252,  9374,  9405,  5813,\n",
       "        3074,  3104,  2739,  2769,  2800,  2830,  5965,  5996,  8796,\n",
       "        8248,  5691,  5722,  5752,  7913,  7944, 11231,  2891,  2922,\n",
       "        3804,  3835,  3865,  3896,  3317,  8887,  8918,  8948,  8979,\n",
       "        1217,  1247,  5478,  3713,  4504,  8857, 10318,  2465,  2495,\n",
       "         304,  3743,  4656, 11018, 11079, 11048,   334,  4200,  2861,\n",
       "        3774,  1461, 12022, 12053,  7761, 11261,  8522,  1430,  1491,\n",
       "        1521,  2526,  2556,  4169,  5783,  4352,  5448,  8279,   547,\n",
       "         578,   608,   639,  9039,  1826,  2678,  1674,  1704,  1734,\n",
       "        1765,  2708,   882,   943,   974,   913,  8826, 12083, 12114,\n",
       "         487,   517,  9009,  1552,  1582,  1004,  1034,  1187,  1613,\n",
       "        1795, 12144,  1278,  1643], dtype=int64)"
      ]
     },
     "execution_count": 387,
     "metadata": {},
     "output_type": "execute_result"
    }
   ],
   "source": [
    "df['Credit_History_Age'].unique()"
   ]
  },
  {
   "cell_type": "code",
   "execution_count": 388,
   "id": "baa07a3a-f0c2-419c-b583-5cab57cd1b5f",
   "metadata": {},
   "outputs": [
    {
     "data": {
      "text/plain": [
       "array(['No', 'Yes', 'NM'], dtype=object)"
      ]
     },
     "execution_count": 388,
     "metadata": {},
     "output_type": "execute_result"
    }
   ],
   "source": [
    "df['Payment_of_Min_Amount'].unique()"
   ]
  },
  {
   "cell_type": "code",
   "execution_count": 389,
   "id": "f39fa8d9-68f0-4226-956f-74aa771b6033",
   "metadata": {},
   "outputs": [],
   "source": [
    "# importing 'OneHotEncoder' to convert categorical variables as numerical values\n",
    "from sklearn.preprocessing import OneHotEncoder\n",
    "\n",
    "# Create a OneHotEncoder\n",
    "ohe_encoder = OneHotEncoder(sparse=False)"
   ]
  },
  {
   "cell_type": "code",
   "execution_count": 390,
   "id": "2d138cd5-1bf3-4d14-9bca-5404bd344cfe",
   "metadata": {},
   "outputs": [
    {
     "name": "stderr",
     "output_type": "stream",
     "text": [
      "C:\\Users\\rahul bhutekar\\ds_class\\Lib\\site-packages\\sklearn\\preprocessing\\_encoders.py:975: FutureWarning: `sparse` was renamed to `sparse_output` in version 1.2 and will be removed in 1.4. `sparse_output` is ignored unless you leave `sparse` to its default value.\n",
      "  warnings.warn(\n"
     ]
    }
   ],
   "source": [
    "# Apply the OneHotEncoder to the 'Payment_of_Min_Amount' column\n",
    "one_hot_encoded = ohe_encoder.fit_transform(df[['Payment_of_Min_Amount']])"
   ]
  },
  {
   "cell_type": "code",
   "execution_count": 391,
   "id": "728ebcc4-0244-49f9-bab5-0288d1a89eed",
   "metadata": {},
   "outputs": [
    {
     "data": {
      "text/plain": [
       "array(['Payment_of_Min_Amount_NM', 'Payment_of_Min_Amount_No',\n",
       "       'Payment_of_Min_Amount_Yes'], dtype=object)"
      ]
     },
     "execution_count": 391,
     "metadata": {},
     "output_type": "execute_result"
    }
   ],
   "source": [
    "# get the names of the new Payment_of_Min_Amount columns\n",
    "col_names = ohe_encoder.get_feature_names_out(['Payment_of_Min_Amount'])\n",
    "col_names"
   ]
  },
  {
   "cell_type": "code",
   "execution_count": 392,
   "id": "80bb4d11-b153-4bad-a938-8b67a5ba8c0e",
   "metadata": {},
   "outputs": [
    {
     "data": {
      "text/html": [
       "<div>\n",
       "<style scoped>\n",
       "    .dataframe tbody tr th:only-of-type {\n",
       "        vertical-align: middle;\n",
       "    }\n",
       "\n",
       "    .dataframe tbody tr th {\n",
       "        vertical-align: top;\n",
       "    }\n",
       "\n",
       "    .dataframe thead th {\n",
       "        text-align: right;\n",
       "    }\n",
       "</style>\n",
       "<table border=\"1\" class=\"dataframe\">\n",
       "  <thead>\n",
       "    <tr style=\"text-align: right;\">\n",
       "      <th></th>\n",
       "      <th>Payment_of_Min_Amount_NM</th>\n",
       "      <th>Payment_of_Min_Amount_No</th>\n",
       "      <th>Payment_of_Min_Amount_Yes</th>\n",
       "    </tr>\n",
       "  </thead>\n",
       "  <tbody>\n",
       "    <tr>\n",
       "      <th>0</th>\n",
       "      <td>0.0</td>\n",
       "      <td>1.0</td>\n",
       "      <td>0.0</td>\n",
       "    </tr>\n",
       "    <tr>\n",
       "      <th>1</th>\n",
       "      <td>0.0</td>\n",
       "      <td>1.0</td>\n",
       "      <td>0.0</td>\n",
       "    </tr>\n",
       "    <tr>\n",
       "      <th>2</th>\n",
       "      <td>0.0</td>\n",
       "      <td>1.0</td>\n",
       "      <td>0.0</td>\n",
       "    </tr>\n",
       "    <tr>\n",
       "      <th>3</th>\n",
       "      <td>0.0</td>\n",
       "      <td>1.0</td>\n",
       "      <td>0.0</td>\n",
       "    </tr>\n",
       "    <tr>\n",
       "      <th>4</th>\n",
       "      <td>0.0</td>\n",
       "      <td>1.0</td>\n",
       "      <td>0.0</td>\n",
       "    </tr>\n",
       "    <tr>\n",
       "      <th>...</th>\n",
       "      <td>...</td>\n",
       "      <td>...</td>\n",
       "      <td>...</td>\n",
       "    </tr>\n",
       "    <tr>\n",
       "      <th>49995</th>\n",
       "      <td>0.0</td>\n",
       "      <td>0.0</td>\n",
       "      <td>1.0</td>\n",
       "    </tr>\n",
       "    <tr>\n",
       "      <th>49996</th>\n",
       "      <td>1.0</td>\n",
       "      <td>0.0</td>\n",
       "      <td>0.0</td>\n",
       "    </tr>\n",
       "    <tr>\n",
       "      <th>49997</th>\n",
       "      <td>0.0</td>\n",
       "      <td>1.0</td>\n",
       "      <td>0.0</td>\n",
       "    </tr>\n",
       "    <tr>\n",
       "      <th>49998</th>\n",
       "      <td>0.0</td>\n",
       "      <td>1.0</td>\n",
       "      <td>0.0</td>\n",
       "    </tr>\n",
       "    <tr>\n",
       "      <th>49999</th>\n",
       "      <td>0.0</td>\n",
       "      <td>1.0</td>\n",
       "      <td>0.0</td>\n",
       "    </tr>\n",
       "  </tbody>\n",
       "</table>\n",
       "<p>50000 rows × 3 columns</p>\n",
       "</div>"
      ],
      "text/plain": [
       "       Payment_of_Min_Amount_NM  Payment_of_Min_Amount_No  \\\n",
       "0                           0.0                       1.0   \n",
       "1                           0.0                       1.0   \n",
       "2                           0.0                       1.0   \n",
       "3                           0.0                       1.0   \n",
       "4                           0.0                       1.0   \n",
       "...                         ...                       ...   \n",
       "49995                       0.0                       0.0   \n",
       "49996                       1.0                       0.0   \n",
       "49997                       0.0                       1.0   \n",
       "49998                       0.0                       1.0   \n",
       "49999                       0.0                       1.0   \n",
       "\n",
       "       Payment_of_Min_Amount_Yes  \n",
       "0                            0.0  \n",
       "1                            0.0  \n",
       "2                            0.0  \n",
       "3                            0.0  \n",
       "4                            0.0  \n",
       "...                          ...  \n",
       "49995                        1.0  \n",
       "49996                        0.0  \n",
       "49997                        0.0  \n",
       "49998                        0.0  \n",
       "49999                        0.0  \n",
       "\n",
       "[50000 rows x 3 columns]"
      ]
     },
     "execution_count": 392,
     "metadata": {},
     "output_type": "execute_result"
    }
   ],
   "source": [
    "# creating a new DataFrame with the newly generated values\n",
    "df_encoded = pd.DataFrame(one_hot_encoded, columns=col_names)\n",
    "df_encoded"
   ]
  },
  {
   "cell_type": "code",
   "execution_count": 393,
   "id": "990c2652-907d-4563-913f-2ab7f6d24f72",
   "metadata": {},
   "outputs": [
    {
     "data": {
      "text/html": [
       "<div>\n",
       "<style scoped>\n",
       "    .dataframe tbody tr th:only-of-type {\n",
       "        vertical-align: middle;\n",
       "    }\n",
       "\n",
       "    .dataframe tbody tr th {\n",
       "        vertical-align: top;\n",
       "    }\n",
       "\n",
       "    .dataframe thead th {\n",
       "        text-align: right;\n",
       "    }\n",
       "</style>\n",
       "<table border=\"1\" class=\"dataframe\">\n",
       "  <thead>\n",
       "    <tr style=\"text-align: right;\">\n",
       "      <th></th>\n",
       "      <th>Age</th>\n",
       "      <th>Annual_Income</th>\n",
       "      <th>Monthly_Inhand_Salary</th>\n",
       "      <th>Num_Credit_Card</th>\n",
       "      <th>Num_of_Loan</th>\n",
       "      <th>Delay_from_due_date</th>\n",
       "      <th>Num_of_Delayed_Payment</th>\n",
       "      <th>Changed_Credit_Limit</th>\n",
       "      <th>Num_Credit_Inquiries</th>\n",
       "      <th>Credit_Mix</th>\n",
       "      <th>Outstanding_Debt</th>\n",
       "      <th>Credit_Utilization_Ratio</th>\n",
       "      <th>Credit_History_Age</th>\n",
       "      <th>Total_EMI_per_month</th>\n",
       "      <th>Payment_Behaviour</th>\n",
       "      <th>Monthly_Balance</th>\n",
       "      <th>Payment_of_Min_Amount_NM</th>\n",
       "      <th>Payment_of_Min_Amount_No</th>\n",
       "      <th>Payment_of_Min_Amount_Yes</th>\n",
       "    </tr>\n",
       "  </thead>\n",
       "  <tbody>\n",
       "    <tr>\n",
       "      <th>0</th>\n",
       "      <td>23</td>\n",
       "      <td>19114.12</td>\n",
       "      <td>1824.843333</td>\n",
       "      <td>4</td>\n",
       "      <td>4</td>\n",
       "      <td>3</td>\n",
       "      <td>7</td>\n",
       "      <td>11.27</td>\n",
       "      <td>2022.0</td>\n",
       "      <td>Good</td>\n",
       "      <td>809.98</td>\n",
       "      <td>35.030402</td>\n",
       "      <td>8309</td>\n",
       "      <td>49.574949</td>\n",
       "      <td>Low_spent_Small_value_payments</td>\n",
       "      <td>186.26670208571772</td>\n",
       "      <td>0.0</td>\n",
       "      <td>1.0</td>\n",
       "      <td>0.0</td>\n",
       "    </tr>\n",
       "    <tr>\n",
       "      <th>1</th>\n",
       "      <td>24</td>\n",
       "      <td>19114.12</td>\n",
       "      <td>1824.843333</td>\n",
       "      <td>4</td>\n",
       "      <td>4</td>\n",
       "      <td>3</td>\n",
       "      <td>9</td>\n",
       "      <td>13.27</td>\n",
       "      <td>4.0</td>\n",
       "      <td>Good</td>\n",
       "      <td>809.98</td>\n",
       "      <td>33.053114</td>\n",
       "      <td>8339</td>\n",
       "      <td>49.574949</td>\n",
       "      <td>High_spent_Medium_value_payments</td>\n",
       "      <td>361.44400385378196</td>\n",
       "      <td>0.0</td>\n",
       "      <td>1.0</td>\n",
       "      <td>0.0</td>\n",
       "    </tr>\n",
       "    <tr>\n",
       "      <th>2</th>\n",
       "      <td>24</td>\n",
       "      <td>19114.12</td>\n",
       "      <td>1824.843333</td>\n",
       "      <td>4</td>\n",
       "      <td>4</td>\n",
       "      <td>-1</td>\n",
       "      <td>4</td>\n",
       "      <td>12.27</td>\n",
       "      <td>4.0</td>\n",
       "      <td>Good</td>\n",
       "      <td>809.98</td>\n",
       "      <td>33.811894</td>\n",
       "      <td>0</td>\n",
       "      <td>49.574949</td>\n",
       "      <td>Low_spent_Medium_value_payments</td>\n",
       "      <td>264.67544623342997</td>\n",
       "      <td>0.0</td>\n",
       "      <td>1.0</td>\n",
       "      <td>0.0</td>\n",
       "    </tr>\n",
       "    <tr>\n",
       "      <th>3</th>\n",
       "      <td>24</td>\n",
       "      <td>19114.12</td>\n",
       "      <td>NaN</td>\n",
       "      <td>4</td>\n",
       "      <td>4</td>\n",
       "      <td>4</td>\n",
       "      <td>5</td>\n",
       "      <td>11.27</td>\n",
       "      <td>4.0</td>\n",
       "      <td>Good</td>\n",
       "      <td>809.98</td>\n",
       "      <td>32.430559</td>\n",
       "      <td>8400</td>\n",
       "      <td>49.574949</td>\n",
       "      <td>High_spent_Medium_value_payments</td>\n",
       "      <td>343.82687322383634</td>\n",
       "      <td>0.0</td>\n",
       "      <td>1.0</td>\n",
       "      <td>0.0</td>\n",
       "    </tr>\n",
       "    <tr>\n",
       "      <th>4</th>\n",
       "      <td>28</td>\n",
       "      <td>34847.84</td>\n",
       "      <td>3037.986667</td>\n",
       "      <td>4</td>\n",
       "      <td>1</td>\n",
       "      <td>3</td>\n",
       "      <td>1</td>\n",
       "      <td>5.42</td>\n",
       "      <td>5.0</td>\n",
       "      <td>Good</td>\n",
       "      <td>605.03</td>\n",
       "      <td>25.926822</td>\n",
       "      <td>9953</td>\n",
       "      <td>18.816215</td>\n",
       "      <td>High_spent_Large_value_payments</td>\n",
       "      <td>485.2984336755923</td>\n",
       "      <td>0.0</td>\n",
       "      <td>1.0</td>\n",
       "      <td>0.0</td>\n",
       "    </tr>\n",
       "  </tbody>\n",
       "</table>\n",
       "</div>"
      ],
      "text/plain": [
       "   Age  Annual_Income  Monthly_Inhand_Salary  Num_Credit_Card  Num_of_Loan  \\\n",
       "0   23       19114.12            1824.843333                4            4   \n",
       "1   24       19114.12            1824.843333                4            4   \n",
       "2   24       19114.12            1824.843333                4            4   \n",
       "3   24       19114.12                    NaN                4            4   \n",
       "4   28       34847.84            3037.986667                4            1   \n",
       "\n",
       "   Delay_from_due_date  Num_of_Delayed_Payment  Changed_Credit_Limit  \\\n",
       "0                    3                       7                 11.27   \n",
       "1                    3                       9                 13.27   \n",
       "2                   -1                       4                 12.27   \n",
       "3                    4                       5                 11.27   \n",
       "4                    3                       1                  5.42   \n",
       "\n",
       "   Num_Credit_Inquiries Credit_Mix  Outstanding_Debt  \\\n",
       "0                2022.0       Good            809.98   \n",
       "1                   4.0       Good            809.98   \n",
       "2                   4.0       Good            809.98   \n",
       "3                   4.0       Good            809.98   \n",
       "4                   5.0       Good            605.03   \n",
       "\n",
       "   Credit_Utilization_Ratio  Credit_History_Age  Total_EMI_per_month  \\\n",
       "0                 35.030402                8309            49.574949   \n",
       "1                 33.053114                8339            49.574949   \n",
       "2                 33.811894                   0            49.574949   \n",
       "3                 32.430559                8400            49.574949   \n",
       "4                 25.926822                9953            18.816215   \n",
       "\n",
       "                  Payment_Behaviour     Monthly_Balance  \\\n",
       "0    Low_spent_Small_value_payments  186.26670208571772   \n",
       "1  High_spent_Medium_value_payments  361.44400385378196   \n",
       "2   Low_spent_Medium_value_payments  264.67544623342997   \n",
       "3  High_spent_Medium_value_payments  343.82687322383634   \n",
       "4   High_spent_Large_value_payments   485.2984336755923   \n",
       "\n",
       "   Payment_of_Min_Amount_NM  Payment_of_Min_Amount_No  \\\n",
       "0                       0.0                       1.0   \n",
       "1                       0.0                       1.0   \n",
       "2                       0.0                       1.0   \n",
       "3                       0.0                       1.0   \n",
       "4                       0.0                       1.0   \n",
       "\n",
       "   Payment_of_Min_Amount_Yes  \n",
       "0                        0.0  \n",
       "1                        0.0  \n",
       "2                        0.0  \n",
       "3                        0.0  \n",
       "4                        0.0  "
      ]
     },
     "execution_count": 393,
     "metadata": {},
     "output_type": "execute_result"
    }
   ],
   "source": [
    "# adding the newly generated values to the original DataFrame and dropping the original OBJECT type field 'Payment_of_Min_Amount' \n",
    "df = pd.concat([df, df_encoded], axis=1)\n",
    "df = df.drop('Payment_of_Min_Amount', axis=1)\n",
    "df.head()"
   ]
  },
  {
   "cell_type": "code",
   "execution_count": 394,
   "id": "a128f138-2fdf-454f-9df9-54c2e88128b4",
   "metadata": {},
   "outputs": [
    {
     "data": {
      "text/plain": [
       "count    50000.000000\n",
       "mean      1491.304305\n",
       "std       8595.647887\n",
       "min          0.000000\n",
       "25%         32.222388\n",
       "50%         74.733349\n",
       "75%        176.157491\n",
       "max      82398.000000\n",
       "Name: Total_EMI_per_month, dtype: float64"
      ]
     },
     "execution_count": 394,
     "metadata": {},
     "output_type": "execute_result"
    }
   ],
   "source": [
    "df['Total_EMI_per_month'].describe()"
   ]
  },
  {
   "cell_type": "code",
   "execution_count": 395,
   "id": "10b6f362-4861-4bbb-b140-82200fe76b20",
   "metadata": {},
   "outputs": [
    {
     "data": {
      "text/plain": [
       "array(['Low_spent_Small_value_payments',\n",
       "       'High_spent_Medium_value_payments',\n",
       "       'Low_spent_Medium_value_payments',\n",
       "       'High_spent_Large_value_payments',\n",
       "       'Low_spent_Large_value_payments', '!@9#%8',\n",
       "       'High_spent_Small_value_payments'], dtype=object)"
      ]
     },
     "execution_count": 395,
     "metadata": {},
     "output_type": "execute_result"
    }
   ],
   "source": [
    "df['Payment_Behaviour'].unique()"
   ]
  },
  {
   "cell_type": "code",
   "execution_count": 396,
   "id": "1428804f-6fdd-4f8a-91ba-e6460d4dab6e",
   "metadata": {},
   "outputs": [],
   "source": [
    "df['Payment_Behaviour'] = df['Payment_Behaviour'].apply(lambda x: 'Low_spent_Medium_value_payments' if x == '!@9#%8' else x )"
   ]
  },
  {
   "cell_type": "code",
   "execution_count": 397,
   "id": "5e0f847d-7745-4607-a911-7448d2adb923",
   "metadata": {},
   "outputs": [
    {
     "name": "stderr",
     "output_type": "stream",
     "text": [
      "C:\\Users\\rahul bhutekar\\ds_class\\Lib\\site-packages\\sklearn\\preprocessing\\_encoders.py:975: FutureWarning: `sparse` was renamed to `sparse_output` in version 1.2 and will be removed in 1.4. `sparse_output` is ignored unless you leave `sparse` to its default value.\n",
      "  warnings.warn(\n"
     ]
    }
   ],
   "source": [
    "# Apply the OneHotEncoder to the 'Payment_Behaviour' column\n",
    "encoded_Payment_Behaviour = ohe_encoder.fit_transform(df[['Payment_Behaviour']])\n",
    "\n",
    "# get the names of the new Payment_of_Min_Amount columns\n",
    "col_names_Payment_Behaviour = ohe_encoder.get_feature_names_out(['Payment_Behaviour'])\n",
    "\n",
    "# creating a new DataFrame with the newly generated values\n",
    "df_encoded_Payment_Behaviour = pd.DataFrame(encoded_Payment_Behaviour, columns=col_names_Payment_Behaviour)\n",
    "\n",
    "# concatenate the newly generated values 'df_encoded_Payment_Behaviour' to the original DataFrame and dropping the original OBJECT type field 'Payment_Behaviour' \n",
    "df = pd.concat([df, df_encoded_Payment_Behaviour], axis=1)\n",
    "df = df.drop('Payment_Behaviour', axis=1)"
   ]
  },
  {
   "cell_type": "code",
   "execution_count": 398,
   "id": "a18150ce-be8d-454d-b6e8-fad3bf66bbb0",
   "metadata": {},
   "outputs": [
    {
     "data": {
      "text/html": [
       "<div>\n",
       "<style scoped>\n",
       "    .dataframe tbody tr th:only-of-type {\n",
       "        vertical-align: middle;\n",
       "    }\n",
       "\n",
       "    .dataframe tbody tr th {\n",
       "        vertical-align: top;\n",
       "    }\n",
       "\n",
       "    .dataframe thead th {\n",
       "        text-align: right;\n",
       "    }\n",
       "</style>\n",
       "<table border=\"1\" class=\"dataframe\">\n",
       "  <thead>\n",
       "    <tr style=\"text-align: right;\">\n",
       "      <th></th>\n",
       "      <th>Age</th>\n",
       "      <th>Annual_Income</th>\n",
       "      <th>Monthly_Inhand_Salary</th>\n",
       "      <th>Num_Credit_Card</th>\n",
       "      <th>Num_of_Loan</th>\n",
       "      <th>Delay_from_due_date</th>\n",
       "      <th>Num_of_Delayed_Payment</th>\n",
       "      <th>Changed_Credit_Limit</th>\n",
       "      <th>Num_Credit_Inquiries</th>\n",
       "      <th>Credit_Mix</th>\n",
       "      <th>...</th>\n",
       "      <th>Monthly_Balance</th>\n",
       "      <th>Payment_of_Min_Amount_NM</th>\n",
       "      <th>Payment_of_Min_Amount_No</th>\n",
       "      <th>Payment_of_Min_Amount_Yes</th>\n",
       "      <th>Payment_Behaviour_High_spent_Large_value_payments</th>\n",
       "      <th>Payment_Behaviour_High_spent_Medium_value_payments</th>\n",
       "      <th>Payment_Behaviour_High_spent_Small_value_payments</th>\n",
       "      <th>Payment_Behaviour_Low_spent_Large_value_payments</th>\n",
       "      <th>Payment_Behaviour_Low_spent_Medium_value_payments</th>\n",
       "      <th>Payment_Behaviour_Low_spent_Small_value_payments</th>\n",
       "    </tr>\n",
       "  </thead>\n",
       "  <tbody>\n",
       "    <tr>\n",
       "      <th>0</th>\n",
       "      <td>23</td>\n",
       "      <td>19114.12</td>\n",
       "      <td>1824.843333</td>\n",
       "      <td>4</td>\n",
       "      <td>4</td>\n",
       "      <td>3</td>\n",
       "      <td>7</td>\n",
       "      <td>11.27</td>\n",
       "      <td>2022.0</td>\n",
       "      <td>Good</td>\n",
       "      <td>...</td>\n",
       "      <td>186.26670208571772</td>\n",
       "      <td>0.0</td>\n",
       "      <td>1.0</td>\n",
       "      <td>0.0</td>\n",
       "      <td>0.0</td>\n",
       "      <td>0.0</td>\n",
       "      <td>0.0</td>\n",
       "      <td>0.0</td>\n",
       "      <td>0.0</td>\n",
       "      <td>1.0</td>\n",
       "    </tr>\n",
       "    <tr>\n",
       "      <th>1</th>\n",
       "      <td>24</td>\n",
       "      <td>19114.12</td>\n",
       "      <td>1824.843333</td>\n",
       "      <td>4</td>\n",
       "      <td>4</td>\n",
       "      <td>3</td>\n",
       "      <td>9</td>\n",
       "      <td>13.27</td>\n",
       "      <td>4.0</td>\n",
       "      <td>Good</td>\n",
       "      <td>...</td>\n",
       "      <td>361.44400385378196</td>\n",
       "      <td>0.0</td>\n",
       "      <td>1.0</td>\n",
       "      <td>0.0</td>\n",
       "      <td>0.0</td>\n",
       "      <td>1.0</td>\n",
       "      <td>0.0</td>\n",
       "      <td>0.0</td>\n",
       "      <td>0.0</td>\n",
       "      <td>0.0</td>\n",
       "    </tr>\n",
       "    <tr>\n",
       "      <th>2</th>\n",
       "      <td>24</td>\n",
       "      <td>19114.12</td>\n",
       "      <td>1824.843333</td>\n",
       "      <td>4</td>\n",
       "      <td>4</td>\n",
       "      <td>-1</td>\n",
       "      <td>4</td>\n",
       "      <td>12.27</td>\n",
       "      <td>4.0</td>\n",
       "      <td>Good</td>\n",
       "      <td>...</td>\n",
       "      <td>264.67544623342997</td>\n",
       "      <td>0.0</td>\n",
       "      <td>1.0</td>\n",
       "      <td>0.0</td>\n",
       "      <td>0.0</td>\n",
       "      <td>0.0</td>\n",
       "      <td>0.0</td>\n",
       "      <td>0.0</td>\n",
       "      <td>1.0</td>\n",
       "      <td>0.0</td>\n",
       "    </tr>\n",
       "    <tr>\n",
       "      <th>3</th>\n",
       "      <td>24</td>\n",
       "      <td>19114.12</td>\n",
       "      <td>NaN</td>\n",
       "      <td>4</td>\n",
       "      <td>4</td>\n",
       "      <td>4</td>\n",
       "      <td>5</td>\n",
       "      <td>11.27</td>\n",
       "      <td>4.0</td>\n",
       "      <td>Good</td>\n",
       "      <td>...</td>\n",
       "      <td>343.82687322383634</td>\n",
       "      <td>0.0</td>\n",
       "      <td>1.0</td>\n",
       "      <td>0.0</td>\n",
       "      <td>0.0</td>\n",
       "      <td>1.0</td>\n",
       "      <td>0.0</td>\n",
       "      <td>0.0</td>\n",
       "      <td>0.0</td>\n",
       "      <td>0.0</td>\n",
       "    </tr>\n",
       "    <tr>\n",
       "      <th>4</th>\n",
       "      <td>28</td>\n",
       "      <td>34847.84</td>\n",
       "      <td>3037.986667</td>\n",
       "      <td>4</td>\n",
       "      <td>1</td>\n",
       "      <td>3</td>\n",
       "      <td>1</td>\n",
       "      <td>5.42</td>\n",
       "      <td>5.0</td>\n",
       "      <td>Good</td>\n",
       "      <td>...</td>\n",
       "      <td>485.2984336755923</td>\n",
       "      <td>0.0</td>\n",
       "      <td>1.0</td>\n",
       "      <td>0.0</td>\n",
       "      <td>1.0</td>\n",
       "      <td>0.0</td>\n",
       "      <td>0.0</td>\n",
       "      <td>0.0</td>\n",
       "      <td>0.0</td>\n",
       "      <td>0.0</td>\n",
       "    </tr>\n",
       "  </tbody>\n",
       "</table>\n",
       "<p>5 rows × 24 columns</p>\n",
       "</div>"
      ],
      "text/plain": [
       "   Age  Annual_Income  Monthly_Inhand_Salary  Num_Credit_Card  Num_of_Loan  \\\n",
       "0   23       19114.12            1824.843333                4            4   \n",
       "1   24       19114.12            1824.843333                4            4   \n",
       "2   24       19114.12            1824.843333                4            4   \n",
       "3   24       19114.12                    NaN                4            4   \n",
       "4   28       34847.84            3037.986667                4            1   \n",
       "\n",
       "   Delay_from_due_date  Num_of_Delayed_Payment  Changed_Credit_Limit  \\\n",
       "0                    3                       7                 11.27   \n",
       "1                    3                       9                 13.27   \n",
       "2                   -1                       4                 12.27   \n",
       "3                    4                       5                 11.27   \n",
       "4                    3                       1                  5.42   \n",
       "\n",
       "   Num_Credit_Inquiries Credit_Mix  ...     Monthly_Balance  \\\n",
       "0                2022.0       Good  ...  186.26670208571772   \n",
       "1                   4.0       Good  ...  361.44400385378196   \n",
       "2                   4.0       Good  ...  264.67544623342997   \n",
       "3                   4.0       Good  ...  343.82687322383634   \n",
       "4                   5.0       Good  ...   485.2984336755923   \n",
       "\n",
       "   Payment_of_Min_Amount_NM  Payment_of_Min_Amount_No  \\\n",
       "0                       0.0                       1.0   \n",
       "1                       0.0                       1.0   \n",
       "2                       0.0                       1.0   \n",
       "3                       0.0                       1.0   \n",
       "4                       0.0                       1.0   \n",
       "\n",
       "   Payment_of_Min_Amount_Yes  \\\n",
       "0                        0.0   \n",
       "1                        0.0   \n",
       "2                        0.0   \n",
       "3                        0.0   \n",
       "4                        0.0   \n",
       "\n",
       "  Payment_Behaviour_High_spent_Large_value_payments  \\\n",
       "0                                               0.0   \n",
       "1                                               0.0   \n",
       "2                                               0.0   \n",
       "3                                               0.0   \n",
       "4                                               1.0   \n",
       "\n",
       "   Payment_Behaviour_High_spent_Medium_value_payments  \\\n",
       "0                                                0.0    \n",
       "1                                                1.0    \n",
       "2                                                0.0    \n",
       "3                                                1.0    \n",
       "4                                                0.0    \n",
       "\n",
       "   Payment_Behaviour_High_spent_Small_value_payments  \\\n",
       "0                                                0.0   \n",
       "1                                                0.0   \n",
       "2                                                0.0   \n",
       "3                                                0.0   \n",
       "4                                                0.0   \n",
       "\n",
       "   Payment_Behaviour_Low_spent_Large_value_payments  \\\n",
       "0                                               0.0   \n",
       "1                                               0.0   \n",
       "2                                               0.0   \n",
       "3                                               0.0   \n",
       "4                                               0.0   \n",
       "\n",
       "   Payment_Behaviour_Low_spent_Medium_value_payments  \\\n",
       "0                                                0.0   \n",
       "1                                                0.0   \n",
       "2                                                1.0   \n",
       "3                                                0.0   \n",
       "4                                                0.0   \n",
       "\n",
       "   Payment_Behaviour_Low_spent_Small_value_payments  \n",
       "0                                               1.0  \n",
       "1                                               0.0  \n",
       "2                                               0.0  \n",
       "3                                               0.0  \n",
       "4                                               0.0  \n",
       "\n",
       "[5 rows x 24 columns]"
      ]
     },
     "execution_count": 398,
     "metadata": {},
     "output_type": "execute_result"
    }
   ],
   "source": [
    "df.head()"
   ]
  },
  {
   "cell_type": "code",
   "execution_count": 399,
   "id": "a43a2261-5769-45e6-96b7-a164c60fa221",
   "metadata": {},
   "outputs": [
    {
     "data": {
      "text/plain": [
       "count                                49438\n",
       "unique                               49433\n",
       "top       __-333333333333333333333333333__\n",
       "freq                                     6\n",
       "Name: Monthly_Balance, dtype: object"
      ]
     },
     "execution_count": 399,
     "metadata": {},
     "output_type": "execute_result"
    }
   ],
   "source": [
    "df['Monthly_Balance'].describe()"
   ]
  },
  {
   "cell_type": "code",
   "execution_count": 400,
   "id": "4df2c3d6-a273-4332-8a74-90b0f46174fd",
   "metadata": {},
   "outputs": [],
   "source": [
    "df['Monthly_Balance'] = df['Monthly_Balance'].apply(remove_Underscore)"
   ]
  },
  {
   "cell_type": "code",
   "execution_count": 401,
   "id": "cb94e9e7-1c29-46ed-ad5b-3819093ba635",
   "metadata": {},
   "outputs": [
    {
     "data": {
      "text/plain": [
       "count    4.943800e+04\n",
       "mean    -4.045471e+22\n",
       "std      3.671994e+24\n",
       "min     -3.333333e+26\n",
       "25%      2.704741e+02\n",
       "50%      3.369732e+02\n",
       "75%      4.708568e+02\n",
       "max      1.606518e+03\n",
       "Name: Monthly_Balance, dtype: float64"
      ]
     },
     "execution_count": 401,
     "metadata": {},
     "output_type": "execute_result"
    }
   ],
   "source": [
    "df['Monthly_Balance'].describe()"
   ]
  },
  {
   "cell_type": "code",
   "execution_count": 402,
   "id": "56ee4272-d820-471e-8edf-0fcdc6ca484a",
   "metadata": {},
   "outputs": [],
   "source": [
    "# converting negative values to positive\n",
    "df['Monthly_Balance'] = df['Monthly_Balance'].apply( lambda x: -x if x < 0 else x)"
   ]
  },
  {
   "cell_type": "code",
   "execution_count": 403,
   "id": "d5947e57-83da-41cd-b938-39840985b63e",
   "metadata": {},
   "outputs": [
    {
     "data": {
      "text/plain": [
       "count    4.943800e+04\n",
       "mean     4.045471e+22\n",
       "std      3.671994e+24\n",
       "min      1.034022e-01\n",
       "25%      2.705032e+02\n",
       "50%      3.370127e+02\n",
       "75%      4.709267e+02\n",
       "max      3.333333e+26\n",
       "Name: Monthly_Balance, dtype: float64"
      ]
     },
     "execution_count": 403,
     "metadata": {},
     "output_type": "execute_result"
    }
   ],
   "source": [
    "df['Monthly_Balance'].describe()"
   ]
  },
  {
   "cell_type": "code",
   "execution_count": 404,
   "id": "54262e36-98a6-4947-a161-71ebf430cfcc",
   "metadata": {},
   "outputs": [
    {
     "data": {
      "text/plain": [
       "array(['Good', '_', 'Standard', 'Bad'], dtype=object)"
      ]
     },
     "execution_count": 404,
     "metadata": {},
     "output_type": "execute_result"
    }
   ],
   "source": [
    "df['Credit_Mix'].unique()"
   ]
  },
  {
   "cell_type": "code",
   "execution_count": 405,
   "id": "e9ce0876-4a9f-4c45-a510-5053eb4309f9",
   "metadata": {},
   "outputs": [
    {
     "data": {
      "text/plain": [
       "Credit_Mix\n",
       "2    18379\n",
       "1    12260\n",
       "3     9805\n",
       "0     9556\n",
       "Name: count, dtype: int64"
      ]
     },
     "execution_count": 405,
     "metadata": {},
     "output_type": "execute_result"
    }
   ],
   "source": [
    "# preprocessing provides collection of functions and classes for preprocessing and transforming data before it is used in machine learning models\n",
    "from sklearn import preprocessing\n",
    "\n",
    "# use label encoder to convert 'Credit_Mix' into numbers as this will be our TARGET column\n",
    "label_encoder = preprocessing.LabelEncoder()\n",
    "df['Credit_Mix'] = label_encoder.fit_transform(df['Credit_Mix'])\n",
    "df['Credit_Mix'].value_counts()"
   ]
  },
  {
   "cell_type": "code",
   "execution_count": 406,
   "id": "aa62cf7e-2099-421a-bc1e-62f7d7b88daa",
   "metadata": {},
   "outputs": [
    {
     "name": "stdout",
     "output_type": "stream",
     "text": [
      "<class 'pandas.core.frame.DataFrame'>\n",
      "RangeIndex: 50000 entries, 0 to 49999\n",
      "Data columns (total 24 columns):\n",
      " #   Column                                              Non-Null Count  Dtype  \n",
      "---  ------                                              --------------  -----  \n",
      " 0   Age                                                 50000 non-null  int64  \n",
      " 1   Annual_Income                                       50000 non-null  float64\n",
      " 2   Monthly_Inhand_Salary                               42502 non-null  float64\n",
      " 3   Num_Credit_Card                                     50000 non-null  int64  \n",
      " 4   Num_of_Loan                                         50000 non-null  int64  \n",
      " 5   Delay_from_due_date                                 50000 non-null  int64  \n",
      " 6   Num_of_Delayed_Payment                              50000 non-null  int64  \n",
      " 7   Changed_Credit_Limit                                50000 non-null  float64\n",
      " 8   Num_Credit_Inquiries                                48965 non-null  float64\n",
      " 9   Credit_Mix                                          50000 non-null  int32  \n",
      " 10  Outstanding_Debt                                    50000 non-null  float64\n",
      " 11  Credit_Utilization_Ratio                            50000 non-null  float64\n",
      " 12  Credit_History_Age                                  50000 non-null  int64  \n",
      " 13  Total_EMI_per_month                                 50000 non-null  float64\n",
      " 14  Monthly_Balance                                     49438 non-null  float64\n",
      " 15  Payment_of_Min_Amount_NM                            50000 non-null  float64\n",
      " 16  Payment_of_Min_Amount_No                            50000 non-null  float64\n",
      " 17  Payment_of_Min_Amount_Yes                           50000 non-null  float64\n",
      " 18  Payment_Behaviour_High_spent_Large_value_payments   50000 non-null  float64\n",
      " 19  Payment_Behaviour_High_spent_Medium_value_payments  50000 non-null  float64\n",
      " 20  Payment_Behaviour_High_spent_Small_value_payments   50000 non-null  float64\n",
      " 21  Payment_Behaviour_Low_spent_Large_value_payments    50000 non-null  float64\n",
      " 22  Payment_Behaviour_Low_spent_Medium_value_payments   50000 non-null  float64\n",
      " 23  Payment_Behaviour_Low_spent_Small_value_payments    50000 non-null  float64\n",
      "dtypes: float64(17), int32(1), int64(6)\n",
      "memory usage: 9.0 MB\n"
     ]
    }
   ],
   "source": [
    "df.info()"
   ]
  },
  {
   "cell_type": "code",
   "execution_count": 407,
   "id": "a218c873-5b10-4ea9-99ed-feead16fbc9f",
   "metadata": {},
   "outputs": [
    {
     "data": {
      "text/plain": [
       "Age                                                      0\n",
       "Annual_Income                                            0\n",
       "Monthly_Inhand_Salary                                 7498\n",
       "Num_Credit_Card                                          0\n",
       "Num_of_Loan                                              0\n",
       "Delay_from_due_date                                      0\n",
       "Num_of_Delayed_Payment                                   0\n",
       "Changed_Credit_Limit                                     0\n",
       "Num_Credit_Inquiries                                  1035\n",
       "Credit_Mix                                               0\n",
       "Outstanding_Debt                                         0\n",
       "Credit_Utilization_Ratio                                 0\n",
       "Credit_History_Age                                       0\n",
       "Total_EMI_per_month                                      0\n",
       "Monthly_Balance                                        562\n",
       "Payment_of_Min_Amount_NM                                 0\n",
       "Payment_of_Min_Amount_No                                 0\n",
       "Payment_of_Min_Amount_Yes                                0\n",
       "Payment_Behaviour_High_spent_Large_value_payments        0\n",
       "Payment_Behaviour_High_spent_Medium_value_payments       0\n",
       "Payment_Behaviour_High_spent_Small_value_payments        0\n",
       "Payment_Behaviour_Low_spent_Large_value_payments         0\n",
       "Payment_Behaviour_Low_spent_Medium_value_payments        0\n",
       "Payment_Behaviour_Low_spent_Small_value_payments         0\n",
       "dtype: int64"
      ]
     },
     "execution_count": 407,
     "metadata": {},
     "output_type": "execute_result"
    }
   ],
   "source": [
    "df.isnull().sum()"
   ]
  },
  {
   "cell_type": "code",
   "execution_count": 408,
   "id": "62ec51b7-c3a3-44f5-b16d-884cf3f3fa83",
   "metadata": {},
   "outputs": [
    {
     "data": {
      "text/plain": [
       "(4182.0042912035815, 30.080200142959256, 4.045471095109025e+22)"
      ]
     },
     "execution_count": 408,
     "metadata": {},
     "output_type": "execute_result"
    }
   ],
   "source": [
    "# calculating the MEAN value for the columns containing NULL values\n",
    "mean_Monthly_Inhand_Salary = df['Monthly_Inhand_Salary'].mean()\n",
    "mean_Num_Credit_Inquiries = df['Num_Credit_Inquiries'].mean()\n",
    "mean_Monthly_Balance = df['Monthly_Balance'].mean()\n",
    "\n",
    "mean_Monthly_Inhand_Salary, mean_Num_Credit_Inquiries, mean_Monthly_Balance"
   ]
  },
  {
   "cell_type": "code",
   "execution_count": 409,
   "id": "04d2176d-416b-4d0a-b074-efe8de441d04",
   "metadata": {},
   "outputs": [],
   "source": [
    "# replacing the NULL values with the MEAN value\n",
    "df['Monthly_Inhand_Salary'] = df['Monthly_Inhand_Salary'].fillna(mean_Monthly_Inhand_Salary)\n",
    "df['Num_Credit_Inquiries'] = df['Num_Credit_Inquiries'].fillna(mean_Num_Credit_Inquiries)\n",
    "df['Monthly_Balance'] = df['Monthly_Balance'].fillna(mean_Monthly_Balance)"
   ]
  },
  {
   "cell_type": "code",
   "execution_count": 410,
   "id": "5b45bff8-bcb4-40ae-aaa0-6879e5749ff0",
   "metadata": {},
   "outputs": [
    {
     "data": {
      "text/plain": [
       "Age                                                   0\n",
       "Annual_Income                                         0\n",
       "Monthly_Inhand_Salary                                 0\n",
       "Num_Credit_Card                                       0\n",
       "Num_of_Loan                                           0\n",
       "Delay_from_due_date                                   0\n",
       "Num_of_Delayed_Payment                                0\n",
       "Changed_Credit_Limit                                  0\n",
       "Num_Credit_Inquiries                                  0\n",
       "Credit_Mix                                            0\n",
       "Outstanding_Debt                                      0\n",
       "Credit_Utilization_Ratio                              0\n",
       "Credit_History_Age                                    0\n",
       "Total_EMI_per_month                                   0\n",
       "Monthly_Balance                                       0\n",
       "Payment_of_Min_Amount_NM                              0\n",
       "Payment_of_Min_Amount_No                              0\n",
       "Payment_of_Min_Amount_Yes                             0\n",
       "Payment_Behaviour_High_spent_Large_value_payments     0\n",
       "Payment_Behaviour_High_spent_Medium_value_payments    0\n",
       "Payment_Behaviour_High_spent_Small_value_payments     0\n",
       "Payment_Behaviour_Low_spent_Large_value_payments      0\n",
       "Payment_Behaviour_Low_spent_Medium_value_payments     0\n",
       "Payment_Behaviour_Low_spent_Small_value_payments      0\n",
       "dtype: int64"
      ]
     },
     "execution_count": 410,
     "metadata": {},
     "output_type": "execute_result"
    }
   ],
   "source": [
    "df.isnull().sum()"
   ]
  },
  {
   "cell_type": "code",
   "execution_count": 411,
   "id": "1e82fd9c-8f37-4b83-9ebf-e9f0d1c779ba",
   "metadata": {},
   "outputs": [
    {
     "data": {
      "text/plain": [
       "(0, 24)"
      ]
     },
     "execution_count": 411,
     "metadata": {},
     "output_type": "execute_result"
    }
   ],
   "source": [
    "# to check if there are any duplicate rows present\n",
    "df[df.duplicated()].shape"
   ]
  },
  {
   "cell_type": "markdown",
   "id": "cabda0a7-3b3a-4b0b-b2e8-47b7ea162206",
   "metadata": {},
   "source": [
    "## Random Forest"
   ]
  },
  {
   "cell_type": "code",
   "execution_count": 429,
   "id": "fc42611a-e2d9-4e54-ac9b-a0f1f850b967",
   "metadata": {},
   "outputs": [
    {
     "data": {
      "text/html": [
       "<div>\n",
       "<style scoped>\n",
       "    .dataframe tbody tr th:only-of-type {\n",
       "        vertical-align: middle;\n",
       "    }\n",
       "\n",
       "    .dataframe tbody tr th {\n",
       "        vertical-align: top;\n",
       "    }\n",
       "\n",
       "    .dataframe thead th {\n",
       "        text-align: right;\n",
       "    }\n",
       "</style>\n",
       "<table border=\"1\" class=\"dataframe\">\n",
       "  <thead>\n",
       "    <tr style=\"text-align: right;\">\n",
       "      <th></th>\n",
       "      <th>Age</th>\n",
       "      <th>Annual_Income</th>\n",
       "      <th>Monthly_Inhand_Salary</th>\n",
       "      <th>Num_Credit_Card</th>\n",
       "      <th>Num_of_Loan</th>\n",
       "      <th>Delay_from_due_date</th>\n",
       "      <th>Num_of_Delayed_Payment</th>\n",
       "      <th>Changed_Credit_Limit</th>\n",
       "      <th>Num_Credit_Inquiries</th>\n",
       "      <th>Outstanding_Debt</th>\n",
       "      <th>...</th>\n",
       "      <th>Monthly_Balance</th>\n",
       "      <th>Payment_of_Min_Amount_NM</th>\n",
       "      <th>Payment_of_Min_Amount_No</th>\n",
       "      <th>Payment_of_Min_Amount_Yes</th>\n",
       "      <th>Payment_Behaviour_High_spent_Large_value_payments</th>\n",
       "      <th>Payment_Behaviour_High_spent_Medium_value_payments</th>\n",
       "      <th>Payment_Behaviour_High_spent_Small_value_payments</th>\n",
       "      <th>Payment_Behaviour_Low_spent_Large_value_payments</th>\n",
       "      <th>Payment_Behaviour_Low_spent_Medium_value_payments</th>\n",
       "      <th>Payment_Behaviour_Low_spent_Small_value_payments</th>\n",
       "    </tr>\n",
       "  </thead>\n",
       "  <tbody>\n",
       "    <tr>\n",
       "      <th>0</th>\n",
       "      <td>23</td>\n",
       "      <td>19114.12</td>\n",
       "      <td>1824.843333</td>\n",
       "      <td>4</td>\n",
       "      <td>4</td>\n",
       "      <td>3</td>\n",
       "      <td>7</td>\n",
       "      <td>11.27</td>\n",
       "      <td>2022.0</td>\n",
       "      <td>809.98</td>\n",
       "      <td>...</td>\n",
       "      <td>186.266702</td>\n",
       "      <td>0.0</td>\n",
       "      <td>1.0</td>\n",
       "      <td>0.0</td>\n",
       "      <td>0.0</td>\n",
       "      <td>0.0</td>\n",
       "      <td>0.0</td>\n",
       "      <td>0.0</td>\n",
       "      <td>0.0</td>\n",
       "      <td>1.0</td>\n",
       "    </tr>\n",
       "    <tr>\n",
       "      <th>1</th>\n",
       "      <td>24</td>\n",
       "      <td>19114.12</td>\n",
       "      <td>1824.843333</td>\n",
       "      <td>4</td>\n",
       "      <td>4</td>\n",
       "      <td>3</td>\n",
       "      <td>9</td>\n",
       "      <td>13.27</td>\n",
       "      <td>4.0</td>\n",
       "      <td>809.98</td>\n",
       "      <td>...</td>\n",
       "      <td>361.444004</td>\n",
       "      <td>0.0</td>\n",
       "      <td>1.0</td>\n",
       "      <td>0.0</td>\n",
       "      <td>0.0</td>\n",
       "      <td>1.0</td>\n",
       "      <td>0.0</td>\n",
       "      <td>0.0</td>\n",
       "      <td>0.0</td>\n",
       "      <td>0.0</td>\n",
       "    </tr>\n",
       "    <tr>\n",
       "      <th>2</th>\n",
       "      <td>24</td>\n",
       "      <td>19114.12</td>\n",
       "      <td>1824.843333</td>\n",
       "      <td>4</td>\n",
       "      <td>4</td>\n",
       "      <td>1</td>\n",
       "      <td>4</td>\n",
       "      <td>12.27</td>\n",
       "      <td>4.0</td>\n",
       "      <td>809.98</td>\n",
       "      <td>...</td>\n",
       "      <td>264.675446</td>\n",
       "      <td>0.0</td>\n",
       "      <td>1.0</td>\n",
       "      <td>0.0</td>\n",
       "      <td>0.0</td>\n",
       "      <td>0.0</td>\n",
       "      <td>0.0</td>\n",
       "      <td>0.0</td>\n",
       "      <td>1.0</td>\n",
       "      <td>0.0</td>\n",
       "    </tr>\n",
       "    <tr>\n",
       "      <th>3</th>\n",
       "      <td>24</td>\n",
       "      <td>19114.12</td>\n",
       "      <td>4182.004291</td>\n",
       "      <td>4</td>\n",
       "      <td>4</td>\n",
       "      <td>4</td>\n",
       "      <td>5</td>\n",
       "      <td>11.27</td>\n",
       "      <td>4.0</td>\n",
       "      <td>809.98</td>\n",
       "      <td>...</td>\n",
       "      <td>343.826873</td>\n",
       "      <td>0.0</td>\n",
       "      <td>1.0</td>\n",
       "      <td>0.0</td>\n",
       "      <td>0.0</td>\n",
       "      <td>1.0</td>\n",
       "      <td>0.0</td>\n",
       "      <td>0.0</td>\n",
       "      <td>0.0</td>\n",
       "      <td>0.0</td>\n",
       "    </tr>\n",
       "    <tr>\n",
       "      <th>4</th>\n",
       "      <td>28</td>\n",
       "      <td>34847.84</td>\n",
       "      <td>3037.986667</td>\n",
       "      <td>4</td>\n",
       "      <td>1</td>\n",
       "      <td>3</td>\n",
       "      <td>1</td>\n",
       "      <td>5.42</td>\n",
       "      <td>5.0</td>\n",
       "      <td>605.03</td>\n",
       "      <td>...</td>\n",
       "      <td>485.298434</td>\n",
       "      <td>0.0</td>\n",
       "      <td>1.0</td>\n",
       "      <td>0.0</td>\n",
       "      <td>1.0</td>\n",
       "      <td>0.0</td>\n",
       "      <td>0.0</td>\n",
       "      <td>0.0</td>\n",
       "      <td>0.0</td>\n",
       "      <td>0.0</td>\n",
       "    </tr>\n",
       "    <tr>\n",
       "      <th>...</th>\n",
       "      <td>...</td>\n",
       "      <td>...</td>\n",
       "      <td>...</td>\n",
       "      <td>...</td>\n",
       "      <td>...</td>\n",
       "      <td>...</td>\n",
       "      <td>...</td>\n",
       "      <td>...</td>\n",
       "      <td>...</td>\n",
       "      <td>...</td>\n",
       "      <td>...</td>\n",
       "      <td>...</td>\n",
       "      <td>...</td>\n",
       "      <td>...</td>\n",
       "      <td>...</td>\n",
       "      <td>...</td>\n",
       "      <td>...</td>\n",
       "      <td>...</td>\n",
       "      <td>...</td>\n",
       "      <td>...</td>\n",
       "      <td>...</td>\n",
       "    </tr>\n",
       "    <tr>\n",
       "      <th>49995</th>\n",
       "      <td>33</td>\n",
       "      <td>20002.88</td>\n",
       "      <td>1929.906667</td>\n",
       "      <td>8</td>\n",
       "      <td>5</td>\n",
       "      <td>33</td>\n",
       "      <td>25</td>\n",
       "      <td>18.31</td>\n",
       "      <td>12.0</td>\n",
       "      <td>3571.70</td>\n",
       "      <td>...</td>\n",
       "      <td>275.539570</td>\n",
       "      <td>0.0</td>\n",
       "      <td>0.0</td>\n",
       "      <td>1.0</td>\n",
       "      <td>0.0</td>\n",
       "      <td>0.0</td>\n",
       "      <td>0.0</td>\n",
       "      <td>0.0</td>\n",
       "      <td>0.0</td>\n",
       "      <td>1.0</td>\n",
       "    </tr>\n",
       "    <tr>\n",
       "      <th>49996</th>\n",
       "      <td>25</td>\n",
       "      <td>39628.99</td>\n",
       "      <td>4182.004291</td>\n",
       "      <td>6</td>\n",
       "      <td>2</td>\n",
       "      <td>20</td>\n",
       "      <td>30</td>\n",
       "      <td>11.50</td>\n",
       "      <td>7.0</td>\n",
       "      <td>502.38</td>\n",
       "      <td>...</td>\n",
       "      <td>409.394562</td>\n",
       "      <td>1.0</td>\n",
       "      <td>0.0</td>\n",
       "      <td>0.0</td>\n",
       "      <td>0.0</td>\n",
       "      <td>0.0</td>\n",
       "      <td>0.0</td>\n",
       "      <td>0.0</td>\n",
       "      <td>0.0</td>\n",
       "      <td>1.0</td>\n",
       "    </tr>\n",
       "    <tr>\n",
       "      <th>49997</th>\n",
       "      <td>25</td>\n",
       "      <td>39628.99</td>\n",
       "      <td>3359.415833</td>\n",
       "      <td>6</td>\n",
       "      <td>2</td>\n",
       "      <td>23</td>\n",
       "      <td>5</td>\n",
       "      <td>13.50</td>\n",
       "      <td>7.0</td>\n",
       "      <td>502.38</td>\n",
       "      <td>...</td>\n",
       "      <td>349.726332</td>\n",
       "      <td>0.0</td>\n",
       "      <td>1.0</td>\n",
       "      <td>0.0</td>\n",
       "      <td>0.0</td>\n",
       "      <td>0.0</td>\n",
       "      <td>0.0</td>\n",
       "      <td>1.0</td>\n",
       "      <td>0.0</td>\n",
       "      <td>0.0</td>\n",
       "    </tr>\n",
       "    <tr>\n",
       "      <th>49998</th>\n",
       "      <td>25</td>\n",
       "      <td>39628.99</td>\n",
       "      <td>4182.004291</td>\n",
       "      <td>6</td>\n",
       "      <td>2</td>\n",
       "      <td>21</td>\n",
       "      <td>6</td>\n",
       "      <td>11.50</td>\n",
       "      <td>7.0</td>\n",
       "      <td>502.38</td>\n",
       "      <td>...</td>\n",
       "      <td>463.238981</td>\n",
       "      <td>0.0</td>\n",
       "      <td>1.0</td>\n",
       "      <td>0.0</td>\n",
       "      <td>0.0</td>\n",
       "      <td>0.0</td>\n",
       "      <td>1.0</td>\n",
       "      <td>0.0</td>\n",
       "      <td>0.0</td>\n",
       "      <td>0.0</td>\n",
       "    </tr>\n",
       "    <tr>\n",
       "      <th>49999</th>\n",
       "      <td>25</td>\n",
       "      <td>39628.99</td>\n",
       "      <td>3359.415833</td>\n",
       "      <td>6</td>\n",
       "      <td>2</td>\n",
       "      <td>22</td>\n",
       "      <td>5</td>\n",
       "      <td>11.50</td>\n",
       "      <td>7.0</td>\n",
       "      <td>502.38</td>\n",
       "      <td>...</td>\n",
       "      <td>360.379683</td>\n",
       "      <td>0.0</td>\n",
       "      <td>1.0</td>\n",
       "      <td>0.0</td>\n",
       "      <td>0.0</td>\n",
       "      <td>0.0</td>\n",
       "      <td>0.0</td>\n",
       "      <td>0.0</td>\n",
       "      <td>1.0</td>\n",
       "      <td>0.0</td>\n",
       "    </tr>\n",
       "  </tbody>\n",
       "</table>\n",
       "<p>50000 rows × 23 columns</p>\n",
       "</div>"
      ],
      "text/plain": [
       "       Age  Annual_Income  Monthly_Inhand_Salary  Num_Credit_Card  \\\n",
       "0       23       19114.12            1824.843333                4   \n",
       "1       24       19114.12            1824.843333                4   \n",
       "2       24       19114.12            1824.843333                4   \n",
       "3       24       19114.12            4182.004291                4   \n",
       "4       28       34847.84            3037.986667                4   \n",
       "...    ...            ...                    ...              ...   \n",
       "49995   33       20002.88            1929.906667                8   \n",
       "49996   25       39628.99            4182.004291                6   \n",
       "49997   25       39628.99            3359.415833                6   \n",
       "49998   25       39628.99            4182.004291                6   \n",
       "49999   25       39628.99            3359.415833                6   \n",
       "\n",
       "       Num_of_Loan  Delay_from_due_date  Num_of_Delayed_Payment  \\\n",
       "0                4                    3                       7   \n",
       "1                4                    3                       9   \n",
       "2                4                    1                       4   \n",
       "3                4                    4                       5   \n",
       "4                1                    3                       1   \n",
       "...            ...                  ...                     ...   \n",
       "49995            5                   33                      25   \n",
       "49996            2                   20                      30   \n",
       "49997            2                   23                       5   \n",
       "49998            2                   21                       6   \n",
       "49999            2                   22                       5   \n",
       "\n",
       "       Changed_Credit_Limit  Num_Credit_Inquiries  Outstanding_Debt  ...  \\\n",
       "0                     11.27                2022.0            809.98  ...   \n",
       "1                     13.27                   4.0            809.98  ...   \n",
       "2                     12.27                   4.0            809.98  ...   \n",
       "3                     11.27                   4.0            809.98  ...   \n",
       "4                      5.42                   5.0            605.03  ...   \n",
       "...                     ...                   ...               ...  ...   \n",
       "49995                 18.31                  12.0           3571.70  ...   \n",
       "49996                 11.50                   7.0            502.38  ...   \n",
       "49997                 13.50                   7.0            502.38  ...   \n",
       "49998                 11.50                   7.0            502.38  ...   \n",
       "49999                 11.50                   7.0            502.38  ...   \n",
       "\n",
       "       Monthly_Balance  Payment_of_Min_Amount_NM  Payment_of_Min_Amount_No  \\\n",
       "0           186.266702                       0.0                       1.0   \n",
       "1           361.444004                       0.0                       1.0   \n",
       "2           264.675446                       0.0                       1.0   \n",
       "3           343.826873                       0.0                       1.0   \n",
       "4           485.298434                       0.0                       1.0   \n",
       "...                ...                       ...                       ...   \n",
       "49995       275.539570                       0.0                       0.0   \n",
       "49996       409.394562                       1.0                       0.0   \n",
       "49997       349.726332                       0.0                       1.0   \n",
       "49998       463.238981                       0.0                       1.0   \n",
       "49999       360.379683                       0.0                       1.0   \n",
       "\n",
       "       Payment_of_Min_Amount_Yes  \\\n",
       "0                            0.0   \n",
       "1                            0.0   \n",
       "2                            0.0   \n",
       "3                            0.0   \n",
       "4                            0.0   \n",
       "...                          ...   \n",
       "49995                        1.0   \n",
       "49996                        0.0   \n",
       "49997                        0.0   \n",
       "49998                        0.0   \n",
       "49999                        0.0   \n",
       "\n",
       "       Payment_Behaviour_High_spent_Large_value_payments  \\\n",
       "0                                                    0.0   \n",
       "1                                                    0.0   \n",
       "2                                                    0.0   \n",
       "3                                                    0.0   \n",
       "4                                                    1.0   \n",
       "...                                                  ...   \n",
       "49995                                                0.0   \n",
       "49996                                                0.0   \n",
       "49997                                                0.0   \n",
       "49998                                                0.0   \n",
       "49999                                                0.0   \n",
       "\n",
       "       Payment_Behaviour_High_spent_Medium_value_payments  \\\n",
       "0                                                    0.0    \n",
       "1                                                    1.0    \n",
       "2                                                    0.0    \n",
       "3                                                    1.0    \n",
       "4                                                    0.0    \n",
       "...                                                  ...    \n",
       "49995                                                0.0    \n",
       "49996                                                0.0    \n",
       "49997                                                0.0    \n",
       "49998                                                0.0    \n",
       "49999                                                0.0    \n",
       "\n",
       "       Payment_Behaviour_High_spent_Small_value_payments  \\\n",
       "0                                                    0.0   \n",
       "1                                                    0.0   \n",
       "2                                                    0.0   \n",
       "3                                                    0.0   \n",
       "4                                                    0.0   \n",
       "...                                                  ...   \n",
       "49995                                                0.0   \n",
       "49996                                                0.0   \n",
       "49997                                                0.0   \n",
       "49998                                                1.0   \n",
       "49999                                                0.0   \n",
       "\n",
       "       Payment_Behaviour_Low_spent_Large_value_payments  \\\n",
       "0                                                   0.0   \n",
       "1                                                   0.0   \n",
       "2                                                   0.0   \n",
       "3                                                   0.0   \n",
       "4                                                   0.0   \n",
       "...                                                 ...   \n",
       "49995                                               0.0   \n",
       "49996                                               0.0   \n",
       "49997                                               1.0   \n",
       "49998                                               0.0   \n",
       "49999                                               0.0   \n",
       "\n",
       "       Payment_Behaviour_Low_spent_Medium_value_payments  \\\n",
       "0                                                    0.0   \n",
       "1                                                    0.0   \n",
       "2                                                    1.0   \n",
       "3                                                    0.0   \n",
       "4                                                    0.0   \n",
       "...                                                  ...   \n",
       "49995                                                0.0   \n",
       "49996                                                0.0   \n",
       "49997                                                0.0   \n",
       "49998                                                0.0   \n",
       "49999                                                1.0   \n",
       "\n",
       "       Payment_Behaviour_Low_spent_Small_value_payments  \n",
       "0                                                   1.0  \n",
       "1                                                   0.0  \n",
       "2                                                   0.0  \n",
       "3                                                   0.0  \n",
       "4                                                   0.0  \n",
       "...                                                 ...  \n",
       "49995                                               1.0  \n",
       "49996                                               1.0  \n",
       "49997                                               0.0  \n",
       "49998                                               0.0  \n",
       "49999                                               0.0  \n",
       "\n",
       "[50000 rows x 23 columns]"
      ]
     },
     "execution_count": 429,
     "metadata": {},
     "output_type": "execute_result"
    }
   ],
   "source": [
    "# independent variables in X\n",
    "X = df.drop('Credit_Mix', axis = 1)\n",
    "X"
   ]
  },
  {
   "cell_type": "code",
   "execution_count": 430,
   "id": "4d80a63e-91f5-4542-9e43-e0effd659cc8",
   "metadata": {},
   "outputs": [
    {
     "data": {
      "text/plain": [
       "0    1\n",
       "1    1\n",
       "2    1\n",
       "3    1\n",
       "4    1\n",
       "5    1\n",
       "6    3\n",
       "7    3\n",
       "8    1\n",
       "9    1\n",
       "Name: Credit_Mix, dtype: int32"
      ]
     },
     "execution_count": 430,
     "metadata": {},
     "output_type": "execute_result"
    }
   ],
   "source": [
    "# target varibale in y\n",
    "y = df['Credit_Mix']\n",
    "y.head(10)"
   ]
  },
  {
   "cell_type": "code",
   "execution_count": 431,
   "id": "83ba6e05-94ea-4ee1-9851-2c373b1b1390",
   "metadata": {},
   "outputs": [],
   "source": [
    "# Splitting the dataset into train and test\n",
    "from sklearn.model_selection import train_test_split\n",
    "\n",
    "X_train,X_test,y_train,y_test = train_test_split(X,y,test_size=0.3)"
   ]
  },
  {
   "cell_type": "code",
   "execution_count": 432,
   "id": "f9d99c8a-7fdf-46a3-a0fa-a6de0558cd3a",
   "metadata": {},
   "outputs": [
    {
     "data": {
      "text/plain": [
       "((35000, 23), (15000, 23), (35000,), (15000,))"
      ]
     },
     "execution_count": 432,
     "metadata": {},
     "output_type": "execute_result"
    }
   ],
   "source": [
    "X_train.shape,X_test.shape,y_train.shape,y_test.shape"
   ]
  },
  {
   "cell_type": "code",
   "execution_count": 433,
   "id": "5134c6e4-c193-4121-951a-8c4556e2e8af",
   "metadata": {},
   "outputs": [],
   "source": [
    "# importing 'RandomForestClassifier' classifier\n",
    "from sklearn.ensemble import RandomForestClassifier\n",
    "\n",
    "# create a Random Forest classifier model\n",
    "model = RandomForestClassifier(n_estimators = 100, random_state = 42)\n",
    "model_entropy = RandomForestClassifier(n_estimators = 100, random_state = 42, criterion='entropy')"
   ]
  },
  {
   "cell_type": "code",
   "execution_count": 434,
   "id": "1d9a1782-dd4f-42f9-83d3-229808b8d667",
   "metadata": {},
   "outputs": [
    {
     "data": {
      "text/html": [
       "<style>#sk-container-id-4 {color: black;}#sk-container-id-4 pre{padding: 0;}#sk-container-id-4 div.sk-toggleable {background-color: white;}#sk-container-id-4 label.sk-toggleable__label {cursor: pointer;display: block;width: 100%;margin-bottom: 0;padding: 0.3em;box-sizing: border-box;text-align: center;}#sk-container-id-4 label.sk-toggleable__label-arrow:before {content: \"▸\";float: left;margin-right: 0.25em;color: #696969;}#sk-container-id-4 label.sk-toggleable__label-arrow:hover:before {color: black;}#sk-container-id-4 div.sk-estimator:hover label.sk-toggleable__label-arrow:before {color: black;}#sk-container-id-4 div.sk-toggleable__content {max-height: 0;max-width: 0;overflow: hidden;text-align: left;background-color: #f0f8ff;}#sk-container-id-4 div.sk-toggleable__content pre {margin: 0.2em;color: black;border-radius: 0.25em;background-color: #f0f8ff;}#sk-container-id-4 input.sk-toggleable__control:checked~div.sk-toggleable__content {max-height: 200px;max-width: 100%;overflow: auto;}#sk-container-id-4 input.sk-toggleable__control:checked~label.sk-toggleable__label-arrow:before {content: \"▾\";}#sk-container-id-4 div.sk-estimator input.sk-toggleable__control:checked~label.sk-toggleable__label {background-color: #d4ebff;}#sk-container-id-4 div.sk-label input.sk-toggleable__control:checked~label.sk-toggleable__label {background-color: #d4ebff;}#sk-container-id-4 input.sk-hidden--visually {border: 0;clip: rect(1px 1px 1px 1px);clip: rect(1px, 1px, 1px, 1px);height: 1px;margin: -1px;overflow: hidden;padding: 0;position: absolute;width: 1px;}#sk-container-id-4 div.sk-estimator {font-family: monospace;background-color: #f0f8ff;border: 1px dotted black;border-radius: 0.25em;box-sizing: border-box;margin-bottom: 0.5em;}#sk-container-id-4 div.sk-estimator:hover {background-color: #d4ebff;}#sk-container-id-4 div.sk-parallel-item::after {content: \"\";width: 100%;border-bottom: 1px solid gray;flex-grow: 1;}#sk-container-id-4 div.sk-label:hover label.sk-toggleable__label {background-color: #d4ebff;}#sk-container-id-4 div.sk-serial::before {content: \"\";position: absolute;border-left: 1px solid gray;box-sizing: border-box;top: 0;bottom: 0;left: 50%;z-index: 0;}#sk-container-id-4 div.sk-serial {display: flex;flex-direction: column;align-items: center;background-color: white;padding-right: 0.2em;padding-left: 0.2em;position: relative;}#sk-container-id-4 div.sk-item {position: relative;z-index: 1;}#sk-container-id-4 div.sk-parallel {display: flex;align-items: stretch;justify-content: center;background-color: white;position: relative;}#sk-container-id-4 div.sk-item::before, #sk-container-id-4 div.sk-parallel-item::before {content: \"\";position: absolute;border-left: 1px solid gray;box-sizing: border-box;top: 0;bottom: 0;left: 50%;z-index: -1;}#sk-container-id-4 div.sk-parallel-item {display: flex;flex-direction: column;z-index: 1;position: relative;background-color: white;}#sk-container-id-4 div.sk-parallel-item:first-child::after {align-self: flex-end;width: 50%;}#sk-container-id-4 div.sk-parallel-item:last-child::after {align-self: flex-start;width: 50%;}#sk-container-id-4 div.sk-parallel-item:only-child::after {width: 0;}#sk-container-id-4 div.sk-dashed-wrapped {border: 1px dashed gray;margin: 0 0.4em 0.5em 0.4em;box-sizing: border-box;padding-bottom: 0.4em;background-color: white;}#sk-container-id-4 div.sk-label label {font-family: monospace;font-weight: bold;display: inline-block;line-height: 1.2em;}#sk-container-id-4 div.sk-label-container {text-align: center;}#sk-container-id-4 div.sk-container {/* jupyter's `normalize.less` sets `[hidden] { display: none; }` but bootstrap.min.css set `[hidden] { display: none !important; }` so we also need the `!important` here to be able to override the default hidden behavior on the sphinx rendered scikit-learn.org. See: https://github.com/scikit-learn/scikit-learn/issues/21755 */display: inline-block !important;position: relative;}#sk-container-id-4 div.sk-text-repr-fallback {display: none;}</style><div id=\"sk-container-id-4\" class=\"sk-top-container\"><div class=\"sk-text-repr-fallback\"><pre>RandomForestClassifier(random_state=42)</pre><b>In a Jupyter environment, please rerun this cell to show the HTML representation or trust the notebook. <br />On GitHub, the HTML representation is unable to render, please try loading this page with nbviewer.org.</b></div><div class=\"sk-container\" hidden><div class=\"sk-item\"><div class=\"sk-estimator sk-toggleable\"><input class=\"sk-toggleable__control sk-hidden--visually\" id=\"sk-estimator-id-4\" type=\"checkbox\" checked><label for=\"sk-estimator-id-4\" class=\"sk-toggleable__label sk-toggleable__label-arrow\">RandomForestClassifier</label><div class=\"sk-toggleable__content\"><pre>RandomForestClassifier(random_state=42)</pre></div></div></div></div></div>"
      ],
      "text/plain": [
       "RandomForestClassifier(random_state=42)"
      ]
     },
     "execution_count": 434,
     "metadata": {},
     "output_type": "execute_result"
    }
   ],
   "source": [
    "# train the GINI classifier on the training data\n",
    "model.fit(X_train, y_train)"
   ]
  },
  {
   "cell_type": "code",
   "execution_count": 435,
   "id": "f01b5d98-64e9-4bb1-b20e-1c4d475c410d",
   "metadata": {},
   "outputs": [
    {
     "data": {
      "text/html": [
       "<style>#sk-container-id-5 {color: black;}#sk-container-id-5 pre{padding: 0;}#sk-container-id-5 div.sk-toggleable {background-color: white;}#sk-container-id-5 label.sk-toggleable__label {cursor: pointer;display: block;width: 100%;margin-bottom: 0;padding: 0.3em;box-sizing: border-box;text-align: center;}#sk-container-id-5 label.sk-toggleable__label-arrow:before {content: \"▸\";float: left;margin-right: 0.25em;color: #696969;}#sk-container-id-5 label.sk-toggleable__label-arrow:hover:before {color: black;}#sk-container-id-5 div.sk-estimator:hover label.sk-toggleable__label-arrow:before {color: black;}#sk-container-id-5 div.sk-toggleable__content {max-height: 0;max-width: 0;overflow: hidden;text-align: left;background-color: #f0f8ff;}#sk-container-id-5 div.sk-toggleable__content pre {margin: 0.2em;color: black;border-radius: 0.25em;background-color: #f0f8ff;}#sk-container-id-5 input.sk-toggleable__control:checked~div.sk-toggleable__content {max-height: 200px;max-width: 100%;overflow: auto;}#sk-container-id-5 input.sk-toggleable__control:checked~label.sk-toggleable__label-arrow:before {content: \"▾\";}#sk-container-id-5 div.sk-estimator input.sk-toggleable__control:checked~label.sk-toggleable__label {background-color: #d4ebff;}#sk-container-id-5 div.sk-label input.sk-toggleable__control:checked~label.sk-toggleable__label {background-color: #d4ebff;}#sk-container-id-5 input.sk-hidden--visually {border: 0;clip: rect(1px 1px 1px 1px);clip: rect(1px, 1px, 1px, 1px);height: 1px;margin: -1px;overflow: hidden;padding: 0;position: absolute;width: 1px;}#sk-container-id-5 div.sk-estimator {font-family: monospace;background-color: #f0f8ff;border: 1px dotted black;border-radius: 0.25em;box-sizing: border-box;margin-bottom: 0.5em;}#sk-container-id-5 div.sk-estimator:hover {background-color: #d4ebff;}#sk-container-id-5 div.sk-parallel-item::after {content: \"\";width: 100%;border-bottom: 1px solid gray;flex-grow: 1;}#sk-container-id-5 div.sk-label:hover label.sk-toggleable__label {background-color: #d4ebff;}#sk-container-id-5 div.sk-serial::before {content: \"\";position: absolute;border-left: 1px solid gray;box-sizing: border-box;top: 0;bottom: 0;left: 50%;z-index: 0;}#sk-container-id-5 div.sk-serial {display: flex;flex-direction: column;align-items: center;background-color: white;padding-right: 0.2em;padding-left: 0.2em;position: relative;}#sk-container-id-5 div.sk-item {position: relative;z-index: 1;}#sk-container-id-5 div.sk-parallel {display: flex;align-items: stretch;justify-content: center;background-color: white;position: relative;}#sk-container-id-5 div.sk-item::before, #sk-container-id-5 div.sk-parallel-item::before {content: \"\";position: absolute;border-left: 1px solid gray;box-sizing: border-box;top: 0;bottom: 0;left: 50%;z-index: -1;}#sk-container-id-5 div.sk-parallel-item {display: flex;flex-direction: column;z-index: 1;position: relative;background-color: white;}#sk-container-id-5 div.sk-parallel-item:first-child::after {align-self: flex-end;width: 50%;}#sk-container-id-5 div.sk-parallel-item:last-child::after {align-self: flex-start;width: 50%;}#sk-container-id-5 div.sk-parallel-item:only-child::after {width: 0;}#sk-container-id-5 div.sk-dashed-wrapped {border: 1px dashed gray;margin: 0 0.4em 0.5em 0.4em;box-sizing: border-box;padding-bottom: 0.4em;background-color: white;}#sk-container-id-5 div.sk-label label {font-family: monospace;font-weight: bold;display: inline-block;line-height: 1.2em;}#sk-container-id-5 div.sk-label-container {text-align: center;}#sk-container-id-5 div.sk-container {/* jupyter's `normalize.less` sets `[hidden] { display: none; }` but bootstrap.min.css set `[hidden] { display: none !important; }` so we also need the `!important` here to be able to override the default hidden behavior on the sphinx rendered scikit-learn.org. See: https://github.com/scikit-learn/scikit-learn/issues/21755 */display: inline-block !important;position: relative;}#sk-container-id-5 div.sk-text-repr-fallback {display: none;}</style><div id=\"sk-container-id-5\" class=\"sk-top-container\"><div class=\"sk-text-repr-fallback\"><pre>RandomForestClassifier(criterion=&#x27;entropy&#x27;, random_state=42)</pre><b>In a Jupyter environment, please rerun this cell to show the HTML representation or trust the notebook. <br />On GitHub, the HTML representation is unable to render, please try loading this page with nbviewer.org.</b></div><div class=\"sk-container\" hidden><div class=\"sk-item\"><div class=\"sk-estimator sk-toggleable\"><input class=\"sk-toggleable__control sk-hidden--visually\" id=\"sk-estimator-id-5\" type=\"checkbox\" checked><label for=\"sk-estimator-id-5\" class=\"sk-toggleable__label sk-toggleable__label-arrow\">RandomForestClassifier</label><div class=\"sk-toggleable__content\"><pre>RandomForestClassifier(criterion=&#x27;entropy&#x27;, random_state=42)</pre></div></div></div></div></div>"
      ],
      "text/plain": [
       "RandomForestClassifier(criterion='entropy', random_state=42)"
      ]
     },
     "execution_count": 435,
     "metadata": {},
     "output_type": "execute_result"
    }
   ],
   "source": [
    "# train the ENTROPY classifier on the training data\n",
    "model_entropy.fit(X_train, y_train)"
   ]
  },
  {
   "cell_type": "code",
   "execution_count": 436,
   "id": "04f58d87-b7f9-453e-8657-4e7fba62363c",
   "metadata": {},
   "outputs": [],
   "source": [
    "# make predictions on the test data with GINI model\n",
    "y_pred = model.predict(X_test)"
   ]
  },
  {
   "cell_type": "code",
   "execution_count": 437,
   "id": "c99352d0-8b91-4ffb-959e-659690e1b346",
   "metadata": {},
   "outputs": [],
   "source": [
    "# make predictions on the test data with ENTROPY model\n",
    "y_pred_entropy = model_entropy.predict(X_test)"
   ]
  },
  {
   "cell_type": "code",
   "execution_count": 438,
   "id": "cdd72b03-d319-4ff4-8b6c-a67201b71413",
   "metadata": {},
   "outputs": [],
   "source": [
    "from sklearn.metrics import accuracy_score, classification_report\n",
    "\n",
    "# evaluating the model\n",
    "accuracy = accuracy_score(y_test, y_pred)\n",
    "classification_report_str = classification_report(y_test, y_pred)\n",
    "\n",
    "accuracy_entropy = accuracy_score(y_test, y_pred)\n",
    "classification_report_str_entropy = classification_report(y_test, y_pred)"
   ]
  },
  {
   "cell_type": "code",
   "execution_count": 439,
   "id": "848118f6-39ad-4246-9907-d74291a2d925",
   "metadata": {},
   "outputs": [
    {
     "name": "stdout",
     "output_type": "stream",
     "text": [
      "Gini Accuracy: 0.7422666666666666\n",
      "Gini Classification Report:\n",
      "               precision    recall  f1-score   support\n",
      "\n",
      "           0       0.78      0.95      0.86      2840\n",
      "           1       0.75      0.90      0.82      3678\n",
      "           2       0.75      0.91      0.82      5520\n",
      "           3       0.21      0.02      0.04      2962\n",
      "\n",
      "    accuracy                           0.74     15000\n",
      "   macro avg       0.62      0.70      0.63     15000\n",
      "weighted avg       0.65      0.74      0.67     15000\n",
      "\n"
     ]
    }
   ],
   "source": [
    "print(\"Gini Accuracy:\", accuracy)\n",
    "print(\"Gini Classification Report:\\n\", classification_report_str)"
   ]
  },
  {
   "cell_type": "code",
   "execution_count": 440,
   "id": "71981b77-e565-4874-b582-d7054ff9e905",
   "metadata": {},
   "outputs": [
    {
     "name": "stdout",
     "output_type": "stream",
     "text": [
      "Entropy Accuracy: 0.7422666666666666\n",
      "Entropy Classification Report:\n",
      "               precision    recall  f1-score   support\n",
      "\n",
      "           0       0.78      0.95      0.86      2840\n",
      "           1       0.75      0.90      0.82      3678\n",
      "           2       0.75      0.91      0.82      5520\n",
      "           3       0.21      0.02      0.04      2962\n",
      "\n",
      "    accuracy                           0.74     15000\n",
      "   macro avg       0.62      0.70      0.63     15000\n",
      "weighted avg       0.65      0.74      0.67     15000\n",
      "\n"
     ]
    }
   ],
   "source": [
    "print(\"Entropy Accuracy:\", accuracy_entropy)\n",
    "print(\"Entropy Classification Report:\\n\", classification_report_str_entropy)"
   ]
  },
  {
   "cell_type": "code",
   "execution_count": null,
   "id": "aa3fdfff-39e1-46c6-b9c8-e4d09c41e2b9",
   "metadata": {},
   "outputs": [],
   "source": []
  }
 ],
 "metadata": {
  "kernelspec": {
   "display_name": "Python 3 (ipykernel)",
   "language": "python",
   "name": "python3"
  },
  "language_info": {
   "codemirror_mode": {
    "name": "ipython",
    "version": 3
   },
   "file_extension": ".py",
   "mimetype": "text/x-python",
   "name": "python",
   "nbconvert_exporter": "python",
   "pygments_lexer": "ipython3",
   "version": "3.11.6"
  }
 },
 "nbformat": 4,
 "nbformat_minor": 5
}
