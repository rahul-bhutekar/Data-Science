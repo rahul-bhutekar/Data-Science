{
 "cells": [
  {
   "cell_type": "code",
   "execution_count": 1,
   "id": "84108c8e-3c19-4788-a795-eb53860d1716",
   "metadata": {},
   "outputs": [],
   "source": [
    "# necessary libraries\n",
    "import pandas as pd\n",
    "import numpy as np\n",
    "from sklearn.preprocessing import StandardScaler, MinMaxScaler\n",
    "import time\n",
    "\n",
    "# machine learning models\n",
    "from sklearn.linear_model import LogisticRegression\n",
    "from sklearn.tree import DecisionTreeClassifier\n",
    "from sklearn.ensemble import RandomForestClassifier, GradientBoostingClassifier\n",
    "from xgboost import XGBClassifier\n",
    "\n",
    "# evaluation matrices\n",
    "from sklearn.metrics import accuracy_score, classification_report, confusion_matrix"
   ]
  },
  {
   "cell_type": "markdown",
   "id": "553ed39d-3d6e-4712-9793-9c69b9f65298",
   "metadata": {},
   "source": [
    "#### accuracy_score: A metric that calculates the ratio of correctly predicted instances to the total instances.\n",
    "#### classification_report: A detailed report showing the precision, recall, f1-score, and support for each class in a classification problem.\n",
    "#### confusion_matrix: A table used to describe the performance of a classification model by showing the true positives, false positives, true negatives, and false negatives"
   ]
  },
  {
   "cell_type": "code",
   "execution_count": 2,
   "id": "d9cf90aa-cfd1-4355-b271-3eb26398d5dd",
   "metadata": {},
   "outputs": [],
   "source": [
    "# Load the datasets\n",
    "X_resampled = pd.read_csv(\"X_resampled.csv\")\n",
    "y_resampled = pd.read_csv(\"y_resampled.csv\")\n",
    "X_test = pd.read_csv(\"X_test.csv\")\n",
    "y_test = pd.read_csv(\"y_test.csv\")"
   ]
  },
  {
   "cell_type": "code",
   "execution_count": 3,
   "id": "ec175b77-c2f3-46ed-8b68-9d620c44dcdd",
   "metadata": {},
   "outputs": [
    {
     "name": "stdout",
     "output_type": "stream",
     "text": [
      "Shape of X_resampled: (2461812, 8)\n",
      "Shape of y_resampled: (2461812, 1)\n",
      "Shape of X_test: (555719, 8)\n",
      "Shape of y_test: (555719, 1)\n"
     ]
    }
   ],
   "source": [
    "# Check the shape of the datasets\n",
    "print(\"Shape of X_resampled:\", X_resampled.shape)\n",
    "print(\"Shape of y_resampled:\", y_resampled.shape)\n",
    "print(\"Shape of X_test:\", X_test.shape)\n",
    "print(\"Shape of y_test:\", y_test.shape)"
   ]
  },
  {
   "cell_type": "code",
   "execution_count": 4,
   "id": "e021983f-78a0-4272-9b0b-785949030656",
   "metadata": {},
   "outputs": [
    {
     "data": {
      "text/plain": [
       "Index(['category', 'amt', 'city', 'state', 'zip', 'merch_lat', 'merch_long',\n",
       "       'merchant_mean_encoded'],\n",
       "      dtype='object')"
      ]
     },
     "execution_count": 4,
     "metadata": {},
     "output_type": "execute_result"
    }
   ],
   "source": [
    "X_resampled.columns"
   ]
  },
  {
   "cell_type": "markdown",
   "id": "80f17884-5185-4a10-9967-badbc611a136",
   "metadata": {},
   "source": [
    "#### Standardization - The process of transforming data features to have a mean of zero and a standard deviation of one"
   ]
  },
  {
   "cell_type": "code",
   "execution_count": 5,
   "id": "08ca1ffd-627f-415d-aa38-d11222395060",
   "metadata": {},
   "outputs": [],
   "source": [
    "scaler = StandardScaler()\n",
    "X_resampled_scaled = scaler.fit_transform(X_resampled)\n",
    "X_test_scaled = scaler.transform(X_test)"
   ]
  },
  {
   "cell_type": "markdown",
   "id": "bdac17b7-4b25-4b4f-907b-80adabc68bdf",
   "metadata": {},
   "source": [
    "#### Normalization - Scaling individual data features to a specific range, typically [0, 1] or [-1, 1], to ensure uniformity"
   ]
  },
  {
   "cell_type": "code",
   "execution_count": 6,
   "id": "1fc42f19-c36f-4a0a-b05b-75266533b73c",
   "metadata": {},
   "outputs": [],
   "source": [
    "scaler = MinMaxScaler()\n",
    "X_resampled_scaledN = scaler.fit_transform(X_resampled)\n",
    "X_test_scaledN = scaler.transform(X_test)"
   ]
  },
  {
   "cell_type": "markdown",
   "id": "99f6241b-7364-4a41-a8e1-5b664f6a54fd",
   "metadata": {},
   "source": [
    "---\n",
    "## 1) Logistic Regression (LG)"
   ]
  },
  {
   "cell_type": "markdown",
   "id": "a7e76f97-62f8-4ce2-bde4-67ac92a86502",
   "metadata": {},
   "source": [
    "#### - A linear model used for binary classification that estimates the probability of a binary outcome based on one or more predictor variables"
   ]
  },
  {
   "cell_type": "markdown",
   "id": "85c9ce38-bdd0-45bc-bc3c-de9d1dfa6076",
   "metadata": {},
   "source": [
    "#### a) LG with standardize data"
   ]
  },
  {
   "cell_type": "code",
   "execution_count": 7,
   "id": "390613ba-167d-47b9-b011-3e9c82a3044e",
   "metadata": {},
   "outputs": [],
   "source": [
    "# Start the timer\n",
    "start_time = time.time()"
   ]
  },
  {
   "cell_type": "code",
   "execution_count": 8,
   "id": "2de15127-183a-4182-b956-f0986909dff9",
   "metadata": {},
   "outputs": [
    {
     "data": {
      "text/html": [
       "<style>#sk-container-id-1 {color: black;}#sk-container-id-1 pre{padding: 0;}#sk-container-id-1 div.sk-toggleable {background-color: white;}#sk-container-id-1 label.sk-toggleable__label {cursor: pointer;display: block;width: 100%;margin-bottom: 0;padding: 0.3em;box-sizing: border-box;text-align: center;}#sk-container-id-1 label.sk-toggleable__label-arrow:before {content: \"▸\";float: left;margin-right: 0.25em;color: #696969;}#sk-container-id-1 label.sk-toggleable__label-arrow:hover:before {color: black;}#sk-container-id-1 div.sk-estimator:hover label.sk-toggleable__label-arrow:before {color: black;}#sk-container-id-1 div.sk-toggleable__content {max-height: 0;max-width: 0;overflow: hidden;text-align: left;background-color: #f0f8ff;}#sk-container-id-1 div.sk-toggleable__content pre {margin: 0.2em;color: black;border-radius: 0.25em;background-color: #f0f8ff;}#sk-container-id-1 input.sk-toggleable__control:checked~div.sk-toggleable__content {max-height: 200px;max-width: 100%;overflow: auto;}#sk-container-id-1 input.sk-toggleable__control:checked~label.sk-toggleable__label-arrow:before {content: \"▾\";}#sk-container-id-1 div.sk-estimator input.sk-toggleable__control:checked~label.sk-toggleable__label {background-color: #d4ebff;}#sk-container-id-1 div.sk-label input.sk-toggleable__control:checked~label.sk-toggleable__label {background-color: #d4ebff;}#sk-container-id-1 input.sk-hidden--visually {border: 0;clip: rect(1px 1px 1px 1px);clip: rect(1px, 1px, 1px, 1px);height: 1px;margin: -1px;overflow: hidden;padding: 0;position: absolute;width: 1px;}#sk-container-id-1 div.sk-estimator {font-family: monospace;background-color: #f0f8ff;border: 1px dotted black;border-radius: 0.25em;box-sizing: border-box;margin-bottom: 0.5em;}#sk-container-id-1 div.sk-estimator:hover {background-color: #d4ebff;}#sk-container-id-1 div.sk-parallel-item::after {content: \"\";width: 100%;border-bottom: 1px solid gray;flex-grow: 1;}#sk-container-id-1 div.sk-label:hover label.sk-toggleable__label {background-color: #d4ebff;}#sk-container-id-1 div.sk-serial::before {content: \"\";position: absolute;border-left: 1px solid gray;box-sizing: border-box;top: 0;bottom: 0;left: 50%;z-index: 0;}#sk-container-id-1 div.sk-serial {display: flex;flex-direction: column;align-items: center;background-color: white;padding-right: 0.2em;padding-left: 0.2em;position: relative;}#sk-container-id-1 div.sk-item {position: relative;z-index: 1;}#sk-container-id-1 div.sk-parallel {display: flex;align-items: stretch;justify-content: center;background-color: white;position: relative;}#sk-container-id-1 div.sk-item::before, #sk-container-id-1 div.sk-parallel-item::before {content: \"\";position: absolute;border-left: 1px solid gray;box-sizing: border-box;top: 0;bottom: 0;left: 50%;z-index: -1;}#sk-container-id-1 div.sk-parallel-item {display: flex;flex-direction: column;z-index: 1;position: relative;background-color: white;}#sk-container-id-1 div.sk-parallel-item:first-child::after {align-self: flex-end;width: 50%;}#sk-container-id-1 div.sk-parallel-item:last-child::after {align-self: flex-start;width: 50%;}#sk-container-id-1 div.sk-parallel-item:only-child::after {width: 0;}#sk-container-id-1 div.sk-dashed-wrapped {border: 1px dashed gray;margin: 0 0.4em 0.5em 0.4em;box-sizing: border-box;padding-bottom: 0.4em;background-color: white;}#sk-container-id-1 div.sk-label label {font-family: monospace;font-weight: bold;display: inline-block;line-height: 1.2em;}#sk-container-id-1 div.sk-label-container {text-align: center;}#sk-container-id-1 div.sk-container {/* jupyter's `normalize.less` sets `[hidden] { display: none; }` but bootstrap.min.css set `[hidden] { display: none !important; }` so we also need the `!important` here to be able to override the default hidden behavior on the sphinx rendered scikit-learn.org. See: https://github.com/scikit-learn/scikit-learn/issues/21755 */display: inline-block !important;position: relative;}#sk-container-id-1 div.sk-text-repr-fallback {display: none;}</style><div id=\"sk-container-id-1\" class=\"sk-top-container\"><div class=\"sk-text-repr-fallback\"><pre>LogisticRegression()</pre><b>In a Jupyter environment, please rerun this cell to show the HTML representation or trust the notebook. <br />On GitHub, the HTML representation is unable to render, please try loading this page with nbviewer.org.</b></div><div class=\"sk-container\" hidden><div class=\"sk-item\"><div class=\"sk-estimator sk-toggleable\"><input class=\"sk-toggleable__control sk-hidden--visually\" id=\"sk-estimator-id-1\" type=\"checkbox\" checked><label for=\"sk-estimator-id-1\" class=\"sk-toggleable__label sk-toggleable__label-arrow\">LogisticRegression</label><div class=\"sk-toggleable__content\"><pre>LogisticRegression()</pre></div></div></div></div></div>"
      ],
      "text/plain": [
       "LogisticRegression()"
      ]
     },
     "execution_count": 8,
     "metadata": {},
     "output_type": "execute_result"
    }
   ],
   "source": [
    "# Initialize the logistic regression model\n",
    "model = LogisticRegression()\n",
    "\n",
    "# Fit the model to the training data\n",
    "model.fit(X_resampled_scaled, y_resampled.values.ravel())"
   ]
  },
  {
   "cell_type": "code",
   "execution_count": 9,
   "id": "c9e30497-07d9-4701-8719-b6a7eca19362",
   "metadata": {},
   "outputs": [
    {
     "name": "stdout",
     "output_type": "stream",
     "text": [
      "LG (Standardized) Accuracy: 94.36%\n",
      "\n",
      "LG (Standardized) Classification Report:\n",
      "              precision    recall  f1-score   support\n",
      "\n",
      "           0       1.00      0.94      0.97    553574\n",
      "           1       0.05      0.76      0.09      2145\n",
      "\n",
      "    accuracy                           0.94    555719\n",
      "   macro avg       0.52      0.85      0.53    555719\n",
      "weighted avg       1.00      0.94      0.97    555719\n",
      "\n",
      "\n",
      "LG (Standardized) Confusion Matrix :\n",
      "[[522737  30837]\n",
      " [   518   1627]]\n"
     ]
    }
   ],
   "source": [
    "# Make predictions on the test data\n",
    "y_pred = model.predict(X_test_scaled)\n",
    "\n",
    "# Evaluate the model\n",
    "accuracy = accuracy_score(y_test, y_pred)\n",
    "print(f\"LG (Standardized) Accuracy: {accuracy*100:.2f}%\")\n",
    "\n",
    "# Generate classification report\n",
    "print(\"\\nLG (Standardized) Classification Report:\")\n",
    "print(classification_report(y_test, y_pred))\n",
    "\n",
    "# Generate confusion matrix\n",
    "print(\"\\nLG (Standardized) Confusion Matrix :\")\n",
    "print(confusion_matrix(y_test, y_pred))"
   ]
  },
  {
   "cell_type": "code",
   "execution_count": 10,
   "id": "f022d439-634e-4385-9a17-1c4df92cce4f",
   "metadata": {},
   "outputs": [
    {
     "name": "stdout",
     "output_type": "stream",
     "text": [
      "Logistic regression with Standardization execution completed in 0.11 minutes.\n"
     ]
    }
   ],
   "source": [
    "end_time = time.time()\n",
    "\n",
    "execution_time = (end_time - start_time)/60\n",
    "\n",
    "print(f\"Logistic regression with Standardization execution completed in {execution_time:.2f} minutes.\")"
   ]
  },
  {
   "cell_type": "markdown",
   "id": "c574496e-13c4-46d3-ab3e-b27a899a80f5",
   "metadata": {},
   "source": [
    "#### b) LG with normalized data"
   ]
  },
  {
   "cell_type": "code",
   "execution_count": 11,
   "id": "4fdce606-436d-4440-ba30-f044fa14b2d9",
   "metadata": {},
   "outputs": [],
   "source": [
    "# Start the timer\n",
    "start_time = time.time()"
   ]
  },
  {
   "cell_type": "code",
   "execution_count": 12,
   "id": "85fb55e3-a930-4380-abc2-25a2c94d4857",
   "metadata": {},
   "outputs": [
    {
     "data": {
      "text/html": [
       "<style>#sk-container-id-2 {color: black;}#sk-container-id-2 pre{padding: 0;}#sk-container-id-2 div.sk-toggleable {background-color: white;}#sk-container-id-2 label.sk-toggleable__label {cursor: pointer;display: block;width: 100%;margin-bottom: 0;padding: 0.3em;box-sizing: border-box;text-align: center;}#sk-container-id-2 label.sk-toggleable__label-arrow:before {content: \"▸\";float: left;margin-right: 0.25em;color: #696969;}#sk-container-id-2 label.sk-toggleable__label-arrow:hover:before {color: black;}#sk-container-id-2 div.sk-estimator:hover label.sk-toggleable__label-arrow:before {color: black;}#sk-container-id-2 div.sk-toggleable__content {max-height: 0;max-width: 0;overflow: hidden;text-align: left;background-color: #f0f8ff;}#sk-container-id-2 div.sk-toggleable__content pre {margin: 0.2em;color: black;border-radius: 0.25em;background-color: #f0f8ff;}#sk-container-id-2 input.sk-toggleable__control:checked~div.sk-toggleable__content {max-height: 200px;max-width: 100%;overflow: auto;}#sk-container-id-2 input.sk-toggleable__control:checked~label.sk-toggleable__label-arrow:before {content: \"▾\";}#sk-container-id-2 div.sk-estimator input.sk-toggleable__control:checked~label.sk-toggleable__label {background-color: #d4ebff;}#sk-container-id-2 div.sk-label input.sk-toggleable__control:checked~label.sk-toggleable__label {background-color: #d4ebff;}#sk-container-id-2 input.sk-hidden--visually {border: 0;clip: rect(1px 1px 1px 1px);clip: rect(1px, 1px, 1px, 1px);height: 1px;margin: -1px;overflow: hidden;padding: 0;position: absolute;width: 1px;}#sk-container-id-2 div.sk-estimator {font-family: monospace;background-color: #f0f8ff;border: 1px dotted black;border-radius: 0.25em;box-sizing: border-box;margin-bottom: 0.5em;}#sk-container-id-2 div.sk-estimator:hover {background-color: #d4ebff;}#sk-container-id-2 div.sk-parallel-item::after {content: \"\";width: 100%;border-bottom: 1px solid gray;flex-grow: 1;}#sk-container-id-2 div.sk-label:hover label.sk-toggleable__label {background-color: #d4ebff;}#sk-container-id-2 div.sk-serial::before {content: \"\";position: absolute;border-left: 1px solid gray;box-sizing: border-box;top: 0;bottom: 0;left: 50%;z-index: 0;}#sk-container-id-2 div.sk-serial {display: flex;flex-direction: column;align-items: center;background-color: white;padding-right: 0.2em;padding-left: 0.2em;position: relative;}#sk-container-id-2 div.sk-item {position: relative;z-index: 1;}#sk-container-id-2 div.sk-parallel {display: flex;align-items: stretch;justify-content: center;background-color: white;position: relative;}#sk-container-id-2 div.sk-item::before, #sk-container-id-2 div.sk-parallel-item::before {content: \"\";position: absolute;border-left: 1px solid gray;box-sizing: border-box;top: 0;bottom: 0;left: 50%;z-index: -1;}#sk-container-id-2 div.sk-parallel-item {display: flex;flex-direction: column;z-index: 1;position: relative;background-color: white;}#sk-container-id-2 div.sk-parallel-item:first-child::after {align-self: flex-end;width: 50%;}#sk-container-id-2 div.sk-parallel-item:last-child::after {align-self: flex-start;width: 50%;}#sk-container-id-2 div.sk-parallel-item:only-child::after {width: 0;}#sk-container-id-2 div.sk-dashed-wrapped {border: 1px dashed gray;margin: 0 0.4em 0.5em 0.4em;box-sizing: border-box;padding-bottom: 0.4em;background-color: white;}#sk-container-id-2 div.sk-label label {font-family: monospace;font-weight: bold;display: inline-block;line-height: 1.2em;}#sk-container-id-2 div.sk-label-container {text-align: center;}#sk-container-id-2 div.sk-container {/* jupyter's `normalize.less` sets `[hidden] { display: none; }` but bootstrap.min.css set `[hidden] { display: none !important; }` so we also need the `!important` here to be able to override the default hidden behavior on the sphinx rendered scikit-learn.org. See: https://github.com/scikit-learn/scikit-learn/issues/21755 */display: inline-block !important;position: relative;}#sk-container-id-2 div.sk-text-repr-fallback {display: none;}</style><div id=\"sk-container-id-2\" class=\"sk-top-container\"><div class=\"sk-text-repr-fallback\"><pre>LogisticRegression()</pre><b>In a Jupyter environment, please rerun this cell to show the HTML representation or trust the notebook. <br />On GitHub, the HTML representation is unable to render, please try loading this page with nbviewer.org.</b></div><div class=\"sk-container\" hidden><div class=\"sk-item\"><div class=\"sk-estimator sk-toggleable\"><input class=\"sk-toggleable__control sk-hidden--visually\" id=\"sk-estimator-id-2\" type=\"checkbox\" checked><label for=\"sk-estimator-id-2\" class=\"sk-toggleable__label sk-toggleable__label-arrow\">LogisticRegression</label><div class=\"sk-toggleable__content\"><pre>LogisticRegression()</pre></div></div></div></div></div>"
      ],
      "text/plain": [
       "LogisticRegression()"
      ]
     },
     "execution_count": 12,
     "metadata": {},
     "output_type": "execute_result"
    }
   ],
   "source": [
    "# Initialize the logistic regression model\n",
    "model_new = LogisticRegression()\n",
    "\n",
    "# Fit the model to the training data\n",
    "model_new.fit(X_resampled_scaledN, y_resampled.values.ravel())"
   ]
  },
  {
   "cell_type": "code",
   "execution_count": 13,
   "id": "e37b7c4b-274b-4306-b72c-d9929dcd34d3",
   "metadata": {},
   "outputs": [
    {
     "name": "stdout",
     "output_type": "stream",
     "text": [
      "LG (Normalized) Accuracy: 94.69%\n",
      "\n",
      "LG (Normalized) Classification Report:\n",
      "              precision    recall  f1-score   support\n",
      "\n",
      "           0       1.00      0.95      0.97    553574\n",
      "           1       0.05      0.75      0.10      2145\n",
      "\n",
      "    accuracy                           0.95    555719\n",
      "   macro avg       0.53      0.85      0.54    555719\n",
      "weighted avg       1.00      0.95      0.97    555719\n",
      "\n",
      "\n",
      "LG (Normalized) Confusion Matrix:\n",
      "[[524619  28955]\n",
      " [   538   1607]]\n"
     ]
    }
   ],
   "source": [
    "# Make predictions on the test data\n",
    "y_pred = model_new.predict(X_test_scaledN)\n",
    "\n",
    "# Evaluate the model\n",
    "accuracy = accuracy_score(y_test, y_pred)\n",
    "print(f\"LG (Normalized) Accuracy: {accuracy*100:.2f}%\")\n",
    "\n",
    "# Generate classification report\n",
    "print(\"\\nLG (Normalized) Classification Report:\")\n",
    "print(classification_report(y_test, y_pred))\n",
    "\n",
    "# Generate confusion matrix\n",
    "print(\"\\nLG (Normalized) Confusion Matrix:\")\n",
    "print(confusion_matrix(y_test, y_pred))"
   ]
  },
  {
   "cell_type": "code",
   "execution_count": 14,
   "id": "f81ce1b8-9a18-42c0-a242-d4fd896f041e",
   "metadata": {},
   "outputs": [
    {
     "name": "stdout",
     "output_type": "stream",
     "text": [
      "Logistic regression with Normalization execution completed in 0.23 minutes.\n"
     ]
    }
   ],
   "source": [
    "end_time = time.time()\n",
    "\n",
    "execution_time = (end_time - start_time)/60\n",
    "\n",
    "print(f\"Logistic regression with Normalization execution completed in {execution_time:.2f} minutes.\")"
   ]
  },
  {
   "cell_type": "markdown",
   "id": "daaae75b-a30d-4883-9ded-3ae2b2c79537",
   "metadata": {},
   "source": [
    "---\n",
    "## 2) Decision Trees"
   ]
  },
  {
   "cell_type": "markdown",
   "id": "32003826-28b8-4021-af61-a0cbb9d4ba10",
   "metadata": {},
   "source": [
    "#### A predictive model that uses a tree-like structure of decisions and their possible consequences."
   ]
  },
  {
   "cell_type": "code",
   "execution_count": 15,
   "id": "61b8fe78-36bf-4bb7-9f5a-8e7a66b9c150",
   "metadata": {},
   "outputs": [],
   "source": [
    "# Initialize the Decision Tree model\n",
    "model_DT = DecisionTreeClassifier()"
   ]
  },
  {
   "cell_type": "code",
   "execution_count": 16,
   "id": "fa70e3b5-0870-481b-b2bf-5f077b3b1613",
   "metadata": {},
   "outputs": [],
   "source": [
    "# Start the timer\n",
    "start_time = time.time()"
   ]
  },
  {
   "cell_type": "code",
   "execution_count": 17,
   "id": "f8358e61-3289-4ede-9650-7bcd7280f7a9",
   "metadata": {},
   "outputs": [],
   "source": [
    "# Fit the model to the training data\n",
    "model_DT.fit(X_resampled, y_resampled.values.ravel())\n",
    "\n",
    "# Make predictions on the test data\n",
    "y_pred = model_DT.predict(X_test)"
   ]
  },
  {
   "cell_type": "code",
   "execution_count": 18,
   "id": "3824968f-09e4-492c-aa73-2df731474f32",
   "metadata": {},
   "outputs": [
    {
     "name": "stdout",
     "output_type": "stream",
     "text": [
      "DT Accuracy: 0.9849888162902474\n",
      "\n",
      "DT Classification Report:\n",
      "              precision    recall  f1-score   support\n",
      "\n",
      "           0       1.00      0.99      0.99    553574\n",
      "           1       0.17      0.74      0.27      2145\n",
      "\n",
      "    accuracy                           0.98    555719\n",
      "   macro avg       0.58      0.86      0.63    555719\n",
      "weighted avg       1.00      0.98      0.99    555719\n",
      "\n",
      "\n",
      "DT Confusion Matrix:\n",
      "[[545798   7776]\n",
      " [   566   1579]]\n"
     ]
    }
   ],
   "source": [
    "# Evaluate the model\n",
    "accuracy = accuracy_score(y_test, y_pred)\n",
    "print(\"DT Accuracy:\", accuracy)\n",
    "\n",
    "# Generate classification report\n",
    "print(\"\\nDT Classification Report:\")\n",
    "print(classification_report(y_test, y_pred))\n",
    "\n",
    "# Generate confusion matrix\n",
    "print(\"\\nDT Confusion Matrix:\")\n",
    "print(confusion_matrix(y_test, y_pred))"
   ]
  },
  {
   "cell_type": "code",
   "execution_count": 19,
   "id": "c429112c-f601-4792-876e-ba15a2b5fdf8",
   "metadata": {},
   "outputs": [
    {
     "name": "stdout",
     "output_type": "stream",
     "text": [
      "DT execution completed in 2.19 minutes.\n"
     ]
    }
   ],
   "source": [
    "end_time = time.time()\n",
    "\n",
    "execution_time = (end_time - start_time)/60\n",
    "\n",
    "print(f\"DT execution completed in {execution_time:.2f} minutes.\")"
   ]
  },
  {
   "cell_type": "markdown",
   "id": "2d0f7f5a-426a-4082-bee0-8db53cc8b0cc",
   "metadata": {},
   "source": [
    "---\n",
    "## 3) Random Forest"
   ]
  },
  {
   "cell_type": "markdown",
   "id": "a54e8b7b-58a9-4f5e-b57f-e741c9bef9a5",
   "metadata": {},
   "source": [
    "#### An ensemble learning method that uses multiple decision trees to improve predictive performance and control overfitting."
   ]
  },
  {
   "cell_type": "code",
   "execution_count": 20,
   "id": "5f902bab-7195-4159-a3e2-b6cfa95d5b4f",
   "metadata": {},
   "outputs": [],
   "source": [
    "# Initialize the Random Forest model\n",
    "rf_model = RandomForestClassifier(n_estimators=100, random_state=42)"
   ]
  },
  {
   "cell_type": "code",
   "execution_count": 21,
   "id": "a0ca62e3-f2c7-43e4-a251-8b893e46c370",
   "metadata": {},
   "outputs": [],
   "source": [
    "# Start the timer\n",
    "start_time = time.time()"
   ]
  },
  {
   "cell_type": "code",
   "execution_count": 22,
   "id": "133bbdee-abc8-4637-82d4-31003e1b3c5b",
   "metadata": {},
   "outputs": [],
   "source": [
    "# Fit the model to the training data\n",
    "rf_model.fit(X_resampled, y_resampled.values.ravel())\n",
    "\n",
    "# Make predictions on the test data\n",
    "y_pred_rf = rf_model.predict(X_test)"
   ]
  },
  {
   "cell_type": "code",
   "execution_count": 23,
   "id": "3c30b7bc-551e-4a8d-8c0b-22f48476e817",
   "metadata": {},
   "outputs": [
    {
     "name": "stdout",
     "output_type": "stream",
     "text": [
      "Accuracy of Random Forest: 0.9935452989730421\n",
      "\n",
      "Classification Report for Random Forest:\n",
      "              precision    recall  f1-score   support\n",
      "\n",
      "           0       1.00      0.99      1.00    553574\n",
      "           1       0.34      0.74      0.47      2145\n",
      "\n",
      "    accuracy                           0.99    555719\n",
      "   macro avg       0.67      0.87      0.73    555719\n",
      "weighted avg       1.00      0.99      0.99    555719\n",
      "\n",
      "\n",
      "Confusion Matrix for Random Forest:\n",
      "[[550550   3024]\n",
      " [   563   1582]]\n"
     ]
    }
   ],
   "source": [
    "# Evaluate the model\n",
    "accuracy_rf = accuracy_score(y_test, y_pred_rf)\n",
    "print(\"Accuracy of Random Forest:\", accuracy_rf)\n",
    "\n",
    "# Generate classification report\n",
    "print(\"\\nClassification Report for Random Forest:\")\n",
    "print(classification_report(y_test, y_pred_rf))\n",
    "\n",
    "# Generate confusion matrix\n",
    "print(\"\\nConfusion Matrix for Random Forest:\")\n",
    "print(confusion_matrix(y_test, y_pred_rf))"
   ]
  },
  {
   "cell_type": "code",
   "execution_count": 24,
   "id": "d7ec8d60-750d-4ad4-a229-920b3b93b751",
   "metadata": {},
   "outputs": [
    {
     "name": "stdout",
     "output_type": "stream",
     "text": [
      "Random Forest execution completed in 28.43 minutes\n"
     ]
    }
   ],
   "source": [
    "end_time = time.time()\n",
    "\n",
    "execution_time = (end_time - start_time)/60\n",
    "\n",
    "print(f\"Random Forest execution completed in {execution_time:.2f} minutes\")"
   ]
  },
  {
   "cell_type": "markdown",
   "id": "9d30b8c6-e220-42ac-b916-7b4002748f47",
   "metadata": {},
   "source": [
    "---\n",
    "## 4) Gradient Boosting Machines (GBM)"
   ]
  },
  {
   "cell_type": "markdown",
   "id": "06ed74f4-efd7-4a08-a927-37271b7ecb67",
   "metadata": {},
   "source": [
    "#### An ensemble technique that builds models sequentially, each one correcting errors of the previous one, to improve accuracy."
   ]
  },
  {
   "cell_type": "code",
   "execution_count": 25,
   "id": "81db50a8-18f3-4ce1-8105-c2c4705e74df",
   "metadata": {},
   "outputs": [],
   "source": [
    "# Initialize the Gradient Boosting Classifier\n",
    "gbm_model = GradientBoostingClassifier()"
   ]
  },
  {
   "cell_type": "code",
   "execution_count": 26,
   "id": "c26e9c21-c91e-4a99-b650-505866c68f8b",
   "metadata": {},
   "outputs": [],
   "source": [
    "# Start the timer\n",
    "start_time = time.time()"
   ]
  },
  {
   "cell_type": "code",
   "execution_count": 27,
   "id": "a5e4a724-0274-4c3d-969c-e28a4c6743a1",
   "metadata": {},
   "outputs": [],
   "source": [
    "# Fit the model to the training data\n",
    "gbm_model.fit(X_resampled, y_resampled.values.ravel())\n",
    "\n",
    "# Make predictions on the test data\n",
    "y_pred = gbm_model.predict(X_test)"
   ]
  },
  {
   "cell_type": "code",
   "execution_count": 28,
   "id": "5d9c0329-c3f6-4855-a0f5-01c8f283953d",
   "metadata": {},
   "outputs": [
    {
     "name": "stdout",
     "output_type": "stream",
     "text": [
      "GBM Accuracy: 0.9504713713225569\n",
      "\n",
      "GBM Classification Report:\n",
      "              precision    recall  f1-score   support\n",
      "\n",
      "           0       1.00      0.95      0.97    553574\n",
      "           1       0.07      0.88      0.12      2145\n",
      "\n",
      "    accuracy                           0.95    555719\n",
      "   macro avg       0.53      0.92      0.55    555719\n",
      "weighted avg       1.00      0.95      0.97    555719\n",
      "\n",
      "\n",
      "GBM Confusion Matrix:\n",
      "[[526297  27277]\n",
      " [   247   1898]]\n"
     ]
    }
   ],
   "source": [
    "# Evaluate the model\n",
    "accuracy = accuracy_score(y_test, y_pred)\n",
    "print(\"GBM Accuracy:\", accuracy)\n",
    "\n",
    "# Generate classification report\n",
    "print(\"\\nGBM Classification Report:\")\n",
    "print(classification_report(y_test, y_pred))\n",
    "\n",
    "# Generate confusion matrix\n",
    "print(\"\\nGBM Confusion Matrix:\")\n",
    "print(confusion_matrix(y_test, y_pred))"
   ]
  },
  {
   "cell_type": "code",
   "execution_count": 29,
   "id": "f5cd4ab3-84f2-47ca-9bd1-ebf0fd0d49c5",
   "metadata": {},
   "outputs": [
    {
     "name": "stdout",
     "output_type": "stream",
     "text": [
      "GBM execution completed in 18.77 minutes.\n"
     ]
    }
   ],
   "source": [
    "end_time = time.time()\n",
    "\n",
    "execution_time = (end_time - start_time)/60\n",
    "\n",
    "print(f\"GBM execution completed in {execution_time:.2f} minutes.\")"
   ]
  },
  {
   "cell_type": "markdown",
   "id": "f1686698-c492-4b60-a1ae-8bfd9dfb424c",
   "metadata": {},
   "source": [
    "---\n",
    "## 5) XGBoost Classifier"
   ]
  },
  {
   "cell_type": "markdown",
   "id": "db2b7f3f-e2f6-41d9-83c6-90d13cb09c3e",
   "metadata": {},
   "source": [
    "#### - An optimized gradient boosting library designed for speed and performance, widely used for structured or tabular data."
   ]
  },
  {
   "cell_type": "code",
   "execution_count": 30,
   "id": "aac36f16-24be-4b98-8dcc-0532ef0f0b6e",
   "metadata": {},
   "outputs": [],
   "source": [
    "# Initialize the XGBoost classifier\n",
    "xgb_model = XGBClassifier(use_label_encoder=False, eval_metric='logloss')"
   ]
  },
  {
   "cell_type": "code",
   "execution_count": 31,
   "id": "27530c4c-32ae-47da-834e-0987e50cdbef",
   "metadata": {},
   "outputs": [],
   "source": [
    "# Start the timer\n",
    "start_time = time.time()"
   ]
  },
  {
   "cell_type": "code",
   "execution_count": 32,
   "id": "a90c5e70-d4f2-4649-9b26-52c344ac99ff",
   "metadata": {},
   "outputs": [],
   "source": [
    "# Fit the model to the training data\n",
    "xgb_model.fit(X_resampled, y_resampled)\n",
    "\n",
    "# Make predictions on the test data\n",
    "y_pred = xgb_model.predict(X_test)"
   ]
  },
  {
   "cell_type": "code",
   "execution_count": 33,
   "id": "c23acd2b-1a2e-477a-8465-20f8174fc561",
   "metadata": {},
   "outputs": [
    {
     "name": "stdout",
     "output_type": "stream",
     "text": [
      "XGBoost Accuracy: 0.9803227890354658\n",
      "\n",
      "XGBoost Classification Report:\n",
      "              precision    recall  f1-score   support\n",
      "\n",
      "           0       1.00      0.98      0.99    553574\n",
      "           1       0.14      0.81      0.24      2145\n",
      "\n",
      "    accuracy                           0.98    555719\n",
      "   macro avg       0.57      0.90      0.62    555719\n",
      "weighted avg       1.00      0.98      0.99    555719\n",
      "\n",
      "\n",
      "XGBoost Confusion Matrix:\n",
      "[[543046  10528]\n",
      " [   407   1738]]\n"
     ]
    }
   ],
   "source": [
    "# Evaluate the model\n",
    "accuracy = accuracy_score(y_test, y_pred)\n",
    "print(\"XGBoost Accuracy:\", accuracy)\n",
    "\n",
    "# Generate classification report\n",
    "print(\"\\nXGBoost Classification Report:\")\n",
    "print(classification_report(y_test, y_pred))\n",
    "\n",
    "# Generate confusion matrix\n",
    "print(\"\\nXGBoost Confusion Matrix:\")\n",
    "print(confusion_matrix(y_test, y_pred))"
   ]
  },
  {
   "cell_type": "code",
   "execution_count": 34,
   "id": "04282f55-bf89-483d-af6a-867d6d010eef",
   "metadata": {},
   "outputs": [
    {
     "name": "stdout",
     "output_type": "stream",
     "text": [
      "XGBoost execution completed in 0.19 minutes.\n"
     ]
    }
   ],
   "source": [
    "end_time = time.time()\n",
    "\n",
    "execution_time = (end_time - start_time)/60\n",
    "\n",
    "print(f\"XGBoost execution completed in {execution_time:.2f} minutes.\")"
   ]
  }
 ],
 "metadata": {
  "kernelspec": {
   "display_name": "Python 3 (ipykernel)",
   "language": "python",
   "name": "python3"
  },
  "language_info": {
   "codemirror_mode": {
    "name": "ipython",
    "version": 3
   },
   "file_extension": ".py",
   "mimetype": "text/x-python",
   "name": "python",
   "nbconvert_exporter": "python",
   "pygments_lexer": "ipython3",
   "version": "3.11.9"
  }
 },
 "nbformat": 4,
 "nbformat_minor": 5
}
