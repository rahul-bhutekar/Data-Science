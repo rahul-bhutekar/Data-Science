{
 "cells": [
  {
   "cell_type": "code",
   "execution_count": 1,
   "id": "af470a51-c5e3-4a0c-b20c-3e84a99a24ae",
   "metadata": {},
   "outputs": [],
   "source": [
    "# necessary libraries\n",
    "import pandas as pd\n",
    "import time\n",
    "from sklearn.preprocessing import StandardScaler, MinMaxScaler\n",
    "\n",
    "# evaluation matrices\n",
    "from sklearn.metrics import accuracy_score, classification_report, confusion_matrix\n",
    "\n",
    "# machine learning models\n",
    "from sklearn.model_selection import GridSearchCV\n",
    "# from sklearn.linear_model import LogisticRegression\n",
    "from sklearn.tree import DecisionTreeClassifier\n",
    "from sklearn.ensemble import RandomForestClassifier, GradientBoostingClassifier\n",
    "import xgboost as xgb\n",
    "\n",
    "import cudf as df\n",
    "from cuml.linear_model import LogisticRegression\n",
    "\n",
    "# import tensorflow as tf"
   ]
  },
  {
   "cell_type": "code",
   "execution_count": 2,
   "id": "f35b3268-5edb-44e9-8699-83fd6a6abec0",
   "metadata": {},
   "outputs": [],
   "source": [
    "# Load the datasets\n",
    "X_resampled = pd.read_csv(\"X_resampled.csv\")\n",
    "y_resampled = pd.read_csv(\"y_resampled.csv\")\n",
    "X_test = pd.read_csv(\"X_test.csv\")\n",
    "y_test = pd.read_csv(\"y_test.csv\")"
   ]
  },
  {
   "cell_type": "code",
   "execution_count": 3,
   "id": "4fd49b44-4c7c-4f3f-b7a9-7ac05965387e",
   "metadata": {},
   "outputs": [
    {
     "name": "stdout",
     "output_type": "stream",
     "text": [
      "Shape of X_resampled: (2461812, 8)\n",
      "Shape of y_resampled: (2461812, 1)\n",
      "Shape of X_test: (555719, 8)\n",
      "Shape of y_test: (555719, 1)\n"
     ]
    }
   ],
   "source": [
    "# Check the shape of the datasets\n",
    "print(\"Shape of X_resampled:\", X_resampled.shape)\n",
    "print(\"Shape of y_resampled:\", y_resampled.shape)\n",
    "print(\"Shape of X_test:\", X_test.shape)\n",
    "print(\"Shape of y_test:\", y_test.shape)"
   ]
  },
  {
   "cell_type": "markdown",
   "id": "bbd01d03-5661-411b-8ade-7640121bfc52",
   "metadata": {},
   "source": [
    "#### Standardization - The process of transforming data features to have a mean of zero and a standard deviation of one"
   ]
  },
  {
   "cell_type": "code",
   "execution_count": 4,
   "id": "b6ecccd6-0278-4238-a827-e7ffedb5d434",
   "metadata": {},
   "outputs": [],
   "source": [
    "scaler = StandardScaler()\n",
    "X_resampled_scaled = scaler.fit_transform(X_resampled)\n",
    "X_test_scaled = scaler.transform(X_test)"
   ]
  },
  {
   "cell_type": "code",
   "execution_count": 5,
   "id": "7af3d839-e641-40cb-ac79-26f75948e730",
   "metadata": {},
   "outputs": [
    {
     "data": {
      "text/html": [
       "<div>\n",
       "<style scoped>\n",
       "    .dataframe tbody tr th:only-of-type {\n",
       "        vertical-align: middle;\n",
       "    }\n",
       "\n",
       "    .dataframe tbody tr th {\n",
       "        vertical-align: top;\n",
       "    }\n",
       "\n",
       "    .dataframe thead th {\n",
       "        text-align: right;\n",
       "    }\n",
       "</style>\n",
       "<table border=\"1\" class=\"dataframe\">\n",
       "  <thead>\n",
       "    <tr style=\"text-align: right;\">\n",
       "      <th></th>\n",
       "      <th>is_fraud</th>\n",
       "    </tr>\n",
       "  </thead>\n",
       "  <tbody>\n",
       "    <tr>\n",
       "      <th>0</th>\n",
       "      <td>0</td>\n",
       "    </tr>\n",
       "    <tr>\n",
       "      <th>1</th>\n",
       "      <td>0</td>\n",
       "    </tr>\n",
       "    <tr>\n",
       "      <th>2</th>\n",
       "      <td>0</td>\n",
       "    </tr>\n",
       "    <tr>\n",
       "      <th>3</th>\n",
       "      <td>0</td>\n",
       "    </tr>\n",
       "    <tr>\n",
       "      <th>4</th>\n",
       "      <td>0</td>\n",
       "    </tr>\n",
       "    <tr>\n",
       "      <th>...</th>\n",
       "      <td>...</td>\n",
       "    </tr>\n",
       "    <tr>\n",
       "      <th>2461807</th>\n",
       "      <td>1</td>\n",
       "    </tr>\n",
       "    <tr>\n",
       "      <th>2461808</th>\n",
       "      <td>1</td>\n",
       "    </tr>\n",
       "    <tr>\n",
       "      <th>2461809</th>\n",
       "      <td>1</td>\n",
       "    </tr>\n",
       "    <tr>\n",
       "      <th>2461810</th>\n",
       "      <td>1</td>\n",
       "    </tr>\n",
       "    <tr>\n",
       "      <th>2461811</th>\n",
       "      <td>1</td>\n",
       "    </tr>\n",
       "  </tbody>\n",
       "</table>\n",
       "<p>2461812 rows × 1 columns</p>\n",
       "</div>"
      ],
      "text/plain": [
       "         is_fraud\n",
       "0               0\n",
       "1               0\n",
       "2               0\n",
       "3               0\n",
       "4               0\n",
       "...           ...\n",
       "2461807         1\n",
       "2461808         1\n",
       "2461809         1\n",
       "2461810         1\n",
       "2461811         1\n",
       "\n",
       "[2461812 rows x 1 columns]"
      ]
     },
     "execution_count": 5,
     "metadata": {},
     "output_type": "execute_result"
    }
   ],
   "source": [
    "y_resampled"
   ]
  },
  {
   "cell_type": "markdown",
   "id": "5928c156-bd6a-492c-837f-9bedade29eac",
   "metadata": {},
   "source": [
    "#### Normalization - Scaling individual data features to a specific range, typically [0, 1] or [-1, 1], to ensure uniformity"
   ]
  },
  {
   "cell_type": "code",
   "execution_count": 6,
   "id": "c8073956-8845-419f-b735-db9c8a93c825",
   "metadata": {},
   "outputs": [],
   "source": [
    "scaler = MinMaxScaler()\n",
    "X_resampled_scaledN = scaler.fit_transform(X_resampled)\n",
    "X_test_scaledN = scaler.transform(X_test)"
   ]
  },
  {
   "cell_type": "markdown",
   "id": "aeac7e21-5479-423b-9cbb-82096fdd7fe9",
   "metadata": {},
   "source": [
    "---\n",
    "## 1) Logistic Regression (LG)"
   ]
  },
  {
   "cell_type": "code",
   "execution_count": 7,
   "id": "2ce4eb73-b5a9-4670-b714-2b3adda7ea90",
   "metadata": {},
   "outputs": [],
   "source": [
    "# Define hyperparameter grids\n",
    "param_grid_lr = {\n",
    "    'C': [0.001, 0.01, 0.1, 1, 10, 100],\n",
    "    'penalty': ['l2'],\n",
    "    # 'solver': ['liblinear', 'saga']\n",
    "    # 'solver': ['qn']\n",
    "}"
   ]
  },
  {
   "cell_type": "markdown",
   "id": "19008eca-ad99-432f-9fa6-3cce557bbf15",
   "metadata": {},
   "source": [
    "#### a) LG with standardize data"
   ]
  },
  {
   "cell_type": "code",
   "execution_count": 8,
   "id": "f977a725-a846-43a8-92f0-8da6bf66917f",
   "metadata": {},
   "outputs": [],
   "source": [
    "# Start the timer\n",
    "start_time = time.time()"
   ]
  },
  {
   "cell_type": "code",
   "execution_count": null,
   "id": "63d25133-065b-4c69-82cb-359e363fd266",
   "metadata": {},
   "outputs": [
    {
     "name": "stdout",
     "output_type": "stream",
     "text": [
      "Fitting 3 folds for each of 6 candidates, totalling 18 fits\n"
     ]
    }
   ],
   "source": [
    "grid_search_lr_scaled = GridSearchCV(estimator=LogisticRegression(), param_grid=param_grid_lr, cv=3, scoring='accuracy', verbose=2, n_jobs=-1)\n",
    "grid_search_lr_scaled.fit(X_resampled_scaled, y_resampled.values.ravel())\n",
    "best_params_lr_scaled = grid_search_lr_scaled.best_params_\n",
    "best_score_lr_scaled = grid_search_lr_scaled.best_score_\n",
    "\n",
    "print(\"Best parameters for Logistic Regression with Standardized data: \", best_params_lr_scaled)\n",
    "print(\"Best score for Logistic Regression with Standardized data: \", best_score_lr_scaled)"
   ]
  },
  {
   "cell_type": "code",
   "execution_count": null,
   "id": "f274e431-ff64-4736-89de-05936cba9819",
   "metadata": {},
   "outputs": [],
   "source": [
    "end_time = time.time()\n",
    "\n",
    "execution_time = (end_time - start_time)/60\n",
    "\n",
    "print(f\"Hyperparameter tuning for Logistic regression with Standardization execution completed in {execution_time:.2f} minutes.\")"
   ]
  },
  {
   "cell_type": "markdown",
   "id": "67b6c057-2cff-4736-a77d-9175bb923c6f",
   "metadata": {},
   "source": [
    "#### b) LG with normalized data"
   ]
  },
  {
   "cell_type": "code",
   "execution_count": null,
   "id": "d0d36118-def9-4fe6-8617-20c9fa483988",
   "metadata": {},
   "outputs": [],
   "source": [
    "# Start the timer\n",
    "start_time = time.time()"
   ]
  },
  {
   "cell_type": "code",
   "execution_count": null,
   "id": "f4574ae1-e66f-4bc5-b84b-57b1448eceb8",
   "metadata": {},
   "outputs": [],
   "source": [
    "grid_search_lr_normalized = GridSearchCV(estimator=LogisticRegression(), param_grid=param_grid_lr, cv=3, scoring='accuracy', verbose=2, n_jobs=-1)\n",
    "grid_search_lr_normalized.fit(X_resampled_scaledN, y_resampled.values.ravel())\n",
    "best_params_lr_normalized = grid_search_lr_normalized.best_params_\n",
    "best_score_lr_normalized = grid_search_lr_normalized.best_score_\n",
    "\n",
    "print(\"Best parameters for Logistic Regression with Normalized data: \", best_params_lr_normalized)\n",
    "print(\"Best score for Logistic Regression with Normalized data: \", best_score_lr_normalized)"
   ]
  },
  {
   "cell_type": "code",
   "execution_count": null,
   "id": "a28df62a-c2a8-4c7c-bf3c-56255212ddd7",
   "metadata": {},
   "outputs": [],
   "source": [
    "end_time = time.time()\n",
    "\n",
    "execution_time = (end_time - start_time)/60\n",
    "\n",
    "print(f\"Hyperparameter tuning for Logistic regression with Normalized execution completed in {execution_time:.2f} minutes.\")"
   ]
  },
  {
   "cell_type": "code",
   "execution_count": null,
   "id": "20a995ec-16ec-456a-ae07-f11b6d63d39e",
   "metadata": {},
   "outputs": [],
   "source": [
    "# Evaluate Logistic Regression (Standardized)\n",
    "best_lr_scaled = grid_search_lr_scaled.best_estimator_\n",
    "y_pred_lr_scaled = best_lr_scaled.predict(X_test_scaled)\n",
    "\n",
    "print(\"Logistic Regression (Standardized) Accuracy: \", accuracy_score(y_test, y_pred_lr_scaled))\n",
    "print(\"Logistic Regression (Standardized) Classification Report:\\n\", classification_report(y_test, y_pred_lr_scaled))\n",
    "print(\"Logistic Regression (Standardized) Confusion Matrix:\\n\", confusion_matrix(y_test, y_pred_lr_scaled))"
   ]
  },
  {
   "cell_type": "code",
   "execution_count": null,
   "id": "72ef1d9f-57d3-44d0-9434-197bd6884198",
   "metadata": {},
   "outputs": [],
   "source": [
    "# Evaluate Logistic Regression (Normalized)\n",
    "best_lr_normalized = grid_search_lr_normalized.best_estimator_\n",
    "y_pred_lr_normalized = best_lr_normalized.predict(X_test_scaledN)\n",
    "\n",
    "print(\"Logistic Regression (Normalized) Accuracy: \", accuracy_score(y_test, y_pred_lr_normalized))\n",
    "print(\"Logistic Regression (Normalized) Classification Report:\\n\", classification_report(y_test, y_pred_lr_normalized))\n",
    "print(\"Logistic Regression (Normalized) Confusion Matrix:\\n\", confusion_matrix(y_test, y_pred_lr_normalized))"
   ]
  },
  {
   "cell_type": "markdown",
   "id": "dda01c2e-4d4d-4402-a4d1-a78e1b1208d6",
   "metadata": {},
   "source": [
    "---\n",
    "## 2) Decision Trees"
   ]
  },
  {
   "cell_type": "code",
   "execution_count": 4,
   "id": "f533f18d-5fbd-4505-8689-291d8b40d173",
   "metadata": {},
   "outputs": [],
   "source": [
    "param_grid_dt = {\n",
    "    'max_depth': [5, 10, 20, 50, None],\n",
    "    'min_samples_split': [2, 10, 20],\n",
    "    'min_samples_leaf': [1, 5, 10],\n",
    "    'max_features': [None, 'sqrt', 'log2'],\n",
    "    'criterion': ['gini', 'entropy']\n",
    "}"
   ]
  },
  {
   "cell_type": "code",
   "execution_count": 11,
   "id": "290b438c-e7da-4635-a3d3-4b8a39d849d8",
   "metadata": {},
   "outputs": [],
   "source": [
    "# Start the timer\n",
    "start_time = time.time()"
   ]
  },
  {
   "cell_type": "code",
   "execution_count": 12,
   "id": "6d7acdce-674b-4808-aebc-a68a9e7385a0",
   "metadata": {},
   "outputs": [
    {
     "name": "stdout",
     "output_type": "stream",
     "text": [
      "Fitting 3 folds for each of 270 candidates, totalling 810 fits\n",
      "Best parameters for Decision Tree:  {'criterion': 'entropy', 'max_depth': 50, 'max_features': 'sqrt', 'min_samples_leaf': 1, 'min_samples_split': 2}\n",
      "Best score for Decision Tree:  0.9918722469465582\n"
     ]
    }
   ],
   "source": [
    "# with tf.device('/GPU:0'):\n",
    "grid_search_dt = GridSearchCV(estimator=DecisionTreeClassifier(), param_grid=param_grid_dt, cv=3, scoring='accuracy', verbose=2, n_jobs=-1)\n",
    "grid_search_dt.fit(X_resampled, y_resampled.values.ravel())\n",
    "best_params_dt = grid_search_dt.best_params_\n",
    "best_score_dt = grid_search_dt.best_score_\n",
    "\n",
    "print(\"Best parameters for Decision Tree: \", best_params_dt)\n",
    "print(\"Best score for Decision Tree: \", best_score_dt)"
   ]
  },
  {
   "cell_type": "code",
   "execution_count": 13,
   "id": "cddcca63-40db-4a8f-ab39-95a03f2a08f1",
   "metadata": {},
   "outputs": [
    {
     "name": "stdout",
     "output_type": "stream",
     "text": [
      "Hyperparameter tuning for Decision Tree execution completed in 13.84 minutes.\n"
     ]
    }
   ],
   "source": [
    "end_time = time.time()\n",
    "\n",
    "execution_time = (end_time - start_time)/60\n",
    "\n",
    "print(f\"Hyperparameter tuning for Decision Tree execution completed in {execution_time:.2f} minutes.\")"
   ]
  },
  {
   "cell_type": "code",
   "execution_count": 14,
   "id": "5703c03a-cf95-4ef1-8c19-f9ce74b3debb",
   "metadata": {},
   "outputs": [
    {
     "name": "stdout",
     "output_type": "stream",
     "text": [
      "Decision Tree Accuracy:  0.9078005250855199\n",
      "Decision Tree Classification Report:\n",
      "               precision    recall  f1-score   support\n",
      "\n",
      "           0       1.00      0.91      0.95    553574\n",
      "           1       0.03      0.65      0.05      2145\n",
      "\n",
      "    accuracy                           0.91    555719\n",
      "   macro avg       0.51      0.78      0.50    555719\n",
      "weighted avg       0.99      0.91      0.95    555719\n",
      "\n",
      "Decision Tree Confusion Matrix:\n",
      " [[503094  50480]\n",
      " [   757   1388]]\n"
     ]
    }
   ],
   "source": [
    "# Evaluate Decision Tree\n",
    "best_dt = grid_search_dt.best_estimator_\n",
    "y_pred_dt = best_dt.predict(X_test)\n",
    "\n",
    "print(\"Decision Tree Accuracy: \", accuracy_score(y_test, y_pred_dt))\n",
    "print(\"Decision Tree Classification Report:\\n\", classification_report(y_test, y_pred_dt))\n",
    "print(\"Decision Tree Confusion Matrix:\\n\", confusion_matrix(y_test, y_pred_dt))"
   ]
  },
  {
   "cell_type": "markdown",
   "id": "85f0bb32-8995-46ac-be3c-e7225eb89ca9",
   "metadata": {},
   "source": [
    "---\n",
    "## 3) Random Forest"
   ]
  },
  {
   "cell_type": "code",
   "execution_count": 10,
   "id": "ce2300e7-c88e-4b8e-bf23-8dff37fd3ed5",
   "metadata": {},
   "outputs": [],
   "source": [
    "param_grid_rf = {\n",
    "    'n_estimators': [100, 200, 500],\n",
    "    'max_depth': [5, 10, 20, 50, None],\n",
    "    'min_samples_split': [2, 10, 20],\n",
    "    'min_samples_leaf': [1, 5, 10],\n",
    "    'max_features': [None, 'sqrt', 'log2'],\n",
    "    'bootstrap': [True, False],\n",
    "    'criterion': ['gini', 'entropy']\n",
    "}"
   ]
  },
  {
   "cell_type": "code",
   "execution_count": 11,
   "id": "16289fbc-fb78-4cd9-88be-5bf79b616a63",
   "metadata": {},
   "outputs": [],
   "source": [
    "# Start the timer\n",
    "start_time = time.time()"
   ]
  },
  {
   "cell_type": "code",
   "execution_count": null,
   "id": "67962a02-d73b-4182-af71-67676bb116b6",
   "metadata": {},
   "outputs": [
    {
     "name": "stdout",
     "output_type": "stream",
     "text": [
      "Fitting 3 folds for each of 1620 candidates, totalling 4860 fits\n"
     ]
    }
   ],
   "source": [
    "# import tensorflow as tf\n",
    "\n",
    "with tf.device('/CPU:0'):\n",
    "    grid_search_rf = GridSearchCV(estimator=RandomForestClassifier(), param_grid=param_grid_rf, cv=3, scoring='accuracy', verbose=2, n_jobs=-1)\n",
    "    grid_search_rf.fit(X_resampled, y_resampled.values.ravel())\n",
    "    best_params_rf = grid_search_rf.best_params_\n",
    "    best_score_rf = grid_search_rf.best_score_\n",
    "    \n",
    "    print(\"Best parameters for Random Forest: \", best_params_rf)\n",
    "    print(\"Best score for Random Forest: \", best_score_rf)"
   ]
  },
  {
   "cell_type": "code",
   "execution_count": null,
   "id": "ca3b4675-acf0-4ef1-ac06-d06dbddf8091",
   "metadata": {},
   "outputs": [],
   "source": [
    "end_time = time.time()\n",
    "\n",
    "execution_time = (end_time - start_time)/60\n",
    "\n",
    "print(f\"Hyperparameter tuning for Random Forest execution completed in {execution_time:.2f} minutes.\")"
   ]
  },
  {
   "cell_type": "code",
   "execution_count": null,
   "id": "72d7b0f7-da8f-4d2f-ac16-eb867b37f0d8",
   "metadata": {},
   "outputs": [],
   "source": [
    "# Evaluate Random Forest\n",
    "best_rf = grid_search_rf.best_estimator_\n",
    "y_pred_rf = best_rf.predict(X_test)\n",
    "\n",
    "print(\"Random Forest Accuracy: \", accuracy_score(y_test, y_pred_rf))\n",
    "print(\"Random Forest Classification Report:\\n\", classification_report(y_test, y_pred_rf))\n",
    "print(\"Random Forest Confusion Matrix:\\n\", confusion_matrix(y_test, y_pred_rf))"
   ]
  },
  {
   "cell_type": "markdown",
   "id": "e31bb650-408d-4416-8083-a5e7ada9bf8d",
   "metadata": {},
   "source": [
    "---\n",
    "## 4) Gradient Boosting Machines (GBM)"
   ]
  },
  {
   "cell_type": "code",
   "execution_count": null,
   "id": "a8ba4b7a-3df6-4ed8-8c16-6b40b3ae4067",
   "metadata": {},
   "outputs": [],
   "source": [
    "param_grid_gbm = {\n",
    "    'n_estimators': [100, 200, 500],\n",
    "    'learning_rate': [0.01, 0.1, 0.2],\n",
    "    'max_depth': [3, 5, 7, 10],\n",
    "    'min_samples_split': [2, 10, 20],\n",
    "    'min_samples_leaf': [1, 5, 10],\n",
    "    'max_features': [None, 'sqrt', 'log2'],\n",
    "    'subsample': [0.8, 1.0]\n",
    "}"
   ]
  },
  {
   "cell_type": "code",
   "execution_count": null,
   "id": "6b14479d-0eb6-4d67-a21d-afe1f48b4e42",
   "metadata": {},
   "outputs": [],
   "source": [
    "# Start the timer\n",
    "start_time = time.time()"
   ]
  },
  {
   "cell_type": "code",
   "execution_count": null,
   "id": "74635f66-01a2-4a91-9626-6f4fe03fc5c6",
   "metadata": {},
   "outputs": [],
   "source": [
    "grid_search_gbm = GridSearchCV(estimator=GradientBoostingClassifier(), param_grid=param_grid_gbm, cv=3, scoring='accuracy', verbose=2, n_jobs=-1)\n",
    "grid_search_gbm.fit(X_resampled, y_resampled.values.ravel())\n",
    "best_params_gbm = grid_search_gbm.best_params_\n",
    "best_score_gbm = grid_search_gbm.best_score_\n",
    "\n",
    "print(\"Best parameters for Gradient Boosting Machine: \", best_params_gbm)\n",
    "print(\"Best score for Gradient Boosting Machine: \", best_score_gbm)"
   ]
  },
  {
   "cell_type": "code",
   "execution_count": null,
   "id": "8f6c5aac-a3b5-44d0-91f9-c8910e705c19",
   "metadata": {},
   "outputs": [],
   "source": [
    "end_time = time.time()\n",
    "\n",
    "execution_time = (end_time - start_time)/60\n",
    "\n",
    "print(f\"Hyperparameter tuning for GBM execution completed in {execution_time:.2f} minutes.\")"
   ]
  },
  {
   "cell_type": "code",
   "execution_count": null,
   "id": "f87ffbf7-0ccb-4c4f-aceb-6c8eea79d6ed",
   "metadata": {},
   "outputs": [],
   "source": [
    "# Evaluate Gradient Boosting Machine\n",
    "best_gbm = grid_search_gbm.best_estimator_\n",
    "y_pred_gbm = best_gbm.predict(X_test)\n",
    "\n",
    "print(\"Gradient Boosting Machine Accuracy: \", accuracy_score(y_test, y_pred_gbm))\n",
    "print(\"Gradient Boosting Machine Classification Report:\\n\", classification_report(y_test, y_pred_gbm))\n",
    "print(\"Gradient Boosting Machine Confusion Matrix:\\n\", confusion_matrix(y_test, y_pred_gbm))"
   ]
  },
  {
   "cell_type": "markdown",
   "id": "0f777a33-d937-4cd9-9faa-31433866c338",
   "metadata": {},
   "source": [
    "---\n",
    "## 5) XGBoost Classifier"
   ]
  },
  {
   "cell_type": "code",
   "execution_count": null,
   "id": "1774c466-11e6-420d-9423-ed66ddb5da0c",
   "metadata": {},
   "outputs": [],
   "source": [
    "param_grid_xgb = {\n",
    "    'n_estimators': [100, 200, 500],\n",
    "    'learning_rate': [0.01, 0.1, 0.2],\n",
    "    'max_depth': [3, 5, 7, 10],\n",
    "    'min_child_weight': [1, 5, 10],\n",
    "    'subsample': [0.8, 1.0],\n",
    "    'colsample_bytree': [0.8, 1.0],\n",
    "    'gamma': [0, 0.1, 0.2, 0.3]\n",
    "}"
   ]
  },
  {
   "cell_type": "code",
   "execution_count": null,
   "id": "7069a618-7530-4a3c-b23a-082f8b7ec8a2",
   "metadata": {},
   "outputs": [],
   "source": [
    "# Start the timer\n",
    "start_time = time.time()"
   ]
  },
  {
   "cell_type": "code",
   "execution_count": null,
   "id": "a9d17bd3-7d74-4616-9ae5-1a230b722df6",
   "metadata": {},
   "outputs": [],
   "source": [
    "grid_search_xgb = GridSearchCV(estimator=xgb.XGBClassifier(use_label_encoder=False, eval_metric='logloss'), param_grid=param_grid_xgb, cv=3, scoring='accuracy', verbose=2, n_jobs=-1)\n",
    "grid_search_xgb.fit(X_resampled, y_resampled.values.ravel())\n",
    "best_params_xgb = grid_search_xgb.best_params_\n",
    "best_score_xgb = grid_search_xgb.best_score_\n",
    "\n",
    "print(\"Best parameters for XGBoost: \", best_params_xgb)\n",
    "print(\"Best score for XGBoost: \", best_score_xgb)"
   ]
  },
  {
   "cell_type": "code",
   "execution_count": null,
   "id": "91702476-7b39-4ca9-880c-27da48264ed3",
   "metadata": {},
   "outputs": [],
   "source": [
    "end_time = time.time()\n",
    "\n",
    "execution_time = (end_time - start_time)/60\n",
    "\n",
    "print(f\"Hyperparameter tuning for XGBoost execution completed in {execution_time:.2f} minutes.\")"
   ]
  },
  {
   "cell_type": "code",
   "execution_count": null,
   "id": "bb6137a9-e219-4783-a970-3d3770aaab59",
   "metadata": {},
   "outputs": [],
   "source": [
    "# Evaluate XGBoost\n",
    "best_xgb = grid_search_xgb.best_estimator_\n",
    "y_pred_xgb = best_xgb.predict(X_test)\n",
    "\n",
    "print(\"XGBoost Accuracy: \", accuracy_score(y_test, y_pred_xgb))\n",
    "print(\"XGBoost Classification Report:\\n\", classification_report(y_test, y_pred_xgb))\n",
    "print(\"XGBoost Confusion Matrix:\\n\", confusion_matrix(y_test, y_pred_xgb))"
   ]
  }
 ],
 "metadata": {
  "kernelspec": {
   "display_name": "Python 3 (ipykernel)",
   "language": "python",
   "name": "python3"
  },
  "language_info": {
   "codemirror_mode": {
    "name": "ipython",
    "version": 3
   },
   "file_extension": ".py",
   "mimetype": "text/x-python",
   "name": "python",
   "nbconvert_exporter": "python",
   "pygments_lexer": "ipython3",
   "version": "3.9.19"
  }
 },
 "nbformat": 4,
 "nbformat_minor": 5
}
