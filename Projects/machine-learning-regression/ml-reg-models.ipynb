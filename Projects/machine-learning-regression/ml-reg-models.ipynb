{
 "cells": [
  {
   "cell_type": "code",
   "execution_count": 1,
   "id": "12d95c51-ec7b-4fe7-a342-778933f0930c",
   "metadata": {},
   "outputs": [],
   "source": [
    "import pandas as pd\n",
    "import numpy as np\n",
    "from sklearn.preprocessing import StandardScaler\n",
    "\n",
    "from sklearn.linear_model import LinearRegression\n",
    "from sklearn.tree import DecisionTreeRegressor\n",
    "from sklearn.ensemble import RandomForestRegressor, GradientBoostingRegressor\n",
    "from sklearn.svm import SVR\n",
    "\n",
    "from sklearn.metrics import mean_squared_error, mean_absolute_error, r2_score"
   ]
  },
  {
   "cell_type": "code",
   "execution_count": 2,
   "id": "8451ba2d-0024-488f-8d7b-82308eba6266",
   "metadata": {},
   "outputs": [],
   "source": [
    "X_train = pd.read_csv('dataset/X_train.csv')\n",
    "y_train = pd.read_csv('dataset/y_train.csv')\n",
    "X_test = pd.read_csv('dataset/X_test.csv')\n",
    "y_test = pd.read_csv('dataset/y_test.csv')"
   ]
  },
  {
   "cell_type": "code",
   "execution_count": 3,
   "id": "530b5827-aa8d-4bb0-a24a-6f002feef04c",
   "metadata": {},
   "outputs": [
    {
     "data": {
      "text/plain": [
       "((486, 24), (486, 1))"
      ]
     },
     "execution_count": 3,
     "metadata": {},
     "output_type": "execute_result"
    }
   ],
   "source": [
    "X_train.shape, y_train.shape"
   ]
  },
  {
   "cell_type": "code",
   "execution_count": 4,
   "id": "668ba193-79de-4020-b60a-1f8143f1d296",
   "metadata": {},
   "outputs": [
    {
     "data": {
      "text/plain": [
       "((163, 24), (163, 1))"
      ]
     },
     "execution_count": 4,
     "metadata": {},
     "output_type": "execute_result"
    }
   ],
   "source": [
    "X_test.shape,y_test.shape,"
   ]
  },
  {
   "cell_type": "markdown",
   "id": "6b0f6f59-ce32-48f6-9ca9-a645f25ae827",
   "metadata": {},
   "source": [
    "#### Standardization - The process of transforming data features to have a mean of zero and a standard deviation of one"
   ]
  },
  {
   "cell_type": "code",
   "execution_count": 5,
   "id": "2897c8b5-ad61-41f3-9ae1-d3b367ae02f5",
   "metadata": {},
   "outputs": [],
   "source": [
    "scaler = StandardScaler()\n",
    "X_train_scaled = scaler.fit_transform(X_train)\n",
    "X_test_scaled = scaler.transform(X_test)"
   ]
  },
  {
   "cell_type": "markdown",
   "id": "9a7e1f2c-68c9-4fb5-8df2-c3fb32b99ce8",
   "metadata": {},
   "source": [
    "#### Standardize the target variable"
   ]
  },
  {
   "cell_type": "code",
   "execution_count": 6,
   "id": "853cef42-4274-48ab-9430-dca0d7dfba76",
   "metadata": {},
   "outputs": [],
   "source": [
    "scaler_y = StandardScaler()\n",
    "y_train_scaled = scaler_y.fit_transform(y_train.values.reshape(-1, 1))\n",
    "y_test_scaled = scaler_y.transform(y_test.values.reshape(-1, 1))"
   ]
  },
  {
   "cell_type": "markdown",
   "id": "c0533f01-310c-4910-bfef-494783e6509e",
   "metadata": {},
   "source": [
    "## Models Training"
   ]
  },
  {
   "cell_type": "markdown",
   "id": "fdc3b593-0f8c-4166-bf1f-808d9be7a9e9",
   "metadata": {},
   "source": [
    "### 1. Linear Regression"
   ]
  },
  {
   "cell_type": "code",
   "execution_count": 7,
   "id": "dfd8ae5c-671e-4718-b39e-0c6911f72ce3",
   "metadata": {},
   "outputs": [
    {
     "name": "stdout",
     "output_type": "stream",
     "text": [
      "Linear Regression - MSE: 0.1774958123337091, MAE: 0.2674169876577753, R2: 0.8292886738610973\n"
     ]
    }
   ],
   "source": [
    "# Initialize and train the model\n",
    "lr_model = LinearRegression()\n",
    "lr_model.fit(X_train_scaled, y_train_scaled)\n",
    "\n",
    "# Predictions\n",
    "y_pred_lr = lr_model.predict(X_test_scaled)\n",
    "\n",
    "# Evaluation\n",
    "mse_lr = mean_squared_error(y_test_scaled, y_pred_lr)\n",
    "mae_lr = mean_absolute_error(y_test_scaled, y_pred_lr)\n",
    "r2_lr = r2_score(y_test_scaled, y_pred_lr)\n",
    "\n",
    "print(f\"Linear Regression - MSE: {mse_lr}, MAE: {mae_lr}, R2: {r2_lr}\")"
   ]
  },
  {
   "cell_type": "markdown",
   "id": "a2601ce0-2220-4672-9fc1-c0f10a8146ec",
   "metadata": {},
   "source": [
    "### 2. Decision Tree Regressor"
   ]
  },
  {
   "cell_type": "code",
   "execution_count": 8,
   "id": "8ac9f61a-755a-4f99-95be-9764d63c7864",
   "metadata": {},
   "outputs": [
    {
     "name": "stdout",
     "output_type": "stream",
     "text": [
      "Decision Tree Regression - MSE: 4.134969325153374, MAE: 1.165644171779141, R²: 0.6142350503880052\n"
     ]
    }
   ],
   "source": [
    "# Initialize and train the model\n",
    "dt_model = DecisionTreeRegressor(random_state=42)\n",
    "dt_model.fit(X_train, y_train)\n",
    "\n",
    "# Predictions\n",
    "y_pred_dt = dt_model.predict(X_test)\n",
    "\n",
    "# Evaluation\n",
    "mse_dt = mean_squared_error(y_test, y_pred_dt)\n",
    "mae_dt = mean_absolute_error(y_test, y_pred_dt)\n",
    "r2_dt = r2_score(y_test, y_pred_dt)\n",
    "\n",
    "print(f\"Decision Tree Regression - MSE: {mse_dt}, MAE: {mae_dt}, R²: {r2_dt}\")"
   ]
  },
  {
   "cell_type": "markdown",
   "id": "5c488889-f0bb-471c-83db-120ba4e3ab7d",
   "metadata": {},
   "source": [
    "### 3. Random Forest Regressor"
   ]
  },
  {
   "cell_type": "code",
   "execution_count": 9,
   "id": "77bd4436-05e7-4eca-b82d-e7b665dd4b92",
   "metadata": {},
   "outputs": [
    {
     "name": "stdout",
     "output_type": "stream",
     "text": [
      "Random Forest Regression - MSE: 2.026892024539878, MAE: 0.8390184049079754, R²: 0.8109045465079532\n"
     ]
    }
   ],
   "source": [
    "# Initialize and train the model\n",
    "rf_model = RandomForestRegressor(random_state=42)\n",
    "rf_model.fit(X_train, y_train.values.ravel())\n",
    "\n",
    "# Predictions\n",
    "y_pred_rf = rf_model.predict(X_test)\n",
    "\n",
    "# Evaluation\n",
    "mse_rf = mean_squared_error(y_test, y_pred_rf)\n",
    "mae_rf = mean_absolute_error(y_test, y_pred_rf)\n",
    "r2_rf = r2_score(y_test, y_pred_rf)\n",
    "\n",
    "print(f\"Random Forest Regression - MSE: {mse_rf}, MAE: {mae_rf}, R²: {r2_rf}\")"
   ]
  },
  {
   "cell_type": "markdown",
   "id": "c5cee1b8-5cf8-4057-b8f4-7ab4f4ba6fb1",
   "metadata": {},
   "source": [
    "### 4. Gradient Boosting Regressor"
   ]
  },
  {
   "cell_type": "code",
   "execution_count": 10,
   "id": "89f89340-9c74-49fe-a72b-b0c01861862c",
   "metadata": {},
   "outputs": [
    {
     "name": "stdout",
     "output_type": "stream",
     "text": [
      "Gradient Boosting Regression - MSE: 2.176110440833129, MAE: 0.8941053163563203, R²: 0.7969834674584944\n"
     ]
    }
   ],
   "source": [
    "# Initialize and train the model\n",
    "gb_model = GradientBoostingRegressor(random_state=42)\n",
    "gb_model.fit(X_train, y_train.values.ravel())\n",
    "\n",
    "# Predictions\n",
    "y_pred_gb = gb_model.predict(X_test)\n",
    "\n",
    "# Evaluation\n",
    "mse_gb = mean_squared_error(y_test, y_pred_gb)\n",
    "mae_gb = mean_absolute_error(y_test, y_pred_gb)\n",
    "r2_gb = r2_score(y_test, y_pred_gb)\n",
    "\n",
    "print(f\"Gradient Boosting Regression - MSE: {mse_gb}, MAE: {mae_gb}, R²: {r2_gb}\")"
   ]
  },
  {
   "cell_type": "markdown",
   "id": "d2939672-f0c7-473f-a845-18dcc3bf71fb",
   "metadata": {},
   "source": [
    "### 5. Support Vector Regressor"
   ]
  },
  {
   "cell_type": "code",
   "execution_count": 11,
   "id": "6ea18234-4d28-4d55-9eed-cdb694e5a115",
   "metadata": {},
   "outputs": [
    {
     "name": "stdout",
     "output_type": "stream",
     "text": [
      "Support Vector Regression - MSE: 3.4885535044804428, MAE: 1.0319264093525122, R²: 0.6745413179516806\n"
     ]
    }
   ],
   "source": [
    "# Initialize and train the model\n",
    "svr_model = SVR()\n",
    "svr_model.fit(X_train_scaled, y_train.values.ravel())\n",
    "\n",
    "# Predictions\n",
    "y_pred_svr = svr_model.predict(X_test_scaled)\n",
    "\n",
    "# Evaluation\n",
    "mse_svr = mean_squared_error(y_test, y_pred_svr)\n",
    "mae_svr = mean_absolute_error(y_test, y_pred_svr)\n",
    "r2_svr = r2_score(y_test, y_pred_svr)\n",
    "\n",
    "print(f\"Support Vector Regression - MSE: {mse_svr}, MAE: {mae_svr}, R²: {r2_svr}\")"
   ]
  },
  {
   "cell_type": "markdown",
   "id": "1325f4ba-e482-4904-a0c8-92af68911ca4",
   "metadata": {},
   "source": [
    "##### Linear Regression is the best model as it has the lowest Mean Squared Error (MSE), a relatively low Mean Absolute Error (MAE), and the highest R-squared (R²) value."
   ]
  },
  {
   "cell_type": "markdown",
   "id": "9693cb8e-60ed-4deb-99f0-279c545fa9e1",
   "metadata": {},
   "source": [
    "#### saving the model and the scaler file for deployment"
   ]
  },
  {
   "cell_type": "code",
   "execution_count": 12,
   "id": "bbce1759-46ea-44ea-8b73-edcc54853055",
   "metadata": {},
   "outputs": [],
   "source": [
    "import pickle"
   ]
  },
  {
   "cell_type": "code",
   "execution_count": 13,
   "id": "518c097f-eb23-40be-ab1a-81bbf0026b2c",
   "metadata": {},
   "outputs": [],
   "source": [
    "pickle.dump(lr_model, open('deploy/log_reg_model.pkl', 'wb'))"
   ]
  },
  {
   "cell_type": "code",
   "execution_count": 14,
   "id": "c993bbde-35cb-46c0-910c-97dce6286b07",
   "metadata": {},
   "outputs": [],
   "source": [
    "pickle.dump(scaler, open('deploy/log_reg_scaler.pkl', 'wb'))"
   ]
  },
  {
   "cell_type": "code",
   "execution_count": 15,
   "id": "b2dead99-c12f-4442-8c4a-6c623ef5fc64",
   "metadata": {},
   "outputs": [],
   "source": [
    "pickle.dump(scaler_y, open('deploy/log_reg_scaler_y.pkl', 'wb'))"
   ]
  },
  {
   "cell_type": "code",
   "execution_count": 16,
   "id": "187d791c-2b80-4638-ab63-da04df4809fa",
   "metadata": {},
   "outputs": [],
   "source": [
    "pickled_model = pickle.load(open('deploy/log_reg_model.pkl', 'rb'))"
   ]
  },
  {
   "cell_type": "code",
   "execution_count": 17,
   "id": "ccf7bc02-e35c-4daf-91d2-8302a78a3d60",
   "metadata": {},
   "outputs": [],
   "source": [
    "pickled_scaler = pickle.load(open('deploy/log_reg_scaler.pkl', 'rb'))"
   ]
  },
  {
   "cell_type": "code",
   "execution_count": 18,
   "id": "827169bc-c62f-4335-811d-f20fb6a25df5",
   "metadata": {},
   "outputs": [],
   "source": [
    "pickled_scaler_y = pickle.load(open('deploy/log_reg_scaler_y.pkl', 'rb'))"
   ]
  },
  {
   "cell_type": "code",
   "execution_count": 19,
   "id": "4769f061-7725-4912-8917-0902be9e4a07",
   "metadata": {},
   "outputs": [],
   "source": [
    "y_pred_lr_pickled = pickled_model.predict(X_test_scaled)"
   ]
  },
  {
   "cell_type": "code",
   "execution_count": 20,
   "id": "e218ebdb-709c-4971-ad22-06e815c7acf8",
   "metadata": {},
   "outputs": [
    {
     "name": "stdout",
     "output_type": "stream",
     "text": [
      "Pickled Linear Regression - MSE: 0.1774958123337091, MAE: 0.2674169876577753, R2: 0.8292886738610973\n"
     ]
    }
   ],
   "source": [
    "# Evaluation\n",
    "mse_lr_pickled = mean_squared_error(y_test_scaled, y_pred_lr_pickled)\n",
    "mae_lr_pickled = mean_absolute_error(y_test_scaled, y_pred_lr_pickled)\n",
    "r2_lr_pickled = r2_score(y_test_scaled, y_pred_lr_pickled)\n",
    "\n",
    "print(f\"Pickled Linear Regression - MSE: {mse_lr_pickled}, MAE: {mae_lr_pickled}, R2: {r2_lr_pickled}\")"
   ]
  },
  {
   "cell_type": "code",
   "execution_count": 21,
   "id": "47b393ab-296b-4258-9e39-dfcd9b98a8c1",
   "metadata": {},
   "outputs": [],
   "source": [
    "input_data = np.array([[0,18,0,4,4,0,4,0,0,2,2,0,0,1,0,4,3,4,1,1,3,4,0,11]])\n",
    "#input_data = np.array([[0,0,18,0,0,0,4,4,0,4,0,0,2,2,0,1,0,0,0,1,1,0,0,4,3,4,1,1,3,4,0,11]])"
   ]
  },
  {
   "cell_type": "code",
   "execution_count": 22,
   "id": "1860747a-a2fb-4ecf-be9e-54478e741446",
   "metadata": {},
   "outputs": [
    {
     "name": "stderr",
     "output_type": "stream",
     "text": [
      "/home/linuxfords/miniconda3/envs/ml-reg/lib/python3.11/site-packages/sklearn/base.py:493: UserWarning: X does not have valid feature names, but StandardScaler was fitted with feature names\n",
      "  warnings.warn(\n"
     ]
    }
   ],
   "source": [
    "# Standardize the new data using the same scaler\n",
    "input_data_scaled = scaler.transform(input_data)"
   ]
  },
  {
   "cell_type": "code",
   "execution_count": 23,
   "id": "527f8547-79e4-4e64-9387-b6cb895bbf90",
   "metadata": {},
   "outputs": [
    {
     "name": "stdout",
     "output_type": "stream",
     "text": [
      "[[-0.61963511]]\n"
     ]
    }
   ],
   "source": [
    "# Make predictions\n",
    "predictions_scaled = pickled_model.predict(input_data_scaled)\n",
    "print(predictions_scaled)"
   ]
  },
  {
   "cell_type": "code",
   "execution_count": 24,
   "id": "aaa20f21-d99f-45c0-bd55-2adc3ef55574",
   "metadata": {},
   "outputs": [
    {
     "name": "stdout",
     "output_type": "stream",
     "text": [
      "[[9.97138726]]\n"
     ]
    }
   ],
   "source": [
    "# Convert the predictions back to the original scale\n",
    "predictions_original = scaler_y.inverse_transform(predictions_scaled)\n",
    "print(predictions_original)"
   ]
  },
  {
   "cell_type": "code",
   "execution_count": null,
   "id": "41633c4d-b195-42e5-b2c2-c24a84a93608",
   "metadata": {},
   "outputs": [],
   "source": []
  }
 ],
 "metadata": {
  "kernelspec": {
   "display_name": "Python 3 (ipykernel)",
   "language": "python",
   "name": "python3"
  },
  "language_info": {
   "codemirror_mode": {
    "name": "ipython",
    "version": 3
   },
   "file_extension": ".py",
   "mimetype": "text/x-python",
   "name": "python",
   "nbconvert_exporter": "python",
   "pygments_lexer": "ipython3",
   "version": "3.11.9"
  }
 },
 "nbformat": 4,
 "nbformat_minor": 5
}
